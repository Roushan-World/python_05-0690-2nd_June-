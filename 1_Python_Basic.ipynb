{
 "cells": [
  {
   "cell_type": "code",
   "execution_count": 1,
   "id": "c4fec1b9-e3a6-4ec9-a4b8-e2d44919b439",
   "metadata": {},
   "outputs": [
    {
     "name": "stdout",
     "output_type": "stream",
     "text": [
      "Hello world\n"
     ]
    }
   ],
   "source": [
    "# print is a keyword to display the output in python\n",
    "print('Hello world')"
   ]
  },
  {
   "cell_type": "code",
   "execution_count": 2,
   "id": "f1c21ecb-37af-46d6-ab21-d23e88f35438",
   "metadata": {},
   "outputs": [
    {
     "name": "stdout",
     "output_type": "stream",
     "text": [
      "Charu\n"
     ]
    }
   ],
   "source": [
    "print('Charu')"
   ]
  },
  {
   "cell_type": "code",
   "execution_count": 3,
   "id": "1c225c68-55c1-4a51-baa5-af0330060dd7",
   "metadata": {},
   "outputs": [
    {
     "ename": "NameError",
     "evalue": "name 'charu' is not defined",
     "output_type": "error",
     "traceback": [
      "\u001b[1;31m---------------------------------------------------------------------------\u001b[0m",
      "\u001b[1;31mNameError\u001b[0m                                 Traceback (most recent call last)",
      "Cell \u001b[1;32mIn[3], line 2\u001b[0m\n\u001b[0;32m      1\u001b[0m \u001b[38;5;66;03m# string is always written in quotes.\u001b[39;00m\n\u001b[1;32m----> 2\u001b[0m \u001b[38;5;28mprint\u001b[39m(\u001b[43mcharu\u001b[49m)\n",
      "\u001b[1;31mNameError\u001b[0m: name 'charu' is not defined"
     ]
    }
   ],
   "source": [
    "# string is always written in quotes.\n",
    "print(charu)"
   ]
  },
  {
   "cell_type": "code",
   "execution_count": 6,
   "id": "e9f58cdd-378c-44e7-b810-8bd0d12f51af",
   "metadata": {},
   "outputs": [],
   "source": [
    "# True has a some value i.e = 1"
   ]
  },
  {
   "cell_type": "code",
   "execution_count": 5,
   "id": "ca56c314-6a53-44d3-904e-ac689d945965",
   "metadata": {},
   "outputs": [],
   "source": [
    "# How to check your python version using python command\n",
    "import sys"
   ]
  },
  {
   "cell_type": "code",
   "execution_count": 7,
   "id": "ac5f0a4c-7ed4-4317-a439-17027d130c33",
   "metadata": {},
   "outputs": [
    {
     "name": "stdout",
     "output_type": "stream",
     "text": [
      "3.12.2 (tags/v3.12.2:6abddd9, Feb  6 2024, 21:26:36) [MSC v.1937 64 bit (AMD64)]\n"
     ]
    }
   ],
   "source": [
    "print(sys.version)"
   ]
  },
  {
   "cell_type": "markdown",
   "id": "8be6b28b-d014-4de9-b37a-8f6002ffbedc",
   "metadata": {},
   "source": [
    "# comment"
   ]
  },
  {
   "cell_type": "code",
   "execution_count": 9,
   "id": "21e1e7d5-a370-40f8-83b2-32c335f14283",
   "metadata": {},
   "outputs": [],
   "source": [
    "# How to write comment in Python\n",
    "\n",
    "# It is a comment line\n",
    "# print('Hello World')"
   ]
  },
  {
   "cell_type": "markdown",
   "id": "5c0316ac-a96c-4106-be58-fe9a6ace5254",
   "metadata": {},
   "source": [
    "# Getting Error in Python"
   ]
  },
  {
   "cell_type": "code",
   "execution_count": 11,
   "id": "67badcbd-2fcb-44c9-9ec1-e1b91c8fa149",
   "metadata": {},
   "outputs": [
    {
     "name": "stdout",
     "output_type": "stream",
     "text": [
      "Hello world\n",
      "Hi python\n",
      "Congratulation\n"
     ]
    },
    {
     "ename": "NameError",
     "evalue": "name 'Welcome' is not defined",
     "output_type": "error",
     "traceback": [
      "\u001b[1;31m---------------------------------------------------------------------------\u001b[0m",
      "\u001b[1;31mNameError\u001b[0m                                 Traceback (most recent call last)",
      "Cell \u001b[1;32mIn[11], line 4\u001b[0m\n\u001b[0;32m      2\u001b[0m \u001b[38;5;28mprint\u001b[39m(\u001b[38;5;124m'\u001b[39m\u001b[38;5;124mHi python\u001b[39m\u001b[38;5;124m'\u001b[39m)\n\u001b[0;32m      3\u001b[0m \u001b[38;5;28mprint\u001b[39m(\u001b[38;5;124m'\u001b[39m\u001b[38;5;124mCongratulation\u001b[39m\u001b[38;5;124m'\u001b[39m)\n\u001b[1;32m----> 4\u001b[0m \u001b[38;5;28mprint\u001b[39m(\u001b[43mWelcome\u001b[49m)\n\u001b[0;32m      5\u001b[0m \u001b[38;5;28mprint\u001b[39m(\u001b[38;5;124m'\u001b[39m\u001b[38;5;124mPython is the programming language.\u001b[39m\u001b[38;5;124m'\u001b[39m)\n",
      "\u001b[1;31mNameError\u001b[0m: name 'Welcome' is not defined"
     ]
    }
   ],
   "source": [
    "print('Hello world')\n",
    "print('Hi python')\n",
    "print('Congratulation')\n",
    "print(Welcome)\n",
    "print('Python is the programming language.')"
   ]
  },
  {
   "cell_type": "code",
   "execution_count": 17,
   "id": "e39f9439-3359-4684-ad07-e0e5ad3bfe52",
   "metadata": {},
   "outputs": [
    {
     "name": "stdout",
     "output_type": "stream",
     "text": [
      "Hello world\n",
      "Hi python\n",
      "Congratulation\n",
      "Welcome\n",
      "Python is the programming language.\n"
     ]
    }
   ],
   "source": [
    "print('Hello world')\n",
    "print('Hi python')\n",
    "print('Congratulation')\n",
    "print('Welcome')\n",
    "print('Python is the programming language.')"
   ]
  },
  {
   "cell_type": "code",
   "execution_count": 18,
   "id": "89eab2ae-bd50-4ca7-967d-b38454a2ea7f",
   "metadata": {},
   "outputs": [],
   "source": [
    "# Quotes are of three types\n",
    "# 1. single quotes i.e- ''\n",
    "# 2. double quotes i.e - \"\"\n",
    "# 3. thiple quotes i.e - '''   '''   \"\"\"   \"\"\""
   ]
  },
  {
   "cell_type": "code",
   "execution_count": 19,
   "id": "392dcaac-edce-4335-a87f-4720ba0a7c1e",
   "metadata": {},
   "outputs": [
    {
     "name": "stdout",
     "output_type": "stream",
     "text": [
      "Hello world\n",
      "Hello world\n",
      "Hello world\n"
     ]
    }
   ],
   "source": [
    "print('Hello world')\n",
    "print(\"Hello world\")\n",
    "print(\"\"\"Hello world\"\"\")"
   ]
  },
  {
   "cell_type": "code",
   "execution_count": 21,
   "id": "da065ab6-3b10-468c-b0fe-aefc8276c653",
   "metadata": {},
   "outputs": [
    {
     "ename": "SyntaxError",
     "evalue": "unterminated string literal (detected at line 3) (1052234982.py, line 3)",
     "output_type": "error",
     "traceback": [
      "\u001b[1;36m  Cell \u001b[1;32mIn[21], line 3\u001b[1;36m\u001b[0m\n\u001b[1;33m    print('What's your name?')\u001b[0m\n\u001b[1;37m                            ^\u001b[0m\n\u001b[1;31mSyntaxError\u001b[0m\u001b[1;31m:\u001b[0m unterminated string literal (detected at line 3)\n"
     ]
    }
   ],
   "source": [
    "# uses of single and double quotes\n",
    "\n",
    "print('What's your name?')"
   ]
  },
  {
   "cell_type": "code",
   "execution_count": 22,
   "id": "1557e5db-52c3-4ce8-ae73-420dcf0849b2",
   "metadata": {},
   "outputs": [
    {
     "name": "stdout",
     "output_type": "stream",
     "text": [
      "What's your name?\n"
     ]
    }
   ],
   "source": [
    "print(\"What's your name?\")"
   ]
  },
  {
   "cell_type": "code",
   "execution_count": 23,
   "id": "a9bef839-7972-42ab-8414-5428e53fe596",
   "metadata": {},
   "outputs": [
    {
     "name": "stdout",
     "output_type": "stream",
     "text": [
      "What\"s your name?\n"
     ]
    }
   ],
   "source": [
    "print('What\"s your name?')"
   ]
  },
  {
   "cell_type": "markdown",
   "id": "93bb0be4-f6e6-4cbf-ae34-eaf15391ea26",
   "metadata": {},
   "source": [
    "# Basic Data Types in Python\n",
    "* __1.Number__\n",
    "  * __i.Integer__\n",
    "  * __ii.Float__\n",
    "  * __iii.Complex Number__\n",
    "* __2.Dictionary__\n",
    "* __3.Set__\n",
    "  * __i. Union__\n",
    "  * __ii.Intersection__\n",
    "  * __iii.Difference__\n",
    "  * __iv.Symmetric Difference__\n",
    "* __4.Boolean__\n",
    "  * __i.True__\n",
    "  * __ii.False__\n",
    "* __5. Sequence__\n",
    "  * __i.String__\n",
    "  * __ii.List__\n",
    "  * __iii.Tuple__"
   ]
  },
  {
   "cell_type": "code",
   "execution_count": 34,
   "id": "104bb5b1-3dc0-41ce-8e2e-b5ccec3bd2e1",
   "metadata": {},
   "outputs": [
    {
     "name": "stdout",
     "output_type": "stream",
     "text": [
      "Hello world\n",
      "100\n",
      "@#$%^&\n",
      "789.02\n",
      "100\n",
      "2000\n",
      "10\n",
      "100.23\n",
      "145.56\n",
      "0.23\n",
      "True\n",
      "False\n"
     ]
    }
   ],
   "source": [
    "# String\n",
    "print('Hello world')\n",
    "print('100')\n",
    "print('@#$%^&')\n",
    "print('789.02')\n",
    "\n",
    "# 2. Number : put value without quotes\n",
    "# Integer\n",
    "print(100)\n",
    "print(2000)\n",
    "print(10)\n",
    "\n",
    "# float\n",
    "print(100.23)\n",
    "print(145.56)\n",
    "print(00.23)\n",
    "\n",
    "# Boolean\n",
    "print(True)\n",
    "print(False)\n"
   ]
  },
  {
   "cell_type": "code",
   "execution_count": 47,
   "id": "cadd1fa5-85b2-46f6-b083-c3f984e81636",
   "metadata": {},
   "outputs": [
    {
     "name": "stdout",
     "output_type": "stream",
     "text": [
      "Charu Kulshrestha\n",
      "<class 'str'>\n",
      "100\n",
      "<class 'str'>\n",
      "!@#$%\n",
      "<class 'str'>\n",
      "100\n",
      "<class 'int'>\n",
      "1000\n",
      "<class 'int'>\n",
      "123.02\n",
      "<class 'float'>\n",
      "0.0\n",
      "<class 'float'>\n",
      "True\n",
      "<class 'bool'>\n",
      "False\n",
      "<class 'bool'>\n"
     ]
    }
   ],
   "source": [
    "# Check the datatype in python using type function\n",
    "# string form data\n",
    "print('Charu Kulshrestha')\n",
    "print(type('Charu Kulshrestha'))\n",
    "\n",
    "print('100')\n",
    "print(type('100'))\n",
    "print('!@#$%')\n",
    "print(type('!@#$%'))\n",
    "\n",
    "\n",
    "# number\n",
    "# integer\n",
    "print(100)\n",
    "print(type(100))\n",
    "print(1000)\n",
    "print(type(1000))\n",
    "\n",
    "#float\n",
    "print(123.02)\n",
    "print(type(123.02))\n",
    "print(00.00)\n",
    "print(type(00.00))\n",
    "\n",
    "# Boolean\n",
    "print(True)\n",
    "print(type(True))\n",
    "print(False)\n",
    "print(type(False))"
   ]
  },
  {
   "cell_type": "code",
   "execution_count": 52,
   "id": "0b83c6da-fe0e-44a1-bbd6-835fc6799fa9",
   "metadata": {},
   "outputs": [
    {
     "name": "stdout",
     "output_type": "stream",
     "text": [
      "1\n",
      "0\n"
     ]
    }
   ],
   "source": [
    "print(int(True))\n",
    "print(int(False))"
   ]
  },
  {
   "cell_type": "code",
   "execution_count": 56,
   "id": "413dc7a4-f611-4ce8-a9c9-7869d6c50c7a",
   "metadata": {},
   "outputs": [
    {
     "name": "stdout",
     "output_type": "stream",
     "text": [
      "100\n",
      "<class 'int'>\n"
     ]
    }
   ],
   "source": [
    "# Variable and constant\n",
    "x=100\n",
    "print(x)\n",
    "print(type(x))"
   ]
  },
  {
   "cell_type": "code",
   "execution_count": 62,
   "id": "048989ce-9c11-42e2-ba58-8efedf1e4f55",
   "metadata": {},
   "outputs": [
    {
     "name": "stdout",
     "output_type": "stream",
     "text": [
      "100\n",
      "<class 'int'>\n",
      "100.0\n",
      "<class 'float'>\n"
     ]
    }
   ],
   "source": [
    "x_1=100\n",
    "print(x_1)\n",
    "print(type(x_1))\n",
    "# converting integer form data into float\n",
    "y=float(x_1)\n",
    "print(y)\n",
    "print(type(y))\n"
   ]
  },
  {
   "cell_type": "code",
   "execution_count": 5,
   "id": "a40c3fd7-765b-4081-9fbb-de580c5088d9",
   "metadata": {},
   "outputs": [
    {
     "name": "stdout",
     "output_type": "stream",
     "text": [
      "True\n",
      "<class 'bool'>\n",
      "1\n",
      "<class 'int'>\n",
      "1.0\n",
      "<class 'float'>\n",
      "True\n",
      "<class 'str'>\n"
     ]
    }
   ],
   "source": [
    "bool1=True\n",
    "print(bool1)\n",
    "print(type(bool1))\n",
    "\n",
    "# integer and float\n",
    "print(int(bool1))\n",
    "print(type(int(bool1)))\n",
    "\n",
    "# float\n",
    "print(float(bool1))\n",
    "print(type(float(bool1)))\n",
    "\n",
    "# string\n",
    "print(str(bool1))\n",
    "print(type(str(bool1)))"
   ]
  },
  {
   "cell_type": "code",
   "execution_count": 9,
   "id": "f2105ccb-b0d6-40a2-95a1-63b0227adc4d",
   "metadata": {},
   "outputs": [
    {
     "name": "stdout",
     "output_type": "stream",
     "text": [
      "False\n",
      "<class 'bool'>\n",
      "0\n",
      "<class 'int'>\n",
      "0.0\n",
      "<class 'float'>\n",
      "False\n",
      "<class 'str'>\n"
     ]
    }
   ],
   "source": [
    "# False\n",
    "bool2=False\n",
    "print(bool2)\n",
    "print(type(bool2))\n",
    "\n",
    "\n",
    "# integer \n",
    "print(int(bool2))\n",
    "print(type(int(bool2)))\n",
    "# float\n",
    "print(float(bool2))\n",
    "print(type(float(bool2)))\n",
    "\n",
    "\n",
    "# string\n",
    "print(str(bool2))\n",
    "print(type(str(bool2)))"
   ]
  },
  {
   "cell_type": "markdown",
   "id": "e228d027-c822-4374-9b2b-681acd9aeb57",
   "metadata": {},
   "source": [
    "# Let's find the data type in python"
   ]
  },
  {
   "cell_type": "code",
   "execution_count": 11,
   "id": "d587357c-92f8-4661-a02d-89d0613fcb0e",
   "metadata": {},
   "outputs": [
    {
     "name": "stdout",
     "output_type": "stream",
     "text": [
      "8\n",
      "<class 'int'>\n"
     ]
    }
   ],
   "source": [
    "# Addition\n",
    "x=25+78-95\n",
    "print(x)\n",
    "print(type(x))"
   ]
  },
  {
   "cell_type": "code",
   "execution_count": 12,
   "id": "952e05f6-2023-4122-93cc-4aebe7efa837",
   "metadata": {},
   "outputs": [
    {
     "name": "stdout",
     "output_type": "stream",
     "text": [
      "100\n",
      "<class 'int'>\n"
     ]
    }
   ],
   "source": [
    "# Substraction\n",
    "y=78-78+100\n",
    "print(y)\n",
    "print(type(y))"
   ]
  },
  {
   "cell_type": "code",
   "execution_count": 13,
   "id": "691942b2-5434-47ee-a55f-b7691288b6e7",
   "metadata": {},
   "outputs": [
    {
     "name": "stdout",
     "output_type": "stream",
     "text": [
      "5616\n",
      "<class 'int'>\n"
     ]
    }
   ],
   "source": [
    "# Multiplication\n",
    "y1=78*8*9\n",
    "print(y1)\n",
    "print(type(y1))"
   ]
  },
  {
   "cell_type": "code",
   "execution_count": 14,
   "id": "390c5e95-159e-4579-9103-a83dbd07c122",
   "metadata": {},
   "outputs": [
    {
     "name": "stdout",
     "output_type": "stream",
     "text": [
      "19.5\n",
      "<class 'float'>\n"
     ]
    }
   ],
   "source": [
    "# Division\n",
    "# float division\n",
    "y1=78/4\n",
    "print(y1)\n",
    "print(type(y1))"
   ]
  },
  {
   "cell_type": "code",
   "execution_count": 18,
   "id": "03b7026e-78bb-4f1c-a9d3-dafee5d21737",
   "metadata": {},
   "outputs": [
    {
     "name": "stdout",
     "output_type": "stream",
     "text": [
      "15\n",
      "<class 'int'>\n"
     ]
    }
   ],
   "source": [
    "y2=77//5\n",
    "print(y2)\n",
    "print(type(y2))\n"
   ]
  },
  {
   "cell_type": "code",
   "execution_count": 20,
   "id": "60d5b45a-b5c1-43da-8afa-d38ff67e9531",
   "metadata": {},
   "outputs": [
    {
     "name": "stdout",
     "output_type": "stream",
     "text": [
      "0\n",
      "<class 'int'>\n"
     ]
    }
   ],
   "source": [
    "# Modulus: It returns the remainder of the value.\n",
    "\n",
    "x=45%3\n",
    "print(x)\n",
    "print(type(x))"
   ]
  },
  {
   "cell_type": "code",
   "execution_count": 21,
   "id": "af7c82ec-07f2-4ae8-a957-84944253a742",
   "metadata": {},
   "outputs": [
    {
     "name": "stdout",
     "output_type": "stream",
     "text": [
      "1\n",
      "<class 'int'>\n"
     ]
    }
   ],
   "source": [
    "x2=45%4\n",
    "print(x2)\n",
    "print(type(x2))"
   ]
  },
  {
   "cell_type": "code",
   "execution_count": 23,
   "id": "f3a548da-5c1f-4f3a-bccd-4ac60938f41f",
   "metadata": {},
   "outputs": [
    {
     "name": "stdout",
     "output_type": "stream",
     "text": [
      "8\n",
      "<class 'int'>\n"
     ]
    }
   ],
   "source": [
    "# Exponent It has base and power\n",
    "\n",
    "y1=2**3  # 2 is the base of data and 3 is the power of 2\n",
    "print(y1)\n",
    "print(type(y1))"
   ]
  },
  {
   "cell_type": "code",
   "execution_count": 24,
   "id": "66d5b358-2623-41b8-be51-e0b4be7f6b0f",
   "metadata": {},
   "outputs": [
    {
     "name": "stdout",
     "output_type": "stream",
     "text": [
      "59049\n",
      "<class 'int'>\n"
     ]
    }
   ],
   "source": [
    "y3=3**10\n",
    "print(y3)\n",
    "print(type(y3))"
   ]
  },
  {
   "cell_type": "code",
   "execution_count": 1,
   "id": "3869b8f6-2e21-445b-9e16-33802f4ac959",
   "metadata": {},
   "outputs": [],
   "source": [
    "# x=10 [\"string\",'float']\n",
    "# x2=5.23 ['String','integer',]\n",
    "# x3=True ['string','integer','float']\n",
    "# x4=False ['string','integer','float']"
   ]
  },
  {
   "cell_type": "code",
   "execution_count": 3,
   "id": "74fde7ac-c79e-40a6-a846-997f850f257b",
   "metadata": {},
   "outputs": [
    {
     "name": "stdout",
     "output_type": "stream",
     "text": [
      "Total Minutes in 20 hrs: 1200 Minutes\n"
     ]
    }
   ],
   "source": [
    "# Let's calculate How many minutes are there are in 20 hrs.\n",
    "# -----------------------------------------------------------------\n",
    "one_hrs=60   # min\n",
    "hours= 20 # hrs\n",
    "minutes=one_hrs*hours\n",
    "print('Total Minutes in 20 hrs:',minutes,\"Minutes\")"
   ]
  },
  {
   "cell_type": "code",
   "execution_count": 4,
   "id": "174c01cf-f8aa-4af6-99c5-4686cdb1915f",
   "metadata": {},
   "outputs": [],
   "source": [
    "# Let's calculate how many hour are there are in 540 minutes."
   ]
  },
  {
   "cell_type": "code",
   "execution_count": 14,
   "id": "260adbfe-8343-4ff7-9d42-ad8e9c7a94c6",
   "metadata": {},
   "outputs": [
    {
     "name": "stdout",
     "output_type": "stream",
     "text": [
      "279\n",
      "7\n",
      "286\n",
      "272\n",
      "1953\n",
      "39.857142857142854\n",
      "39\n",
      "6\n",
      "131591980401875559\n"
     ]
    }
   ],
   "source": [
    "# Mathematical Expressions\n",
    "#--------------------------------\n",
    "x=45+78*3\n",
    "y=45+65+75-89*2\n",
    "\n",
    "print(x)\n",
    "print(y)\n",
    "\n",
    "print(x+y)\n",
    "print(x-y)\n",
    "print(x*y)\n",
    "print(x/y)\n",
    "print(x//y)\n",
    "print(x%y)\n",
    "print(x**y)"
   ]
  },
  {
   "cell_type": "code",
   "execution_count": null,
   "id": "d681a6ad-7414-4bb3-affe-bf822a733f43",
   "metadata": {},
   "outputs": [],
   "source": []
  }
 ],
 "metadata": {
  "kernelspec": {
   "display_name": "Python 3 (ipykernel)",
   "language": "python",
   "name": "python3"
  },
  "language_info": {
   "codemirror_mode": {
    "name": "ipython",
    "version": 3
   },
   "file_extension": ".py",
   "mimetype": "text/x-python",
   "name": "python",
   "nbconvert_exporter": "python",
   "pygments_lexer": "ipython3",
   "version": "3.12.2"
  }
 },
 "nbformat": 4,
 "nbformat_minor": 5
}
