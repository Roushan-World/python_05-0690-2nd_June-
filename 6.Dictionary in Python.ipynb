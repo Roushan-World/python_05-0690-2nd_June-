{
 "cells": [
  {
   "cell_type": "markdown",
   "id": "cc67dd95-f0d4-40db-94ab-e0324db28587",
   "metadata": {},
   "source": [
    "# 6. Dictionary in Python\n",
    "\n",
    " * __Dictionaries are used to store data values in key:value pairs.__\n",
    " * __A dictionary is a colleciton which is ordered, changeable or mutable and do not allow duplicates.__\n",
    " * __Dictionary items are present in key:value pair, and can be referred to by using the key name.__\n",
    " * __Dictionaries are changeable, meaning that we can change, add or remove items after the dictionary has been created.__\n",
    " * __Dictionaries cannot have two items with the same key.__\n",
    " * __A dictionary can nested and can contain another dictioanry.__\n",
    "    * __Key__:__value__\n",
    "    * __'name'__:__'Bob'__\n",
    "    * __'age'__:__25__\n",
    "    * __'job'__:__'Dev'__\n",
    "    * __'city'__:__'New York'__\n",
    "    * __'email'__:__'bob@web.com'__"
   ]
  },
  {
   "cell_type": "code",
   "execution_count": 7,
   "id": "3d1bf0bd-f9e7-42bb-995c-fcdc0242fa89",
   "metadata": {},
   "outputs": [
    {
     "name": "stdout",
     "output_type": "stream",
     "text": [
      "{'key_1': 3.14, 'key_2': 1.618, 'key_3': 'Hello world', 'key_4': True, 'key_5': False, 'key_6': {10, 20, 30}}\n",
      "<class 'dict'>\n"
     ]
    }
   ],
   "source": [
    "dict1={'key_1':3.14,'key_2':1.618,'key_3':'Hello world','key_4':True,\n",
    "      'key_5':False,'key_6':{10,20,30}}\n",
    "print(dict1)\n",
    "print(type(dict1))"
   ]
  },
  {
   "cell_type": "code",
   "execution_count": 8,
   "id": "5c327b06-9c79-4754-925f-fc7f6cf44635",
   "metadata": {},
   "outputs": [
    {
     "data": {
      "text/plain": [
       "{'key_1': 3.14,\n",
       " 'key_2': 1.618,\n",
       " 'key_3': 'Hello world',\n",
       " 'key_4': True,\n",
       " 'key_5': False,\n",
       " 'key_6': {10, 20, 30}}"
      ]
     },
     "execution_count": 8,
     "metadata": {},
     "output_type": "execute_result"
    }
   ],
   "source": [
    "dict1"
   ]
  },
  {
   "cell_type": "code",
   "execution_count": 15,
   "id": "51076b2e-ab39-44e4-823f-f2fa2a5f77eb",
   "metadata": {},
   "outputs": [
    {
     "name": "stdout",
     "output_type": "stream",
     "text": [
      "<class 'float'>\n",
      "<class 'float'>\n",
      "<class 'str'>\n",
      "<class 'bool'>\n",
      "<class 'bool'>\n",
      "<class 'set'>\n"
     ]
    }
   ],
   "source": [
    "# Check data of the value using key\n",
    "print(type(dict1['key_1']))\n",
    "print(type(dict1['key_2']))\n",
    "print(type(dict1['key_3']))\n",
    "print(type(dict1['key_4']))\n",
    "print(type(dict1['key_5']))\n",
    "print(type(dict1['key_6']))"
   ]
  },
  {
   "cell_type": "code",
   "execution_count": 20,
   "id": "36e9b645-1cbd-4cc7-8dc0-4c575f640af0",
   "metadata": {},
   "outputs": [
    {
     "data": {
      "text/plain": [
       "dict_keys(['key_1', 'key_2', 'key_3', 'key_4', 'key_5', 'key_6'])"
      ]
     },
     "execution_count": 20,
     "metadata": {},
     "output_type": "execute_result"
    }
   ],
   "source": [
    "# Total keys in dictionary using keys()\n",
    "dict1.keys()"
   ]
  },
  {
   "cell_type": "code",
   "execution_count": 21,
   "id": "679c1bbb-5b3a-4cd9-b338-1f0dd5f4706c",
   "metadata": {},
   "outputs": [
    {
     "data": {
      "text/plain": [
       "dict_values([3.14, 1.618, 'Hello world', True, False, {10, 20, 30}])"
      ]
     },
     "execution_count": 21,
     "metadata": {},
     "output_type": "execute_result"
    }
   ],
   "source": [
    "# Check total values in the dicitonary using value()\n",
    "dict1.values()"
   ]
  },
  {
   "cell_type": "code",
   "execution_count": 47,
   "id": "96f1328a-69f1-4783-b326-28549d0341a1",
   "metadata": {},
   "outputs": [
    {
     "data": {
      "text/plain": [
       "{'name': 'Charu',\n",
       " 'age': 35,\n",
       " 'email': 'charu@123gmail.com',\n",
       " 'contact': 789456123,\n",
       " 'address': 'Pune'}"
      ]
     },
     "execution_count": 47,
     "metadata": {},
     "output_type": "execute_result"
    }
   ],
   "source": [
    "dict1={'name':'Charu',\n",
    "      'age':35,\n",
    "      'email':'charu@123gmail.com',\n",
    "      'contact':789456123,\n",
    "      'address':'Pune'}\n",
    "dict1"
   ]
  },
  {
   "cell_type": "code",
   "execution_count": 27,
   "id": "f50ceab5-83b8-420b-9997-437973c7e21f",
   "metadata": {},
   "outputs": [
    {
     "name": "stdout",
     "output_type": "stream",
     "text": [
      "Charu\n",
      "35\n",
      "charu@123gmail.com\n",
      "789456123\n",
      "Pune\n"
     ]
    }
   ],
   "source": [
    "# Accessing value using get() method\n",
    "\n",
    "print(dict1.get('name'))\n",
    "print(dict1.get('age'))\n",
    "print(dict1.get('email'))\n",
    "print(dict1.get('contact'))\n",
    "print(dict1.get('address'))"
   ]
  },
  {
   "cell_type": "code",
   "execution_count": 25,
   "id": "e18df2d5-3298-48b8-b19e-2cd00d29d880",
   "metadata": {},
   "outputs": [
    {
     "data": {
      "text/plain": [
       "'Charu'"
      ]
     },
     "execution_count": 25,
     "metadata": {},
     "output_type": "execute_result"
    }
   ],
   "source": [
    "dict1['name']"
   ]
  },
  {
   "cell_type": "code",
   "execution_count": 30,
   "id": "4f4aa2f1-f460-4346-bef6-4d4f33796fac",
   "metadata": {},
   "outputs": [
    {
     "data": {
      "text/plain": [
       "{'name': 'Charu',\n",
       " 'age': 35,\n",
       " 'email': 'charu@123gmail.com',\n",
       " 'contact': 789456123,\n",
       " 'address': 'Pune',\n",
       " 'Occupation': 'Teaching'}"
      ]
     },
     "execution_count": 30,
     "metadata": {},
     "output_type": "execute_result"
    }
   ],
   "source": [
    "# Adding new element in the dictionary\n",
    "\n",
    "dict1['Occupation']='Teaching'\n",
    "dict1"
   ]
  },
  {
   "cell_type": "code",
   "execution_count": 31,
   "id": "afc849ae-43b6-4f51-a011-766ffaac86e9",
   "metadata": {},
   "outputs": [
    {
     "data": {
      "text/plain": [
       "{'name': 'Charu Kulshrestha',\n",
       " 'age': 35,\n",
       " 'email': 'charu@123gmail.com',\n",
       " 'contact': 789456123,\n",
       " 'address': 'Pune',\n",
       " 'Occupation': 'Teaching'}"
      ]
     },
     "execution_count": 31,
     "metadata": {},
     "output_type": "execute_result"
    }
   ],
   "source": [
    "# Updating the value\n",
    "dict1['name']=\"Charu Kulshrestha\"\n",
    "dict1"
   ]
  },
  {
   "cell_type": "code",
   "execution_count": 33,
   "id": "3ddd2832-390e-490a-ad1e-66118a84c0c4",
   "metadata": {},
   "outputs": [
    {
     "data": {
      "text/plain": [
       "{'name': 'Charu Kulshrestha',\n",
       " 'age': 35,\n",
       " 'email': 'charu@123gmail.com',\n",
       " 'address': 'Pune',\n",
       " 'Occupation': 'Teaching'}"
      ]
     },
     "execution_count": 33,
     "metadata": {},
     "output_type": "execute_result"
    }
   ],
   "source": [
    "# Deleting an element inside the dictioanry using del() method\n",
    "\n",
    "del(dict1['contact'])\n",
    "dict1"
   ]
  },
  {
   "cell_type": "markdown",
   "id": "6691b334-6a43-4299-9e7c-23ff45ac76cf",
   "metadata": {},
   "source": [
    " # membership operator [in or not in]"
   ]
  },
  {
   "cell_type": "code",
   "execution_count": 34,
   "id": "d64ef6f4-9e27-46c8-b584-42032ad8cf4a",
   "metadata": {},
   "outputs": [
    {
     "data": {
      "text/plain": [
       "{'name': 'Charu Kulshrestha',\n",
       " 'age': 35,\n",
       " 'email': 'charu@123gmail.com',\n",
       " 'address': 'Pune',\n",
       " 'Occupation': 'Teaching'}"
      ]
     },
     "execution_count": 34,
     "metadata": {},
     "output_type": "execute_result"
    }
   ],
   "source": [
    "dict1"
   ]
  },
  {
   "cell_type": "code",
   "execution_count": 39,
   "id": "e7e57ada-3f3e-4780-8187-db670df6ad15",
   "metadata": {},
   "outputs": [
    {
     "name": "stdout",
     "output_type": "stream",
     "text": [
      "False\n",
      "True\n",
      "True\n",
      "True\n",
      "False\n"
     ]
    }
   ],
   "source": [
    "print('contact' in dict1)\n",
    "print('name' in dict1)\n",
    "print('contact' not in dict1)\n",
    "print('Occupation' in dict1)\n",
    "print('Occupation' not in dict1)"
   ]
  },
  {
   "cell_type": "code",
   "execution_count": 41,
   "id": "48d16d8f-d522-4a0c-a676-0d4606d51363",
   "metadata": {},
   "outputs": [
    {
     "data": {
      "text/plain": [
       "{'name': 'Charu', 'age': 45, 'email': 'charu123@gmail.com'}"
      ]
     },
     "execution_count": 41,
     "metadata": {},
     "output_type": "execute_result"
    }
   ],
   "source": [
    "# dict() function\n",
    "\n",
    "# This function is used to creat a dictionary.\n",
    "\n",
    "dict_sample=dict(name='Charu',age=45,email='charu123@gmail.com')\n",
    "dict_sample"
   ]
  },
  {
   "cell_type": "code",
   "execution_count": 42,
   "id": "55b45b91-944e-4140-a565-f4de2e82ffd0",
   "metadata": {},
   "outputs": [
    {
     "name": "stdout",
     "output_type": "stream",
     "text": [
      "<class 'dict'>\n"
     ]
    }
   ],
   "source": [
    "print(type(dict_sample))"
   ]
  },
  {
   "cell_type": "code",
   "execution_count": 43,
   "id": "732d88ab-3580-4a4c-a4b0-f883e97d79f0",
   "metadata": {},
   "outputs": [
    {
     "data": {
      "text/plain": [
       "{'name': 'Charu Kulshrestha',\n",
       " 'age': 35,\n",
       " 'email': 'charu@123gmail.com',\n",
       " 'address': 'Pune',\n",
       " 'Occupation': 'Teaching'}"
      ]
     },
     "execution_count": 43,
     "metadata": {},
     "output_type": "execute_result"
    }
   ],
   "source": [
    "dict1"
   ]
  },
  {
   "cell_type": "code",
   "execution_count": 45,
   "id": "c8823801-b1cb-46a3-8f57-5119e3ca7207",
   "metadata": {},
   "outputs": [
    {
     "data": {
      "text/plain": [
       "{'name': 'Charu Kulshrestha',\n",
       " 'age': 35,\n",
       " 'email': 'charu@123gmail.com',\n",
       " 'address': 'Pune'}"
      ]
     },
     "execution_count": 45,
     "metadata": {},
     "output_type": "execute_result"
    }
   ],
   "source": [
    "# pop() function\n",
    "# This function is used to remove a specific item form the dictionary\n",
    "dict1.pop('Occupation')\n",
    "dict1"
   ]
  },
  {
   "cell_type": "code",
   "execution_count": 46,
   "id": "f333a5c6-a1db-47e9-b148-63c0f3bce35f",
   "metadata": {},
   "outputs": [
    {
     "ename": "KeyError",
     "evalue": "'Occupation'",
     "output_type": "error",
     "traceback": [
      "\u001b[1;31m---------------------------------------------------------------------------\u001b[0m",
      "\u001b[1;31mKeyError\u001b[0m                                  Traceback (most recent call last)",
      "Cell \u001b[1;32mIn[46], line 1\u001b[0m\n\u001b[1;32m----> 1\u001b[0m \u001b[43mdict1\u001b[49m\u001b[38;5;241;43m.\u001b[39;49m\u001b[43mpop\u001b[49m\u001b[43m(\u001b[49m\u001b[38;5;124;43m'\u001b[39;49m\u001b[38;5;124;43mOccupation\u001b[39;49m\u001b[38;5;124;43m'\u001b[39;49m\u001b[43m)\u001b[49m\n\u001b[0;32m      2\u001b[0m dict1\n",
      "\u001b[1;31mKeyError\u001b[0m: 'Occupation'"
     ]
    }
   ],
   "source": [
    "dict1.pop('Occupation')\n",
    "dict1"
   ]
  },
  {
   "cell_type": "code",
   "execution_count": 51,
   "id": "7275598b-38b7-4d19-99b6-3dc5fb0aee6e",
   "metadata": {},
   "outputs": [
    {
     "data": {
      "text/plain": [
       "{'name': 'Charu',\n",
       " 'age': 35,\n",
       " 'email': 'charu@123gmail.com',\n",
       " 'contact': 789456123}"
      ]
     },
     "execution_count": 51,
     "metadata": {},
     "output_type": "execute_result"
    }
   ],
   "source": [
    "# popitem() function\n",
    "# It is used to remove the arbitrary items from the dictionary and returns as a tuple. \n",
    "\n",
    "dict1.popitem()\n",
    "dict1"
   ]
  },
  {
   "cell_type": "code",
   "execution_count": 52,
   "id": "8673ae7a-552b-49c9-8631-8548afff470a",
   "metadata": {},
   "outputs": [
    {
     "name": "stdout",
     "output_type": "stream",
     "text": [
      "('contact', 789456123)\n"
     ]
    },
    {
     "data": {
      "text/plain": [
       "{'name': 'Charu', 'age': 35, 'email': 'charu@123gmail.com'}"
      ]
     },
     "execution_count": 52,
     "metadata": {},
     "output_type": "execute_result"
    }
   ],
   "source": [
    "print(dict1.popitem())\n",
    "dict1"
   ]
  },
  {
   "cell_type": "code",
   "execution_count": 53,
   "id": "5a59a9a3-3eeb-4162-92c9-48211a493a72",
   "metadata": {},
   "outputs": [
    {
     "data": {
      "text/plain": [
       "{'D': None, 'A': None, 'C': None, 'B': None}"
      ]
     },
     "execution_count": 53,
     "metadata": {},
     "output_type": "execute_result"
    }
   ],
   "source": [
    "# fromkeys() function\n",
    "\n",
    "# It returns a new dictionary with the certain sequence of the items as the keys of the \n",
    "# dictionary and the values are assigned with None.\n",
    "\n",
    "keys={\"A\",\"B\",\"C\",\"D\"}\n",
    "dict2=dict.fromkeys(keys)\n",
    "dict2"
   ]
  },
  {
   "cell_type": "code",
   "execution_count": 54,
   "id": "a492c4a6-0028-4e63-b3a3-f98a476c082a",
   "metadata": {},
   "outputs": [
    {
     "data": {
      "text/plain": [
       "{'D': None, 'A': 'Congratulations!', 'C': None, 'B': None}"
      ]
     },
     "execution_count": 54,
     "metadata": {},
     "output_type": "execute_result"
    }
   ],
   "source": [
    "dict2['A']=\"Congratulations!\"\n",
    "dict2"
   ]
  },
  {
   "cell_type": "code",
   "execution_count": 55,
   "id": "75178a40-a01f-4e65-a3f4-3dc6d61c668f",
   "metadata": {},
   "outputs": [
    {
     "data": {
      "text/plain": [
       "{'D': None, 'A': 'Congratulations!', 'C': None, 'B': None}"
      ]
     },
     "execution_count": 55,
     "metadata": {},
     "output_type": "execute_result"
    }
   ],
   "source": [
    "# update() function\n",
    "\n",
    "# It integrates a dictioanry with another diction or with an iterable of key:value pairs.\n",
    "\n",
    "dict2"
   ]
  },
  {
   "cell_type": "code",
   "execution_count": 56,
   "id": "6de957c1-b7e8-40b3-9152-1c0c77fcd5ed",
   "metadata": {},
   "outputs": [
    {
     "data": {
      "text/plain": [
       "{'a1': None, 'c1': None, 'b1': None}"
      ]
     },
     "execution_count": 56,
     "metadata": {},
     "output_type": "execute_result"
    }
   ],
   "source": [
    "keys2={'a1','b1','c1'}\n",
    "dict3=dict.fromkeys(keys2)\n",
    "dict3"
   ]
  },
  {
   "cell_type": "code",
   "execution_count": 57,
   "id": "a4809091-1d0a-42af-9532-416852e6c651",
   "metadata": {},
   "outputs": [
    {
     "data": {
      "text/plain": [
       "{'D': None,\n",
       " 'A': 'Congratulations!',\n",
       " 'C': None,\n",
       " 'B': None,\n",
       " 'a1': None,\n",
       " 'c1': None,\n",
       " 'b1': None}"
      ]
     },
     "execution_count": 57,
     "metadata": {},
     "output_type": "execute_result"
    }
   ],
   "source": [
    "dict2.update(dict3)\n",
    "dict2"
   ]
  },
  {
   "cell_type": "code",
   "execution_count": 59,
   "id": "e96ece9a-1cea-46cd-b6dc-5a8228432c4b",
   "metadata": {},
   "outputs": [
    {
     "data": {
      "text/plain": [
       "{'D': None,\n",
       " 'A': 'Congratulations!',\n",
       " 'C': None,\n",
       " 'B': None,\n",
       " 'a1': None,\n",
       " 'c1': None,\n",
       " 'b1': None}"
      ]
     },
     "execution_count": 59,
     "metadata": {},
     "output_type": "execute_result"
    }
   ],
   "source": [
    "# with accessing diction with loop\n",
    "\n",
    "dict2"
   ]
  },
  {
   "cell_type": "code",
   "execution_count": 62,
   "id": "29d1c8d9-b7f6-4a74-b2ba-53648975cd18",
   "metadata": {},
   "outputs": [
    {
     "name": "stdout",
     "output_type": "stream",
     "text": [
      "D : None\n",
      "A : Congratulations!\n",
      "C : None\n",
      "B : None\n",
      "a1 : None\n",
      "c1 : None\n",
      "b1 : None\n"
     ]
    }
   ],
   "source": [
    "for i in dict2:\n",
    "    print(i,':',dict2[i])"
   ]
  },
  {
   "cell_type": "code",
   "execution_count": null,
   "id": "7b79f54d-128c-4e6e-bb8f-d455cce94254",
   "metadata": {},
   "outputs": [],
   "source": []
  }
 ],
 "metadata": {
  "kernelspec": {
   "display_name": "Python 3 (ipykernel)",
   "language": "python",
   "name": "python3"
  },
  "language_info": {
   "codemirror_mode": {
    "name": "ipython",
    "version": 3
   },
   "file_extension": ".py",
   "mimetype": "text/x-python",
   "name": "python",
   "nbconvert_exporter": "python",
   "pygments_lexer": "ipython3",
   "version": "3.12.2"
  }
 },
 "nbformat": 4,
 "nbformat_minor": 5
}
