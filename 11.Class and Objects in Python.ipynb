{
 "cells": [
  {
   "cell_type": "markdown",
   "id": "99eefac4-7e02-46fb-8f35-01c73587d5fb",
   "metadata": {},
   "source": [
    "# 11. Classes and Objects in Python\n",
    "\n",
    " * __Python is an object-oriented programming language.__\n",
    " * __Unline procedure-oriented programming, where the main emphasis is on functions, object-oriented programmingl stresses on objects.__\n",
    " * __An object is simply a collections of data(variable) and methods (functions) that act on those data.__\n",
    " * __Similarly, a class is a blueprint for that object.__\n",
    " * __Like functions definitions begin with the def keyword in python, class definitions begin with a class keyword.__\n",
    " * __The first string inside the class is called docstring and a brief description of the class.__\n",
    " * __Although not mandatory, this is highly recommended.__"
   ]
  },
  {
   "cell_type": "code",
   "execution_count": 4,
   "id": "149604da-8dfd-4e52-aad0-14d737fb5492",
   "metadata": {},
   "outputs": [
    {
     "data": {
      "text/plain": [
       "20"
      ]
     },
     "execution_count": 4,
     "metadata": {},
     "output_type": "execute_result"
    }
   ],
   "source": [
    "class Data:\n",
    "    num=10\n",
    "    age=20\n",
    "\n",
    "x=Data()\n",
    "x.num\n",
    "x.age"
   ]
  },
  {
   "cell_type": "code",
   "execution_count": 5,
   "id": "b01235be-68db-48d9-9759-cea03373f3eb",
   "metadata": {},
   "outputs": [
    {
     "data": {
      "text/plain": [
       "10"
      ]
     },
     "execution_count": 5,
     "metadata": {},
     "output_type": "execute_result"
    }
   ],
   "source": [
    "Data.num"
   ]
  },
  {
   "cell_type": "code",
   "execution_count": 6,
   "id": "33acd147-a562-40c0-b56d-f65806e6ee49",
   "metadata": {},
   "outputs": [
    {
     "data": {
      "text/plain": [
       "20"
      ]
     },
     "execution_count": 6,
     "metadata": {},
     "output_type": "execute_result"
    }
   ],
   "source": [
    "Data.age"
   ]
  },
  {
   "cell_type": "code",
   "execution_count": 12,
   "id": "8c7983f2-1fd0-47fa-85c2-3b84c663060c",
   "metadata": {},
   "outputs": [
    {
     "name": "stdout",
     "output_type": "stream",
     "text": [
      "Charu\n",
      "40\n",
      "101\n",
      "CS\n",
      "DPS\n"
     ]
    }
   ],
   "source": [
    "class student:\n",
    "    def __init__(self,name,age,rollno,subject,school):\n",
    "        self.name=name\n",
    "        self.age=age\n",
    "        self.rollno=rollno\n",
    "        self.subject=subject\n",
    "        self.school=school\n",
    "x1=student(\"Charu\",40,101,'CS',\"DPS\")    \n",
    "print(x1.name)\n",
    "print(x1.age)\n",
    "print(x1.rollno)\n",
    "print(x1.subject)\n",
    "print(x1.school)"
   ]
  },
  {
   "cell_type": "code",
   "execution_count": 13,
   "id": "c966e0cf-4c7b-4f22-873f-1f83a61f8429",
   "metadata": {},
   "outputs": [
    {
     "name": "stdout",
     "output_type": "stream",
     "text": [
      "Anushtha\n"
     ]
    }
   ],
   "source": [
    "x2=student(\"Anushtha\",45,102,'CS',\"Sentance Academy\")\n",
    "print(x2.name)"
   ]
  },
  {
   "cell_type": "code",
   "execution_count": 14,
   "id": "011a4538-14da-4d9d-8381-85eb4ae671b8",
   "metadata": {},
   "outputs": [
    {
     "data": {
      "text/plain": [
       "'Charu'"
      ]
     },
     "execution_count": 14,
     "metadata": {},
     "output_type": "execute_result"
    }
   ],
   "source": [
    "x1.name"
   ]
  },
  {
   "cell_type": "code",
   "execution_count": 15,
   "id": "e66b3b4b-9954-4762-bd1b-21967f9c62db",
   "metadata": {},
   "outputs": [
    {
     "data": {
      "text/plain": [
       "'Anushtha'"
      ]
     },
     "execution_count": 15,
     "metadata": {},
     "output_type": "execute_result"
    }
   ],
   "source": [
    "x2.name"
   ]
  },
  {
   "cell_type": "code",
   "execution_count": 16,
   "id": "f491dc66-8815-43cf-9240-04952211b174",
   "metadata": {},
   "outputs": [
    {
     "data": {
      "text/plain": [
       "45"
      ]
     },
     "execution_count": 16,
     "metadata": {},
     "output_type": "execute_result"
    }
   ],
   "source": [
    "x2.age"
   ]
  },
  {
   "cell_type": "code",
   "execution_count": 17,
   "id": "f7afb1c6-8838-47da-ad2d-fb5d07e3210e",
   "metadata": {},
   "outputs": [
    {
     "data": {
      "text/plain": [
       "40"
      ]
     },
     "execution_count": 17,
     "metadata": {},
     "output_type": "execute_result"
    }
   ],
   "source": [
    "x1.age"
   ]
  },
  {
   "cell_type": "code",
   "execution_count": 18,
   "id": "844c2e56-f432-4871-8355-1e601669eb21",
   "metadata": {},
   "outputs": [
    {
     "data": {
      "text/plain": [
       "'CS'"
      ]
     },
     "execution_count": 18,
     "metadata": {},
     "output_type": "execute_result"
    }
   ],
   "source": [
    "x2.subject"
   ]
  },
  {
   "cell_type": "code",
   "execution_count": 19,
   "id": "a36f79f9-efef-49fc-b6ca-5328d4a252ea",
   "metadata": {},
   "outputs": [
    {
     "data": {
      "text/plain": [
       "'CS'"
      ]
     },
     "execution_count": 19,
     "metadata": {},
     "output_type": "execute_result"
    }
   ],
   "source": [
    "x1.subject"
   ]
  },
  {
   "cell_type": "code",
   "execution_count": 20,
   "id": "0902bb6b-6211-4ec3-8487-bdd9452940dd",
   "metadata": {},
   "outputs": [
    {
     "data": {
      "text/plain": [
       "'Sentance Academy'"
      ]
     },
     "execution_count": 20,
     "metadata": {},
     "output_type": "execute_result"
    }
   ],
   "source": [
    "x2.school"
   ]
  },
  {
   "cell_type": "code",
   "execution_count": 22,
   "id": "0a5a7c51-ad6f-40db-9011-74cb86907024",
   "metadata": {},
   "outputs": [
    {
     "data": {
      "text/plain": [
       "'DPS'"
      ]
     },
     "execution_count": 22,
     "metadata": {},
     "output_type": "execute_result"
    }
   ],
   "source": [
    "x1.school"
   ]
  },
  {
   "cell_type": "code",
   "execution_count": 25,
   "id": "832baf66-f0dc-4099-ac2b-1d7ea74a3cca",
   "metadata": {},
   "outputs": [
    {
     "name": "stdout",
     "output_type": "stream",
     "text": [
      "Shawn\n",
      "Black\n",
      "4\n"
     ]
    }
   ],
   "source": [
    "class animal:\n",
    "    def __init__(x,name,color,feet):\n",
    "        x.name=name\n",
    "        x.color=color\n",
    "        x.feet=feet\n",
    "\n",
    "\n",
    "obj2=animal('Shawn','Black',4)\n",
    "print(obj2.name)\n",
    "print(obj2.color)\n",
    "print(obj2.feet)"
   ]
  },
  {
   "cell_type": "code",
   "execution_count": 31,
   "id": "00afee15-6ab7-4aa3-87d5-366bd37372b9",
   "metadata": {},
   "outputs": [
    {
     "name": "stdout",
     "output_type": "stream",
     "text": [
      "Horse Name is: Heera\n",
      "Horse Color is: White\n",
      "Horse feet is: 4\n"
     ]
    }
   ],
   "source": [
    "horse=animal('Heera','White',4)\n",
    "print(\"Horse Name is:\",horse.name)\n",
    "print(\"Horse Color is:\",horse.color)\n",
    "print(\"Horse feet is:\",horse.feet)"
   ]
  },
  {
   "cell_type": "code",
   "execution_count": 33,
   "id": "0a49c489-83fb-438c-b59a-39a5af2f7a91",
   "metadata": {},
   "outputs": [
    {
     "name": "stdout",
     "output_type": "stream",
     "text": [
      "Animal name is:Heera\n",
      "Animal color is:Black\n",
      "Animal feet is:4\n"
     ]
    }
   ],
   "source": [
    "class animal:\n",
    "    def __init__(x,name,color,feet):\n",
    "        x.name=name\n",
    "        x.color=color\n",
    "        x.feet=feet\n",
    "\n",
    "    def details_animal(x):\n",
    "        print(f'Animal name is:{x.name}')\n",
    "        print(f'Animal color is:{x.color}')\n",
    "        print(f'Animal feet is:{x.feet}')\n",
    "\n",
    "obj2=animal(\"Heera\",'Black',4)\n",
    "obj2.details_animal()"
   ]
  },
  {
   "cell_type": "code",
   "execution_count": 34,
   "id": "f3be707e-60da-4323-bd00-d0c7709d7ad8",
   "metadata": {},
   "outputs": [
    {
     "name": "stdout",
     "output_type": "stream",
     "text": [
      "Animal name is:Moti\n",
      "Animal color is:White\n",
      "Animal feet is:4\n"
     ]
    }
   ],
   "source": [
    "obj3=animal('Moti','White',4)\n",
    "obj3.details_animal()"
   ]
  },
  {
   "cell_type": "markdown",
   "id": "a796f945-7e2a-410e-92ae-9468474b1917",
   "metadata": {},
   "source": [
    "# self parameter\n",
    "\n",
    " * __The self parameter is a reference to the current instance of the class, and is used to access varialble that belongs to the class.__\n",
    " * __It does not have to be named self, you can call it whatever you like, but it has to be the first parameter of any function in the class.__"
   ]
  },
  {
   "cell_type": "code",
   "execution_count": 37,
   "id": "c59ce3b7-1c42-4982-9fbb-a067e3998684",
   "metadata": {},
   "outputs": [
    {
     "name": "stdout",
     "output_type": "stream",
     "text": [
      "The area of rectangle is:20 cm²\n",
      "The perimeter of rectangle is:18 cm\n"
     ]
    }
   ],
   "source": [
    "class Rectangle:\n",
    "    def __init__(self,length,breadth):\n",
    "        self.length=length\n",
    "        self.breadth=breadth\n",
    "\n",
    "    def rectangle_details(self):\n",
    "        area=self.length*self.breadth\n",
    "        print(f'The area of rectangle is:{area} cm²')\n",
    "        perimeter=2*(self.length+self.breadth)\n",
    "        print(f'The perimeter of rectangle is:{perimeter} cm')\n",
    "\n",
    "\n",
    "rect1=Rectangle(4,5)\n",
    "rect1.rectangle_details()"
   ]
  },
  {
   "cell_type": "code",
   "execution_count": 38,
   "id": "90002569-6696-4bcf-8c8d-d21693426ff1",
   "metadata": {},
   "outputs": [
    {
     "name": "stdout",
     "output_type": "stream",
     "text": [
      "The area of rectangle is:200 cm²\n",
      "The perimeter of rectangle is:60 cm\n"
     ]
    }
   ],
   "source": [
    "rect2=Rectangle(10,20)\n",
    "rect2.rectangle_details()"
   ]
  },
  {
   "cell_type": "code",
   "execution_count": 40,
   "id": "067925e3-a400-4d52-9915-95637097d033",
   "metadata": {},
   "outputs": [
    {
     "name": "stdout",
     "output_type": "stream",
     "text": [
      "The area of square is:100 cm²\n",
      "The perimeter of square is:40 cm\n"
     ]
    }
   ],
   "source": [
    "class square:\n",
    "    def __init__(self,side):\n",
    "        self.side=side\n",
    "\n",
    "    def square_details(self):\n",
    "        area=self.side*self.side\n",
    "        print(f'The area of square is:{area} cm²')\n",
    "        peri=4*self.side\n",
    "        print(f'The perimeter of square is:{peri} cm')\n",
    "\n",
    "\n",
    "obj1=square(10)\n",
    "obj1.square_details()"
   ]
  },
  {
   "cell_type": "code",
   "execution_count": 41,
   "id": "afda58c3-147e-4edf-80ff-1464024faaad",
   "metadata": {},
   "outputs": [
    {
     "data": {
      "text/plain": [
       "'😀'"
      ]
     },
     "execution_count": 41,
     "metadata": {},
     "output_type": "execute_result"
    }
   ],
   "source": [
    "\"\\U0001f600\""
   ]
  },
  {
   "cell_type": "code",
   "execution_count": 42,
   "id": "c69bafdc-572f-4bf8-88f0-fda92c4fd49c",
   "metadata": {},
   "outputs": [
    {
     "data": {
      "text/plain": [
       "'😆'"
      ]
     },
     "execution_count": 42,
     "metadata": {},
     "output_type": "execute_result"
    }
   ],
   "source": [
    "\"\\U0001F606\""
   ]
  },
  {
   "cell_type": "code",
   "execution_count": null,
   "id": "c8805ce4-1e36-4015-88f9-156b3892b107",
   "metadata": {},
   "outputs": [],
   "source": [
    "area"
   ]
  },
  {
   "cell_type": "code",
   "execution_count": null,
   "id": "c2224909-b7c7-4540-9e1b-480716e102c0",
   "metadata": {},
   "outputs": [],
   "source": []
  },
  {
   "cell_type": "code",
   "execution_count": null,
   "id": "a5ee25e2-76c5-46cf-b01a-8dd74a8336d1",
   "metadata": {},
   "outputs": [],
   "source": []
  }
 ],
 "metadata": {
  "kernelspec": {
   "display_name": "Python 3 (ipykernel)",
   "language": "python",
   "name": "python3"
  },
  "language_info": {
   "codemirror_mode": {
    "name": "ipython",
    "version": 3
   },
   "file_extension": ".py",
   "mimetype": "text/x-python",
   "name": "python",
   "nbconvert_exporter": "python",
   "pygments_lexer": "ipython3",
   "version": "3.12.2"
  }
 },
 "nbformat": 4,
 "nbformat_minor": 5
}
