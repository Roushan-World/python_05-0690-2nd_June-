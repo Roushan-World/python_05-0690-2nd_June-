{
 "cells": [
  {
   "cell_type": "markdown",
   "id": "99eefac4-7e02-46fb-8f35-01c73587d5fb",
   "metadata": {},
   "source": [
    "# 11. Classes and Objects in Python\n",
    "\n",
    " * __Python is an object-oriented programming language.__\n",
    " * __Unline procedure-oriented programming, where the main emphasis is on functions, object-oriented programmingl stresses on objects.__\n",
    " * __An object is simply a collections of data(variable) and methods (functions) that act on those data.__\n",
    " * __Similarly, a class is a blueprint for that object.__\n",
    " * __Like functions definitions begin with the def keyword in python, class definitions begin with a class keyword.__\n",
    " * __The first string inside the class is called docstring and a brief description of the class.__\n",
    " * __Although not mandatory, this is highly recommended.__"
   ]
  },
  {
   "cell_type": "code",
   "execution_count": 4,
   "id": "149604da-8dfd-4e52-aad0-14d737fb5492",
   "metadata": {},
   "outputs": [
    {
     "data": {
      "text/plain": [
       "20"
      ]
     },
     "execution_count": 4,
     "metadata": {},
     "output_type": "execute_result"
    }
   ],
   "source": [
    "class Data:\n",
    "    num=10\n",
    "    age=20\n",
    "\n",
    "x=Data()\n",
    "x.num\n",
    "x.age"
   ]
  },
  {
   "cell_type": "code",
   "execution_count": 5,
   "id": "b01235be-68db-48d9-9759-cea03373f3eb",
   "metadata": {},
   "outputs": [
    {
     "data": {
      "text/plain": [
       "10"
      ]
     },
     "execution_count": 5,
     "metadata": {},
     "output_type": "execute_result"
    }
   ],
   "source": [
    "Data.num"
   ]
  },
  {
   "cell_type": "code",
   "execution_count": 6,
   "id": "33acd147-a562-40c0-b56d-f65806e6ee49",
   "metadata": {},
   "outputs": [
    {
     "data": {
      "text/plain": [
       "20"
      ]
     },
     "execution_count": 6,
     "metadata": {},
     "output_type": "execute_result"
    }
   ],
   "source": [
    "Data.age"
   ]
  },
  {
   "cell_type": "code",
   "execution_count": 12,
   "id": "8c7983f2-1fd0-47fa-85c2-3b84c663060c",
   "metadata": {},
   "outputs": [
    {
     "name": "stdout",
     "output_type": "stream",
     "text": [
      "Charu\n",
      "40\n",
      "101\n",
      "CS\n",
      "DPS\n"
     ]
    }
   ],
   "source": [
    "class student:\n",
    "    def __init__(self,name,age,rollno,subject,school):\n",
    "        self.name=name\n",
    "        self.age=age\n",
    "        self.rollno=rollno\n",
    "        self.subject=subject\n",
    "        self.school=school\n",
    "x1=student(\"Charu\",40,101,'CS',\"DPS\")    \n",
    "print(x1.name)\n",
    "print(x1.age)\n",
    "print(x1.rollno)\n",
    "print(x1.subject)\n",
    "print(x1.school)"
   ]
  },
  {
   "cell_type": "code",
   "execution_count": 13,
   "id": "c966e0cf-4c7b-4f22-873f-1f83a61f8429",
   "metadata": {},
   "outputs": [
    {
     "name": "stdout",
     "output_type": "stream",
     "text": [
      "Anushtha\n"
     ]
    }
   ],
   "source": [
    "x2=student(\"Anushtha\",45,102,'CS',\"Sentance Academy\")\n",
    "print(x2.name)"
   ]
  },
  {
   "cell_type": "code",
   "execution_count": 14,
   "id": "011a4538-14da-4d9d-8381-85eb4ae671b8",
   "metadata": {},
   "outputs": [
    {
     "data": {
      "text/plain": [
       "'Charu'"
      ]
     },
     "execution_count": 14,
     "metadata": {},
     "output_type": "execute_result"
    }
   ],
   "source": [
    "x1.name"
   ]
  },
  {
   "cell_type": "code",
   "execution_count": 15,
   "id": "e66b3b4b-9954-4762-bd1b-21967f9c62db",
   "metadata": {},
   "outputs": [
    {
     "data": {
      "text/plain": [
       "'Anushtha'"
      ]
     },
     "execution_count": 15,
     "metadata": {},
     "output_type": "execute_result"
    }
   ],
   "source": [
    "x2.name"
   ]
  },
  {
   "cell_type": "code",
   "execution_count": 16,
   "id": "f491dc66-8815-43cf-9240-04952211b174",
   "metadata": {},
   "outputs": [
    {
     "data": {
      "text/plain": [
       "45"
      ]
     },
     "execution_count": 16,
     "metadata": {},
     "output_type": "execute_result"
    }
   ],
   "source": [
    "x2.age"
   ]
  },
  {
   "cell_type": "code",
   "execution_count": 17,
   "id": "f7afb1c6-8838-47da-ad2d-fb5d07e3210e",
   "metadata": {},
   "outputs": [
    {
     "data": {
      "text/plain": [
       "40"
      ]
     },
     "execution_count": 17,
     "metadata": {},
     "output_type": "execute_result"
    }
   ],
   "source": [
    "x1.age"
   ]
  },
  {
   "cell_type": "code",
   "execution_count": 18,
   "id": "844c2e56-f432-4871-8355-1e601669eb21",
   "metadata": {},
   "outputs": [
    {
     "data": {
      "text/plain": [
       "'CS'"
      ]
     },
     "execution_count": 18,
     "metadata": {},
     "output_type": "execute_result"
    }
   ],
   "source": [
    "x2.subject"
   ]
  },
  {
   "cell_type": "code",
   "execution_count": 19,
   "id": "a36f79f9-efef-49fc-b6ca-5328d4a252ea",
   "metadata": {},
   "outputs": [
    {
     "data": {
      "text/plain": [
       "'CS'"
      ]
     },
     "execution_count": 19,
     "metadata": {},
     "output_type": "execute_result"
    }
   ],
   "source": [
    "x1.subject"
   ]
  },
  {
   "cell_type": "code",
   "execution_count": 20,
   "id": "0902bb6b-6211-4ec3-8487-bdd9452940dd",
   "metadata": {},
   "outputs": [
    {
     "data": {
      "text/plain": [
       "'Sentance Academy'"
      ]
     },
     "execution_count": 20,
     "metadata": {},
     "output_type": "execute_result"
    }
   ],
   "source": [
    "x2.school"
   ]
  },
  {
   "cell_type": "code",
   "execution_count": 22,
   "id": "0a5a7c51-ad6f-40db-9011-74cb86907024",
   "metadata": {},
   "outputs": [
    {
     "data": {
      "text/plain": [
       "'DPS'"
      ]
     },
     "execution_count": 22,
     "metadata": {},
     "output_type": "execute_result"
    }
   ],
   "source": [
    "x1.school"
   ]
  },
  {
   "cell_type": "code",
   "execution_count": 25,
   "id": "832baf66-f0dc-4099-ac2b-1d7ea74a3cca",
   "metadata": {},
   "outputs": [
    {
     "name": "stdout",
     "output_type": "stream",
     "text": [
      "Shawn\n",
      "Black\n",
      "4\n"
     ]
    }
   ],
   "source": [
    "class animal:\n",
    "    def __init__(x,name,color,feet):\n",
    "        x.name=name\n",
    "        x.color=color\n",
    "        x.feet=feet\n",
    "\n",
    "\n",
    "obj2=animal('Shawn','Black',4)\n",
    "print(obj2.name)\n",
    "print(obj2.color)\n",
    "print(obj2.feet)"
   ]
  },
  {
   "cell_type": "code",
   "execution_count": 31,
   "id": "00afee15-6ab7-4aa3-87d5-366bd37372b9",
   "metadata": {},
   "outputs": [
    {
     "name": "stdout",
     "output_type": "stream",
     "text": [
      "Horse Name is: Heera\n",
      "Horse Color is: White\n",
      "Horse feet is: 4\n"
     ]
    }
   ],
   "source": [
    "horse=animal('Heera','White',4)\n",
    "print(\"Horse Name is:\",horse.name)\n",
    "print(\"Horse Color is:\",horse.color)\n",
    "print(\"Horse feet is:\",horse.feet)"
   ]
  },
  {
   "cell_type": "code",
   "execution_count": 33,
   "id": "0a49c489-83fb-438c-b59a-39a5af2f7a91",
   "metadata": {},
   "outputs": [
    {
     "name": "stdout",
     "output_type": "stream",
     "text": [
      "Animal name is:Heera\n",
      "Animal color is:Black\n",
      "Animal feet is:4\n"
     ]
    }
   ],
   "source": [
    "class animal:\n",
    "    def __init__(x,name,color,feet):\n",
    "        x.name=name\n",
    "        x.color=color\n",
    "        x.feet=feet\n",
    "\n",
    "    def details_animal(x):\n",
    "        print(f'Animal name is:{x.name}')\n",
    "        print(f'Animal color is:{x.color}')\n",
    "        print(f'Animal feet is:{x.feet}')\n",
    "\n",
    "obj2=animal(\"Heera\",'Black',4)\n",
    "obj2.details_animal()"
   ]
  },
  {
   "cell_type": "code",
   "execution_count": 34,
   "id": "f3be707e-60da-4323-bd00-d0c7709d7ad8",
   "metadata": {},
   "outputs": [
    {
     "name": "stdout",
     "output_type": "stream",
     "text": [
      "Animal name is:Moti\n",
      "Animal color is:White\n",
      "Animal feet is:4\n"
     ]
    }
   ],
   "source": [
    "obj3=animal('Moti','White',4)\n",
    "obj3.details_animal()"
   ]
  },
  {
   "cell_type": "markdown",
   "id": "a796f945-7e2a-410e-92ae-9468474b1917",
   "metadata": {},
   "source": [
    "# self parameter\n",
    "\n",
    " * __The self parameter is a reference to the current instance of the class, and is used to access varialble that belongs to the class.__\n",
    " * __It does not have to be named self, you can call it whatever you like, but it has to be the first parameter of any function in the class.__"
   ]
  },
  {
   "cell_type": "code",
   "execution_count": 37,
   "id": "c59ce3b7-1c42-4982-9fbb-a067e3998684",
   "metadata": {},
   "outputs": [
    {
     "name": "stdout",
     "output_type": "stream",
     "text": [
      "The area of rectangle is:20 cm²\n",
      "The perimeter of rectangle is:18 cm\n"
     ]
    }
   ],
   "source": [
    "class Rectangle:\n",
    "    def __init__(self,length,breadth):\n",
    "        self.length=length\n",
    "        self.breadth=breadth\n",
    "\n",
    "    def rectangle_details(self):\n",
    "        area=self.length*self.breadth\n",
    "        print(f'The area of rectangle is:{area} cm²')\n",
    "        perimeter=2*(self.length+self.breadth)\n",
    "        print(f'The perimeter of rectangle is:{perimeter} cm')\n",
    "\n",
    "\n",
    "rect1=Rectangle(4,5)\n",
    "rect1.rectangle_details()"
   ]
  },
  {
   "cell_type": "code",
   "execution_count": 38,
   "id": "90002569-6696-4bcf-8c8d-d21693426ff1",
   "metadata": {},
   "outputs": [
    {
     "name": "stdout",
     "output_type": "stream",
     "text": [
      "The area of rectangle is:200 cm²\n",
      "The perimeter of rectangle is:60 cm\n"
     ]
    }
   ],
   "source": [
    "rect2=Rectangle(10,20)\n",
    "rect2.rectangle_details()"
   ]
  },
  {
   "cell_type": "code",
   "execution_count": 40,
   "id": "067925e3-a400-4d52-9915-95637097d033",
   "metadata": {},
   "outputs": [
    {
     "name": "stdout",
     "output_type": "stream",
     "text": [
      "The area of square is:100 cm²\n",
      "The perimeter of square is:40 cm\n"
     ]
    }
   ],
   "source": [
    "class square:\n",
    "    def __init__(self,side):\n",
    "        self.side=side\n",
    "\n",
    "    def square_details(self):\n",
    "        area=self.side*self.side\n",
    "        print(f'The area of square is:{area} cm²')\n",
    "        peri=4*self.side\n",
    "        print(f'The perimeter of square is:{peri} cm')\n",
    "\n",
    "\n",
    "obj1=square(10)\n",
    "obj1.square_details()"
   ]
  },
  {
   "cell_type": "code",
   "execution_count": 41,
   "id": "afda58c3-147e-4edf-80ff-1464024faaad",
   "metadata": {},
   "outputs": [
    {
     "data": {
      "text/plain": [
       "'😀'"
      ]
     },
     "execution_count": 41,
     "metadata": {},
     "output_type": "execute_result"
    }
   ],
   "source": [
    "\"\\U0001f600\""
   ]
  },
  {
   "cell_type": "code",
   "execution_count": 42,
   "id": "c69bafdc-572f-4bf8-88f0-fda92c4fd49c",
   "metadata": {},
   "outputs": [
    {
     "data": {
      "text/plain": [
       "'😆'"
      ]
     },
     "execution_count": 42,
     "metadata": {},
     "output_type": "execute_result"
    }
   ],
   "source": [
    "\"\\U0001F606\""
   ]
  },
  {
   "cell_type": "code",
   "execution_count": null,
   "id": "c8805ce4-1e36-4015-88f9-156b3892b107",
   "metadata": {},
   "outputs": [],
   "source": [
    "area"
   ]
  },
  {
   "cell_type": "markdown",
   "id": "48c15c11-f571-4553-b263-5c75a673ed9b",
   "metadata": {},
   "source": [
    "# Inheritance\n",
    "\n",
    " * __Simple(single) Inheritance:(Parent class/child class)__\n",
    " * __Multilevel Inheritance: (Parent/child/child)__\n",
    " * __Multiple Inheritance: (Parent class/Parent class-child class)__\n",
    " * __Hierarchical Inheritance: (Parent class-child/child class/child class)__\n",
    " * __Hybrid Inheritance:__"
   ]
  },
  {
   "cell_type": "code",
   "execution_count": 2,
   "id": "a5ee25e2-76c5-46cf-b01a-8dd74a8336d1",
   "metadata": {},
   "outputs": [
    {
     "name": "stdout",
     "output_type": "stream",
     "text": [
      "Amazon is an Online Commerce Store\n"
     ]
    }
   ],
   "source": [
    "# Single Inheritance\n",
    "\n",
    "class a:\n",
    "    brand_name_1=\"Amazon\"\n",
    "    brand_name_2=\"FlipKart\"\n",
    "    brand_name_3=\"Myntra\"\n",
    "\n",
    "class b(a):\n",
    "    prod_1=\"Online Commerce Store\"\n",
    "    prod_2=\"Online Store\"\n",
    "    prod_3=\"E-Commerce Store\"\n",
    "\n",
    "obj1=b()\n",
    "print(obj1.brand_name_1+' is an '+obj1.prod_1)"
   ]
  },
  {
   "cell_type": "code",
   "execution_count": 4,
   "id": "fbe20c0d-fdd8-4ef1-91a2-1afc65589db4",
   "metadata": {},
   "outputs": [
    {
     "name": "stdout",
     "output_type": "stream",
     "text": [
      "Amazon is an Online Commerce Store and it's popularity is:100\n"
     ]
    }
   ],
   "source": [
    "# Multilevel inheritance : parent/ child/ grand child\n",
    "\n",
    "class a:    # parent\n",
    "    brand_name_1=\"Amazon\"\n",
    "    brand_name_2=\"FlipKart\"\n",
    "    brand_name_3=\"Myntra\"\n",
    "\n",
    "class b(a):   #child \n",
    "    prod_1=\"Online Commerce Store\"\n",
    "    prod_2=\"Online Store\"\n",
    "    prod_3=\"E-Commerce Store\"\n",
    "\n",
    "\n",
    "class c(b):   # grand child\n",
    "    popularity_1=\"100\"\n",
    "    popularity_2=\"200\"\n",
    "    popularity_3=\"300\"\n",
    "\n",
    "\n",
    "obj1=c()\n",
    "print(obj1.brand_name_1+' is an '+obj1.prod_1+\" and it's popularity is:\"+obj1.popularity_1)"
   ]
  },
  {
   "cell_type": "code",
   "execution_count": 6,
   "id": "f3cabee6-03a5-4d57-bedc-bea8bc0b4869",
   "metadata": {},
   "outputs": [
    {
     "name": "stdout",
     "output_type": "stream",
     "text": [
      "Amazon is an Online Commerce Store and it's popularity is:100\n"
     ]
    }
   ],
   "source": [
    "# Multiple Inheritance: parent/parent/-child \n",
    "\n",
    "\n",
    "class a:    # parent\n",
    "    brand_name_1=\"Amazon\"\n",
    "    brand_name_2=\"FlipKart\"\n",
    "    brand_name_3=\"Myntra\"\n",
    "\n",
    "class b:   #parent\n",
    "    prod_1=\"Online Commerce Store\"\n",
    "    prod_2=\"Online Store\"\n",
    "    prod_3=\"E-Commerce Store\"\n",
    "\n",
    "\n",
    "class c(a,b):  # child\n",
    "    popularity_1=\"100\"\n",
    "    popularity_2=\"200\"\n",
    "    popularity_3=\"300\"\n",
    "\n",
    "obj1=c()\n",
    "print(obj1.brand_name_1+\" is an \"+obj1.prod_1+\" and it's popularity is:\"+obj1.popularity_1)"
   ]
  },
  {
   "cell_type": "code",
   "execution_count": 13,
   "id": "23ba6991-77e8-4ebd-86b6-44019a3867e9",
   "metadata": {},
   "outputs": [
    {
     "name": "stdout",
     "output_type": "stream",
     "text": [
      "Amazon is an Online Commerce Store and it's popularity is 100 and it's value is: Best Value\n"
     ]
    }
   ],
   "source": [
    "# Hierarchical Inheritance: parent->child->child->child\n",
    "\n",
    "class a:    # parent\n",
    "    brand_name_1=\"Amazon\"\n",
    "    brand_name_2=\"FlipKart\"\n",
    "    brand_name_3=\"Myntra\"\n",
    "\n",
    "class b(a):  # child\n",
    "    prod_1=\"Online Commerce Store\"\n",
    "    prod_2=\"Online Store\"\n",
    "    prod_3=\"E-Commerce Store\"\n",
    "\n",
    "\n",
    "class c(a):  # child\n",
    "    popularity_1=\"100\"\n",
    "    popularity_2=\"200\"\n",
    "    popularity_3=\"300\"\n",
    "\n",
    "\n",
    "class d(a):\n",
    "    prod_value_1=\"Best Value\"\n",
    "    prod_value_2=\"Good value\"\n",
    "    prod_value_3=\"Better Value\"\n",
    "\n",
    "\n",
    "obj_1=b()\n",
    "obj_2=c()\n",
    "obj_3=d()\n",
    "\n",
    "print(obj_1.brand_name_1+' is an '+obj_1.prod_1+\" and it's popularity is \"+obj_2.popularity_1+\" and it's value is: \"+obj_3.prod_value_1)\n",
    "    "
   ]
  },
  {
   "cell_type": "code",
   "execution_count": 21,
   "id": "b5977608-44d9-4658-818d-f0bf38990ccf",
   "metadata": {},
   "outputs": [
    {
     "name": "stdout",
     "output_type": "stream",
     "text": [
      "Karan Johan\n",
      "Orry\n",
      "Yash\n",
      "Final Product\n"
     ]
    }
   ],
   "source": [
    "# hybrid Inheritance\n",
    "\n",
    "class a:\n",
    "    def name_a(self):\n",
    "        return \"Karan Johan\"\n",
    "\n",
    "\n",
    "class b:\n",
    "    def name_b(self):\n",
    "        return \"Orry\"\n",
    "\n",
    "\n",
    "class c(a):\n",
    "    def name_c(self):\n",
    "        return (\"Yash\")\n",
    "\n",
    "\n",
    "class d(b,c):\n",
    "    def name_d(self):\n",
    "        return (\"Final Product\")\n",
    "\n",
    "\n",
    "obj1=d()\n",
    "\n",
    "print(obj1.name_a())\n",
    "print(obj1.name_b())\n",
    "print(obj1.name_c())\n",
    "print(obj1.name_d())\n"
   ]
  },
  {
   "cell_type": "markdown",
   "id": "5e8c3566-1708-40a5-9891-7309169078f6",
   "metadata": {},
   "source": [
    "# 4 Methods of oops concept\n",
    "\n",
    " * __1.Inheritance__\n",
    " * __2.Polymorphism__\n",
    " * __3.Encapsulation__\n",
    " * __4.Data Abstraction__\n",
    "\n",
    "   * __1.Inheritance(mon and Daughter): Some property of mom inherits by her daughter.__\n",
    "   * __2.Polymorphism: In School behave like student, In Bus behave like passenger, In shop behave like cutomer, In hospital behave like patient.__\n",
    "   * __3.Encapsulation: It protect your data Ex: School bag, book, pencil, pen, eraser,sharpner,notebook.__\n",
    "   * __4.Data Abstraction: ATM, Check Balance, deposite cash, withdraw cash, print Statement,('hiding irravalent data.')__"
   ]
  },
  {
   "cell_type": "code",
   "execution_count": 23,
   "id": "fa59b530-93c3-4009-94a6-e99cdbc1e636",
   "metadata": {},
   "outputs": [
    {
     "name": "stdout",
     "output_type": "stream",
     "text": [
      "Hello, I am calling child class.\n"
     ]
    }
   ],
   "source": [
    "# Inheritance\n",
    "\n",
    "class parent:\n",
    "    def parent_method(self):\n",
    "        print('hello world')\n",
    "        print('Hi,Python')\n",
    "\n",
    "class child(parent):\n",
    "    def parent_method(self):\n",
    "        return('Hello, I am calling child class.')\n",
    "\n",
    "obj1=child()\n",
    "print(obj1.parent_method())"
   ]
  },
  {
   "cell_type": "code",
   "execution_count": 30,
   "id": "63078640-23cd-4990-9a28-3183b5beb70f",
   "metadata": {},
   "outputs": [
    {
     "data": {
      "text/plain": [
       "'Pune'"
      ]
     },
     "execution_count": 30,
     "metadata": {},
     "output_type": "execute_result"
    }
   ],
   "source": [
    "class person:\n",
    "    def __init__(self,name,age):\n",
    "        self.name=name\n",
    "        self.age=age\n",
    "\n",
    "class person2:\n",
    "    def __init__(self,address):\n",
    "        self.address=address\n",
    "\n",
    "\n",
    "obj1=person2('Pune')\n",
    "obj1.address"
   ]
  },
  {
   "cell_type": "code",
   "execution_count": 29,
   "id": "0fe7f8cd-8f00-4c99-b464-fcfbd0e255bd",
   "metadata": {},
   "outputs": [
    {
     "name": "stdout",
     "output_type": "stream",
     "text": [
      "Charu\n",
      "45\n",
      "Karnataka\n"
     ]
    }
   ],
   "source": [
    "class person:\n",
    "    def __init__(self,name,age):\n",
    "        self.name=name\n",
    "        self.age=age\n",
    "\n",
    "class person2(person):\n",
    "    def __init__(self,name,age,address):\n",
    "        super().__init__(name,age)\n",
    "        self.address=address\n",
    "\n",
    "obj2=person2('Charu',45,'Karnataka')\n",
    "\n",
    "print(obj2.name)\n",
    "print(obj2.age)\n",
    "print(obj2.address)"
   ]
  },
  {
   "cell_type": "code",
   "execution_count": 32,
   "id": "c03ea055-843c-49eb-8b07-2eb2731670fa",
   "metadata": {},
   "outputs": [
    {
     "data": {
      "text/plain": [
       "'Bark'"
      ]
     },
     "execution_count": 32,
     "metadata": {},
     "output_type": "execute_result"
    }
   ],
   "source": [
    "# polymorphism\n",
    "\n",
    "class Animal:\n",
    "    def speak(self):\n",
    "        return \"Animal Speak\"\n",
    "\n",
    "class dog(Animal):\n",
    "    def speak(self):\n",
    "        return \"Bark\"\n",
    "\n",
    "\n",
    "class cat(Animal):\n",
    "    def speak(self):\n",
    "        return \"Meaw\"\n",
    "\n",
    "class man(Animal):\n",
    "    def speak(self):\n",
    "        return \"Talk\"\n",
    "\n",
    "\n",
    "obj=dog()\n",
    "obj.speak()"
   ]
  },
  {
   "cell_type": "code",
   "execution_count": 33,
   "id": "f209280e-27d1-4d9f-906e-dada9baa11b7",
   "metadata": {},
   "outputs": [
    {
     "data": {
      "text/plain": [
       "'Meaw'"
      ]
     },
     "execution_count": 33,
     "metadata": {},
     "output_type": "execute_result"
    }
   ],
   "source": [
    "obj2=cat()\n",
    "obj2.speak()"
   ]
  },
  {
   "cell_type": "code",
   "execution_count": 34,
   "id": "7ce95a93-faed-4051-becb-08850f6a63a7",
   "metadata": {},
   "outputs": [
    {
     "data": {
      "text/plain": [
       "'Talk'"
      ]
     },
     "execution_count": 34,
     "metadata": {},
     "output_type": "execute_result"
    }
   ],
   "source": [
    "obj3=man()\n",
    "obj3.speak()"
   ]
  },
  {
   "cell_type": "code",
   "execution_count": 39,
   "id": "00eea8e0-738d-43fa-9843-cd7a9202c8f2",
   "metadata": {},
   "outputs": [],
   "source": [
    "# Encapsulation\n",
    "\n",
    "class Encapsulation:\n",
    "    def __init__(self,value):\n",
    "        self.__private_variable=value\n",
    "\n",
    "    def get_private_value(self):\n",
    "        return self.__private_variable\n",
    "\n",
    "    def update_value(self,new_value):\n",
    "        self.__private_variable=new_value\n",
    "\n",
    "\n",
    "obj=Encapsulation(10)"
   ]
  },
  {
   "cell_type": "code",
   "execution_count": 40,
   "id": "13e9636d-32d6-4fc9-bb34-c1b7418dfef1",
   "metadata": {},
   "outputs": [
    {
     "data": {
      "text/plain": [
       "10"
      ]
     },
     "execution_count": 40,
     "metadata": {},
     "output_type": "execute_result"
    }
   ],
   "source": [
    "obj.get_private_value()"
   ]
  },
  {
   "cell_type": "code",
   "execution_count": 41,
   "id": "ac4f6407-8fda-4745-8ff1-3266953f2c46",
   "metadata": {},
   "outputs": [],
   "source": [
    "obj.update_value(100)"
   ]
  },
  {
   "cell_type": "code",
   "execution_count": 42,
   "id": "dd4888a6-c993-4ff4-a1a7-a13de0450b20",
   "metadata": {},
   "outputs": [
    {
     "data": {
      "text/plain": [
       "100"
      ]
     },
     "execution_count": 42,
     "metadata": {},
     "output_type": "execute_result"
    }
   ],
   "source": [
    "obj.get_private_value()"
   ]
  },
  {
   "cell_type": "code",
   "execution_count": 43,
   "id": "9b9e8cdb-2763-4924-962e-9085aef1a766",
   "metadata": {},
   "outputs": [],
   "source": [
    "obj.update_value(1000)"
   ]
  },
  {
   "cell_type": "code",
   "execution_count": 44,
   "id": "9d3ab2a6-1fc9-4668-be3d-a9c9d1748052",
   "metadata": {},
   "outputs": [
    {
     "data": {
      "text/plain": [
       "1000"
      ]
     },
     "execution_count": 44,
     "metadata": {},
     "output_type": "execute_result"
    }
   ],
   "source": [
    "obj.get_private_value()"
   ]
  },
  {
   "cell_type": "code",
   "execution_count": 25,
   "id": "6273fdc3-fa65-4faa-9140-9eaa5a371393",
   "metadata": {},
   "outputs": [
    {
     "ename": "TypeError",
     "evalue": "Can't instantiate abstract class Bank without an implementation for abstract methods 'Security', 'security2'",
     "output_type": "error",
     "traceback": [
      "\u001b[1;31m---------------------------------------------------------------------------\u001b[0m",
      "\u001b[1;31mTypeError\u001b[0m                                 Traceback (most recent call last)",
      "Cell \u001b[1;32mIn[25], line 15\u001b[0m\n\u001b[0;32m     12\u001b[0m     \u001b[38;5;129m@abstractmethod\u001b[39m\n\u001b[0;32m     13\u001b[0m     \u001b[38;5;28;01mdef\u001b[39;00m \u001b[38;5;21msecurity2\u001b[39m():\n\u001b[0;32m     14\u001b[0m         \u001b[38;5;28mprint\u001b[39m(\u001b[38;5;124m'\u001b[39m\u001b[38;5;124mSecurity2\u001b[39m\u001b[38;5;124m'\u001b[39m)\n\u001b[1;32m---> 15\u001b[0m obj1\u001b[38;5;241m=\u001b[39m\u001b[43mBank\u001b[49m\u001b[43m(\u001b[49m\u001b[43m)\u001b[49m\n\u001b[0;32m     16\u001b[0m obj1\u001b[38;5;241m.\u001b[39mdatabase()\n\u001b[0;32m     17\u001b[0m obj1\u001b[38;5;241m.\u001b[39mSecurity()\n",
      "\u001b[1;31mTypeError\u001b[0m: Can't instantiate abstract class Bank without an implementation for abstract methods 'Security', 'security2'"
     ]
    }
   ],
   "source": [
    "# Abstract base class.\n",
    "\n",
    "from abc import ABC, abstractmethod       # ABC- abstract base class\n",
    "\n",
    "class Bank(ABC):\n",
    "    def database(self):\n",
    "        print('Database Connnected')\n",
    "        \n",
    "    @abstractmethod\n",
    "    def Security(self):\n",
    "        print('Security 1')\n",
    "    @abstractmethod\n",
    "    def security2():\n",
    "        print('Security2')\n",
    "obj1=Bank()\n",
    "obj1.database()\n",
    "obj1.Security()"
   ]
  },
  {
   "cell_type": "code",
   "execution_count": 28,
   "id": "4200ea39-633d-4727-9fbb-05d26937778e",
   "metadata": {},
   "outputs": [
    {
     "name": "stdout",
     "output_type": "stream",
     "text": [
      "Login Success\n"
     ]
    }
   ],
   "source": [
    "class mob_bank(Bank):\n",
    "    def mob_database(self):\n",
    "        print('Login Success')\n",
    "\n",
    "    def Security():\n",
    "        pass\n",
    "\n",
    "    def security2():\n",
    "        pass\n",
    "\n",
    "obj2=mob_bank()\n",
    "obj2.mob_database()"
   ]
  },
  {
   "cell_type": "code",
   "execution_count": 29,
   "id": "892709c7-ab84-44c6-aa0d-a980720a9a6e",
   "metadata": {},
   "outputs": [
    {
     "name": "stdout",
     "output_type": "stream",
     "text": [
      "Database Connnected\n"
     ]
    }
   ],
   "source": [
    "obj3=mob_bank()\n",
    "obj3.database()\n"
   ]
  },
  {
   "cell_type": "code",
   "execution_count": null,
   "id": "caea212c-584f-4f21-8bd7-5c361552a0d3",
   "metadata": {},
   "outputs": [],
   "source": []
  }
 ],
 "metadata": {
  "kernelspec": {
   "display_name": "Python 3 (ipykernel)",
   "language": "python",
   "name": "python3"
  },
  "language_info": {
   "codemirror_mode": {
    "name": "ipython",
    "version": 3
   },
   "file_extension": ".py",
   "mimetype": "text/x-python",
   "name": "python",
   "nbconvert_exporter": "python",
   "pygments_lexer": "ipython3",
   "version": "3.12.2"
  }
 },
 "nbformat": 4,
 "nbformat_minor": 5
}
