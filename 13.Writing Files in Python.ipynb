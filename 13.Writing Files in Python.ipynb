{
 "cells": [
  {
   "cell_type": "markdown",
   "id": "a9c2dc42-e0e7-474f-b925-ec899d470ab0",
   "metadata": {},
   "source": [
    "# 13. Writing Files in Python\n",
    "\n",
    " * __To write to a text file in Python, you follow these steps:__\n",
    " * __First, Open the text for writing (or appending) using open function.__\n",
    " * __Second, Write to the text file using the write(), or writelines() methods.__\n",
    " * __Third, close the file using close() methods.__"
   ]
  },
  {
   "cell_type": "code",
   "execution_count": 1,
   "id": "9faa51d4-aa79-4665-9843-01ffa090f25d",
   "metadata": {},
   "outputs": [],
   "source": [
    "x='charu.txt'\n",
    "with open(x,'w') as f:\n",
    "    f.write('My name is Charu.\\n')\n",
    "    f.write('I belong from MP.')"
   ]
  },
  {
   "cell_type": "code",
   "execution_count": 2,
   "id": "686719c1-392b-40f5-88e3-76aefa97dd75",
   "metadata": {},
   "outputs": [],
   "source": [
    "x='charu.txt'\n",
    "with open(x,'w') as f:\n",
    "    f.write('Apple\\n')\n",
    "    f.write('Ball\\n')\n",
    "    f.write('Cat\\n')"
   ]
  },
  {
   "cell_type": "code",
   "execution_count": 3,
   "id": "f177018e-563b-45a5-bc4f-0663ac083ecf",
   "metadata": {},
   "outputs": [],
   "source": [
    "y='C:\\\\Users\\\\Admin\\\\Downloads\\\\charu.txt'\n",
    "\n",
    "with open(y,'w') as f:\n",
    "    f.write('Apple\\n')\n",
    "    f.write('Boy\\n')\n",
    "    f.write('Cat\\n')\n",
    "    f.write('Elephant\\n')"
   ]
  },
  {
   "cell_type": "code",
   "execution_count": 4,
   "id": "8372975e-83cd-4655-90da-e3d07a66ac1a",
   "metadata": {},
   "outputs": [
    {
     "name": "stdout",
     "output_type": "stream",
     "text": [
      "Apple\n",
      "Boy\n",
      "Cat\n",
      "Elephant\n",
      "\n"
     ]
    }
   ],
   "source": [
    "with open(y,'r') as f:\n",
    "    print(f.read())"
   ]
  },
  {
   "cell_type": "code",
   "execution_count": 6,
   "id": "d69db035-d1a5-4ada-bba5-c168bd4b26f4",
   "metadata": {},
   "outputs": [
    {
     "name": "stdin",
     "output_type": "stream",
     "text": [
      "Enter your file name: charu\n",
      "Enter Your Range Here: 2\n",
      "Enter your text here 1:  My name is Charu Kulshreshtha.\n",
      "Enter your text here 2:  I belong from MP\n"
     ]
    }
   ],
   "source": [
    "# wap to take input from and write all the content inside the file.\n",
    "\n",
    "f_name=input('Enter your file name:')\n",
    "f_name='C:\\\\Users\\\\Admin\\\\Downloads\\\\'+f_name+'.txt'\n",
    "n=int(input('Enter Your Range Here:'))\n",
    "\n",
    "with open(f_name,'w') as f:\n",
    "    for i in range(1,n+1):\n",
    "        s=input(f'Enter your text here {i}: ')\n",
    "        f.write(s)\n",
    "        f.write('\\n')"
   ]
  },
  {
   "cell_type": "code",
   "execution_count": null,
   "id": "47bac3dc-f3b9-49e1-98be-da6b9602368b",
   "metadata": {},
   "outputs": [],
   "source": []
  }
 ],
 "metadata": {
  "kernelspec": {
   "display_name": "Python 3 (ipykernel)",
   "language": "python",
   "name": "python3"
  },
  "language_info": {
   "codemirror_mode": {
    "name": "ipython",
    "version": 3
   },
   "file_extension": ".py",
   "mimetype": "text/x-python",
   "name": "python",
   "nbconvert_exporter": "python",
   "pygments_lexer": "ipython3",
   "version": "3.12.2"
  }
 },
 "nbformat": 4,
 "nbformat_minor": 5
}
