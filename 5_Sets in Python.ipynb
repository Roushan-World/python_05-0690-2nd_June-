{
 "cells": [
  {
   "cell_type": "markdown",
   "id": "cadcdbc0-6d37-4b56-8d33-3a8d1ef1d675",
   "metadata": {},
   "source": [
    "# 5. Sets in Python\n",
    "\n",
    " * __Set is one of the 4th build-in data types in Python used to store collections of data including List, Tuples, and Dictionary.__\n",
    " * __Sets are unordered, but you can remove items and add new items.__\n",
    " * __Set elements are unique. Duplicate elements are not allowed.__\n",
    " * __A set itself may be modified,but the elements contained in the set must be of an immutable type.__\n",
    " * __Sets are used to store multiple items in a single variable.__\n",
    " * __You can denote a set with a pair of curly brackets {}.__"
   ]
  },
  {
   "cell_type": "code",
   "execution_count": 2,
   "id": "3782ae7b-679e-4e2c-932c-f2ccda045cf1",
   "metadata": {},
   "outputs": [
    {
     "name": "stdout",
     "output_type": "stream",
     "text": [
      "{}\n",
      "<class 'dict'>\n"
     ]
    }
   ],
   "source": [
    "x={}\n",
    "print(x)\n",
    "print(type(x))"
   ]
  },
  {
   "cell_type": "code",
   "execution_count": 8,
   "id": "e7f788a9-00bb-4103-a4be-c0b0edbc3b08",
   "metadata": {},
   "outputs": [
    {
     "name": "stdout",
     "output_type": "stream",
     "text": [
      "{1}\n",
      "<class 'set'>\n"
     ]
    }
   ],
   "source": [
    "x1={1}\n",
    "print(x1)\n",
    "print(type(x1))"
   ]
  },
  {
   "cell_type": "code",
   "execution_count": 11,
   "id": "7f37526e-44b8-489f-9a2a-100a9fa7034d",
   "metadata": {},
   "outputs": [
    {
     "name": "stdout",
     "output_type": "stream",
     "text": [
      "set()\n",
      "<class 'set'>\n"
     ]
    }
   ],
   "source": [
    "x2=set()\n",
    "print(x2)\n",
    "print(type(x2))"
   ]
  },
  {
   "cell_type": "code",
   "execution_count": 13,
   "id": "177a2870-dfd1-49ab-8f34-2a85660ab059",
   "metadata": {},
   "outputs": [
    {
     "name": "stdout",
     "output_type": "stream",
     "text": [
      "<class 'list'>\n",
      "[10, 12, 5, 8, 1, 1, 1, 2, 1, 2, 2]\n"
     ]
    }
   ],
   "source": [
    "list1=[10,12,5,8,1,1,1,2,1,2,2]\n",
    "print(type(list1))\n",
    "print(list1)"
   ]
  },
  {
   "cell_type": "code",
   "execution_count": 14,
   "id": "3f4afb89-1494-4c32-a682-009118744721",
   "metadata": {},
   "outputs": [
    {
     "data": {
      "text/plain": [
       "{1, 2, 5, 8, 10, 12}"
      ]
     },
     "execution_count": 14,
     "metadata": {},
     "output_type": "execute_result"
    }
   ],
   "source": [
    "set2=set(list1)\n",
    "set2"
   ]
  },
  {
   "cell_type": "code",
   "execution_count": 15,
   "id": "1383f240-ee99-4380-9bd8-d6fd977e7fc7",
   "metadata": {},
   "outputs": [
    {
     "data": {
      "text/plain": [
       "{1.618, 2024, 3.14, False, 'Hello Python', 'Hello World', True}"
      ]
     },
     "execution_count": 15,
     "metadata": {},
     "output_type": "execute_result"
    }
   ],
   "source": [
    "set1={'Hello World',3.14,1.618,'Hello Python',True,False,3.14,1.618,2024}\n",
    "set1"
   ]
  },
  {
   "cell_type": "markdown",
   "id": "50fad09b-1639-4c20-ba54-e569333c38ec",
   "metadata": {},
   "source": [
    "# Set Operations"
   ]
  },
  {
   "cell_type": "markdown",
   "id": "6c13eaab-a4da-4088-8f8e-57dc7a6ed068",
   "metadata": {},
   "source": [
    "# Add() functions"
   ]
  },
  {
   "cell_type": "code",
   "execution_count": 16,
   "id": "a036553d-5915-4691-a340-d9a2c218eb74",
   "metadata": {},
   "outputs": [
    {
     "data": {
      "text/plain": [
       "{1.618, 2024, 3.14, False, 'Hello Python', 'Hello World', True}"
      ]
     },
     "execution_count": 16,
     "metadata": {},
     "output_type": "execute_result"
    }
   ],
   "source": [
    "set1"
   ]
  },
  {
   "cell_type": "code",
   "execution_count": 17,
   "id": "ca9a98e6-9849-43a8-b788-183cea5ac14a",
   "metadata": {},
   "outputs": [
    {
     "name": "stdout",
     "output_type": "stream",
     "text": [
      "{False, 1.618, True, 3.14, 'Hello World', 'Charu', 2024, 'Hello Python'}\n"
     ]
    }
   ],
   "source": [
    "set1.add('Charu')\n",
    "print(set1)"
   ]
  },
  {
   "cell_type": "code",
   "execution_count": 28,
   "id": "b03d7bbe-631d-4ba7-a346-8d23f1edaeac",
   "metadata": {},
   "outputs": [
    {
     "name": "stdout",
     "output_type": "stream",
     "text": [
      "{1.1, 20, 6, 7, 8, 9}\n",
      "{False, 1.618, True, 3.14, 1.1, 6, 7, 8, 9, 20, 2024, 'Hello Python', 'Hello World', 'Charu'}\n"
     ]
    }
   ],
   "source": [
    "# update() function to update the set.\n",
    "\n",
    "\n",
    "\n",
    "x_set={6,7,8,9,1.1,20}\n",
    "print(x_set)\n",
    "set1.update(x_set)\n",
    "print(set1)"
   ]
  },
  {
   "cell_type": "code",
   "execution_count": 29,
   "id": "7ffdeb6d-871a-4e62-b421-6128c2b9b8a8",
   "metadata": {},
   "outputs": [
    {
     "name": "stdout",
     "output_type": "stream",
     "text": [
      "{False, 1.618, True, 3.14, 1.1, 6, 7, 8, 9, 20, 2024, 'Hello Python', 'Hello World'}\n"
     ]
    }
   ],
   "source": [
    "# remove() function \n",
    "\n",
    "set1.remove('Charu')\n",
    "print(set1)"
   ]
  },
  {
   "cell_type": "code",
   "execution_count": 30,
   "id": "030b1876-2ace-4329-a160-b6fa18eada21",
   "metadata": {},
   "outputs": [
    {
     "ename": "KeyError",
     "evalue": "'Hello'",
     "output_type": "error",
     "traceback": [
      "\u001b[1;31m---------------------------------------------------------------------------\u001b[0m",
      "\u001b[1;31mKeyError\u001b[0m                                  Traceback (most recent call last)",
      "Cell \u001b[1;32mIn[30], line 1\u001b[0m\n\u001b[1;32m----> 1\u001b[0m \u001b[43mset1\u001b[49m\u001b[38;5;241;43m.\u001b[39;49m\u001b[43mremove\u001b[49m\u001b[43m(\u001b[49m\u001b[38;5;124;43m'\u001b[39;49m\u001b[38;5;124;43mHello\u001b[39;49m\u001b[38;5;124;43m'\u001b[39;49m\u001b[43m)\u001b[49m\n\u001b[0;32m      2\u001b[0m \u001b[38;5;28mprint\u001b[39m(set1)\n",
      "\u001b[1;31mKeyError\u001b[0m: 'Hello'"
     ]
    }
   ],
   "source": [
    "set1.remove('Hello')\n",
    "print(set1)"
   ]
  },
  {
   "cell_type": "code",
   "execution_count": 36,
   "id": "7280ecd8-a99d-43a4-80d8-fcce65f76ebe",
   "metadata": {},
   "outputs": [
    {
     "name": "stdout",
     "output_type": "stream",
     "text": [
      "{False, 1.618, True, 3.14, 1.1, 6, 2024, 'Hello Python', 'Hello World'}\n"
     ]
    }
   ],
   "source": [
    "#discard() function:\n",
    "# >> It is also use the remove the element from the set. But if element is not found then it doent not return error \n",
    "# whetherelse it return whole set.\n",
    "set1.discard(9)\n",
    "print(set1)"
   ]
  },
  {
   "cell_type": "code",
   "execution_count": 37,
   "id": "41046dfa-08ac-4aa3-bce1-e9ed39576e41",
   "metadata": {},
   "outputs": [
    {
     "name": "stdout",
     "output_type": "stream",
     "text": [
      "{False, 1.618, True, 3.14, 1.1, 6, 2024, 'Hello Python', 'Hello World'}\n"
     ]
    }
   ],
   "source": [
    "set1.discard(9)\n",
    "print(set1)"
   ]
  },
  {
   "cell_type": "code",
   "execution_count": 38,
   "id": "56cc4500-12ac-49ac-8584-9e354f9098ac",
   "metadata": {},
   "outputs": [
    {
     "name": "stdout",
     "output_type": "stream",
     "text": [
      "{False, 1.618, True, 3.14, 1.1, 6, 2024, 'Hello Python', 'Hello World'}\n"
     ]
    }
   ],
   "source": [
    "set1.discard(9)\n",
    "print(set1)"
   ]
  },
  {
   "cell_type": "code",
   "execution_count": 39,
   "id": "04af5bc6-031f-46dc-b4cf-adb835792d61",
   "metadata": {},
   "outputs": [
    {
     "ename": "KeyError",
     "evalue": "9",
     "output_type": "error",
     "traceback": [
      "\u001b[1;31m---------------------------------------------------------------------------\u001b[0m",
      "\u001b[1;31mKeyError\u001b[0m                                  Traceback (most recent call last)",
      "Cell \u001b[1;32mIn[39], line 1\u001b[0m\n\u001b[1;32m----> 1\u001b[0m \u001b[43mset1\u001b[49m\u001b[38;5;241;43m.\u001b[39;49m\u001b[43mremove\u001b[49m\u001b[43m(\u001b[49m\u001b[38;5;241;43m9\u001b[39;49m\u001b[43m)\u001b[49m\n\u001b[0;32m      2\u001b[0m \u001b[38;5;28mprint\u001b[39m(set1)\n",
      "\u001b[1;31mKeyError\u001b[0m: 9"
     ]
    }
   ],
   "source": [
    "set1.remove(9)\n",
    "print(set1)"
   ]
  },
  {
   "cell_type": "markdown",
   "id": "db82c6e0-e1a9-49f3-958a-c28177ab68db",
   "metadata": {},
   "source": [
    "# Logic Operations"
   ]
  },
  {
   "cell_type": "code",
   "execution_count": 40,
   "id": "297e29b7-59f8-46fc-a6e0-373b2b3ed765",
   "metadata": {},
   "outputs": [
    {
     "data": {
      "text/plain": [
       "{2, 4, 6, 8, 10, 12, 14}"
      ]
     },
     "execution_count": 40,
     "metadata": {},
     "output_type": "execute_result"
    }
   ],
   "source": [
    "# union,Interseciton,Difference,Symmetric Difference\n",
    "\n",
    "# union() function\n",
    "set1={2,4,6,8}\n",
    "set2={4,6,8,10,12,14}\n",
    "set1.union(set2)"
   ]
  },
  {
   "cell_type": "code",
   "execution_count": 41,
   "id": "1f3b85ba-ef3f-4725-9e76-9880903b3986",
   "metadata": {},
   "outputs": [
    {
     "data": {
      "text/plain": [
       "{4, 6, 8}"
      ]
     },
     "execution_count": 41,
     "metadata": {},
     "output_type": "execute_result"
    }
   ],
   "source": [
    "# Intersection: It holds duplicate value.\n",
    "\n",
    "set1={2,4,6,8}\n",
    "set2={4,6,8,10,12,14}\n",
    "set1.intersection(set2)"
   ]
  },
  {
   "cell_type": "code",
   "execution_count": 47,
   "id": "4311e253-ee4b-4bd1-a549-12ce9382eecc",
   "metadata": {},
   "outputs": [
    {
     "name": "stdout",
     "output_type": "stream",
     "text": [
      "{2}\n",
      "{10, 12, 14}\n",
      "{2}\n",
      "{10, 12, 14}\n"
     ]
    }
   ],
   "source": [
    "# Difference= (a-b)(b-a)\n",
    "\n",
    "set1={2,4,6,8}   # set1=a\n",
    "set2={4,6,8,10,12,14}   #set2=b\n",
    "\n",
    "print(set1-set2)   # set1->set1- all element returned after subtracted from set2\n",
    "print(set2-set1)   #b-a   # set2-all element returned after subtracted from set1\n",
    "\n",
    "\n",
    "# another method\n",
    "\n",
    "print(set1.difference(set2))\n",
    "print(set2.difference(set1))"
   ]
  },
  {
   "cell_type": "code",
   "execution_count": 48,
   "id": "2a76e25c-0990-4bdb-88ab-9a992f21fcf1",
   "metadata": {},
   "outputs": [
    {
     "data": {
      "text/plain": [
       "{2, 10, 12, 14}"
      ]
     },
     "execution_count": 48,
     "metadata": {},
     "output_type": "execute_result"
    }
   ],
   "source": [
    "# symmetric_difference\n",
    "set1={2,4,6,8}\n",
    "set2={4,6,8,10,12,14}\n",
    "\n",
    "set1.symmetric_difference(set2)"
   ]
  },
  {
   "cell_type": "code",
   "execution_count": 50,
   "id": "f3de289d-c3dc-45e3-aef0-89f74a306d43",
   "metadata": {},
   "outputs": [
    {
     "name": "stdout",
     "output_type": "stream",
     "text": [
      "The minimum number of a is: 1\n",
      "The minimum number of b is: 1\n",
      "The maximum number of a is: 5\n",
      "The maximum number of b is: 5\n",
      "The Sum of a is: 30\n",
      "The Sum of b is: 15\n",
      "Total length of a is: 10\n",
      "Total length of b is: 5\n"
     ]
    }
   ],
   "source": [
    "a=[1,1,2,2,3,3,4,4,5,5]\n",
    "b={1,1,2,2,3,3,4,4,5,5}\n",
    "\n",
    "print('The minimum number of a is:',min(a))\n",
    "print('The minimum number of b is:',min(b))\n",
    "print('The maximum number of a is:',max(a))\n",
    "print('The maximum number of b is:',max(b))\n",
    "print('The Sum of a is:',sum(a))\n",
    "print('The Sum of b is:',sum(b))\n",
    "print('Total length of a is:',len(a))\n",
    "print('Total length of b is:',len(b))"
   ]
  },
  {
   "cell_type": "code",
   "execution_count": 51,
   "id": "9947a8f3-610e-450f-9378-a8525cc06f04",
   "metadata": {},
   "outputs": [
    {
     "name": "stdout",
     "output_type": "stream",
     "text": [
      "{10, 20, 'Hello'}\n",
      "set()\n"
     ]
    }
   ],
   "source": [
    "# clear() function\n",
    "set2={'Hello',10,20}\n",
    "print(set2)\n",
    "set2.clear()\n",
    "print(set2)"
   ]
  },
  {
   "cell_type": "code",
   "execution_count": null,
   "id": "1a339c37-b0ff-4666-9ea3-c53200eae47c",
   "metadata": {},
   "outputs": [],
   "source": []
  }
 ],
 "metadata": {
  "kernelspec": {
   "display_name": "Python 3 (ipykernel)",
   "language": "python",
   "name": "python3"
  },
  "language_info": {
   "codemirror_mode": {
    "name": "ipython",
    "version": 3
   },
   "file_extension": ".py",
   "mimetype": "text/x-python",
   "name": "python",
   "nbconvert_exporter": "python",
   "pygments_lexer": "ipython3",
   "version": "3.12.2"
  }
 },
 "nbformat": 4,
 "nbformat_minor": 5
}
