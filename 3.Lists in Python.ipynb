{
 "cells": [
  {
   "cell_type": "markdown",
   "id": "b8671669-6433-41ba-8a0b-07073f5caf56",
   "metadata": {},
   "source": [
    "# 3. Lists in Python\n",
    "\n",
    " * __Lists are ordered.__\n",
    " * __Lists can contains any arbitrary objects.__\n",
    " * __List element can be accessed by indexed.__\n",
    " * __Lists can be nested to any arbitrary depth.__\n",
    " * __Lists are mutable.__\n",
    " * __Lists are dynamic.__"
   ]
  },
  {
   "cell_type": "markdown",
   "id": "b17fe2f9-6679-4b7f-9f35-3b0ffc22cc3b",
   "metadata": {},
   "source": [
    "# What can lists contains?\n",
    "\n",
    " * __Strings__\n",
    " * __Floats__\n",
    " * __Integer__\n",
    " * __Boolean__\n",
    " * __Nested List__\n",
    " * __Nested Tuples__\n",
    " * __Other data Structures.__"
   ]
  },
  {
   "cell_type": "code",
   "execution_count": 2,
   "id": "d09dd2cd-7c64-4419-baed-955e56fb16cf",
   "metadata": {},
   "outputs": [
    {
     "name": "stdout",
     "output_type": "stream",
     "text": [
      "[]\n",
      "<class 'list'>\n"
     ]
    }
   ],
   "source": [
    "# Creating a list\n",
    "\n",
    "# Creating empty list\n",
    "nlis=[]\n",
    "print(nlis)\n",
    "print(type(nlis))"
   ]
  },
  {
   "cell_type": "code",
   "execution_count": 3,
   "id": "65b32dc7-7e92-40ad-a2d7-b5b014e5fdbe",
   "metadata": {},
   "outputs": [
    {
     "name": "stdout",
     "output_type": "stream",
     "text": [
      "['Hello world', 3.14, 1.618, True, False, ['hi, python', 10, 20], ('Hello', 'HI', 50, 100)]\n",
      "<class 'list'>\n"
     ]
    }
   ],
   "source": [
    "# creating list with elements.\n",
    "\n",
    "nlis=['Hello world',3.14,1.618,True,False,['hi, python',10,20],('Hello','HI',50,100)]\n",
    "print(nlis)\n",
    "print(type(nlis))"
   ]
  },
  {
   "cell_type": "code",
   "execution_count": 9,
   "id": "79bda972-795a-46fd-9418-7aea60c3a296",
   "metadata": {},
   "outputs": [
    {
     "name": "stdout",
     "output_type": "stream",
     "text": [
      "Hello world\n",
      "<class 'str'>\n",
      "3.14\n",
      "<class 'float'>\n",
      "1.618\n",
      "<class 'float'>\n",
      "True\n",
      "<class 'bool'>\n"
     ]
    }
   ],
   "source": [
    "print(nlis[0])\n",
    "print(type(nlis[0]))\n",
    "print(nlis[1])\n",
    "print(type(nlis[1]))\n",
    "print(nlis[2])\n",
    "print(type(nlis[2]))\n",
    "print(nlis[3])\n",
    "print(type(nlis[4]))"
   ]
  },
  {
   "cell_type": "markdown",
   "id": "d4ab58ac-4d9c-4af0-bdcd-7c9d9b0cedcc",
   "metadata": {},
   "source": [
    "# List operations"
   ]
  },
  {
   "cell_type": "code",
   "execution_count": 11,
   "id": "90413ce3-78fd-4f34-8394-ed95d38ac1ee",
   "metadata": {},
   "outputs": [
    {
     "name": "stdout",
     "output_type": "stream",
     "text": [
      "['Hello world', 3.14, 1.618, True, False, ['hi, python', 10, 20], ('Hello', 'HI', 50, 100)]\n",
      "7\n"
     ]
    }
   ],
   "source": [
    "print(nlis)\n",
    "\n",
    "# To count the total length of the list.\n",
    "print(len(nlis))"
   ]
  },
  {
   "cell_type": "code",
   "execution_count": 14,
   "id": "59543d2b-d729-4f00-b697-71a924faa2d7",
   "metadata": {},
   "outputs": [
    {
     "name": "stdout",
     "output_type": "stream",
     "text": [
      "['Hello world', 3.14, 1.618, True, False, ['hi, python', 10, 20], ('Hello', 'HI', 50, 100)]\n",
      "['Hello world', 3.14, 1.618, True, False]\n"
     ]
    }
   ],
   "source": [
    "# Slicing of the list\n",
    "print(nlis)\n",
    "print(nlis[0:5])"
   ]
  },
  {
   "cell_type": "code",
   "execution_count": 15,
   "id": "551c419a-023e-447a-bbec-a7fbf05e4ee7",
   "metadata": {},
   "outputs": [
    {
     "name": "stdout",
     "output_type": "stream",
     "text": [
      "[['hi, python', 10, 20]]\n"
     ]
    }
   ],
   "source": [
    "print(nlis[5:6])"
   ]
  },
  {
   "cell_type": "code",
   "execution_count": 16,
   "id": "7ba1e045-0aa5-414c-8251-6a0262012e17",
   "metadata": {},
   "outputs": [
    {
     "name": "stdout",
     "output_type": "stream",
     "text": [
      "[('Hello', 'HI', 50, 100)]\n"
     ]
    }
   ],
   "source": [
    "print(nlis[6:7])"
   ]
  },
  {
   "cell_type": "code",
   "execution_count": 17,
   "id": "14a2db22-cca0-40c2-bcbb-75c1f29444c5",
   "metadata": {},
   "outputs": [
    {
     "name": "stdout",
     "output_type": "stream",
     "text": [
      "['Hello world']\n"
     ]
    }
   ],
   "source": [
    "# CRUD Operations\n",
    "# C-Create, R-Read, U-Update, D-Delete.\n",
    "# Insert the data in the list: We have three methods ['Append','Extend','Insert'] methods\n",
    "\n",
    "nlis1=['Hello world']\n",
    "print(nlis1)"
   ]
  },
  {
   "cell_type": "code",
   "execution_count": 25,
   "id": "038e553b-7e90-4536-860e-0c622b27dc7c",
   "metadata": {},
   "outputs": [
    {
     "name": "stdout",
     "output_type": "stream",
     "text": [
      "['Hello world', 'Charu', 'hi python', 10, 20, 30, 'Charu', 'Charu']\n"
     ]
    }
   ],
   "source": [
    "# Append the list.\n",
    "# Append takes one argument at a time.\n",
    "\n",
    "nlis1.append('Charu')\n",
    "print(nlis1)"
   ]
  },
  {
   "cell_type": "code",
   "execution_count": 22,
   "id": "56619534-cc9f-4c2f-aa69-eb7de3e6012e",
   "metadata": {},
   "outputs": [
    {
     "name": "stdout",
     "output_type": "stream",
     "text": [
      "['Hello world', 'Charu', 'hi python', 10, 20, 30]\n"
     ]
    }
   ],
   "source": [
    "# Extend() mehtod\n",
    "# Extend() method take multiple element at one time.\n",
    "nlis1.extend(['hi python',10,20,30])\n",
    "print(nlis1)"
   ]
  },
  {
   "cell_type": "code",
   "execution_count": 28,
   "id": "56184edb-910d-4d54-b196-f8804013ddf7",
   "metadata": {},
   "outputs": [
    {
     "name": "stdout",
     "output_type": "stream",
     "text": [
      "['Hello world', 'Charu', 'hi python', 10, 20, 30, 'Charu', 'Charu']\n",
      "['Charu Kulshrestha', 'Hello world', 'Charu', 'hi python', 10, 20, 30, 'Charu', 'Charu']\n"
     ]
    }
   ],
   "source": [
    "# insert() method\n",
    "# insert() mehtod takes two argument at one time first argument is your position where which you want to insert your data.\n",
    "print(nlis1)\n",
    "nlis1.insert(0,'Charu Kulshrestha')\n",
    "print(nlis1)"
   ]
  },
  {
   "cell_type": "code",
   "execution_count": 30,
   "id": "37aafa46-76ec-4c7f-b574-04cda200bfd4",
   "metadata": {},
   "outputs": [
    {
     "name": "stdout",
     "output_type": "stream",
     "text": [
      "['Charu Kulshrestha', 'Hello world', 'Charu', 'hi python', 10, 20, 30, 'Charu', 'Charu']\n"
     ]
    }
   ],
   "source": [
    "print(nlis1)"
   ]
  },
  {
   "cell_type": "code",
   "execution_count": 31,
   "id": "4f529503-8db0-44f2-ace1-5b4a6c7c47b2",
   "metadata": {},
   "outputs": [
    {
     "name": "stdout",
     "output_type": "stream",
     "text": [
      "['Charu Kulshrestha', 'Hello world', 'Charu', 'hi python', 10, 20, 30, 'Charu', 'Charu']\n"
     ]
    }
   ],
   "source": [
    "print(nlis1)"
   ]
  },
  {
   "cell_type": "code",
   "execution_count": 33,
   "id": "5ffdc1bb-5558-4cad-88cc-dcc965e5ae1c",
   "metadata": {},
   "outputs": [
    {
     "name": "stdout",
     "output_type": "stream",
     "text": [
      "['Charu Kulshrestha', 'Hello Python', 'Charu', 'hi python', 10, 20, 30, 'Charu', 'Charu']\n"
     ]
    }
   ],
   "source": [
    "# updating the list\n",
    "\n",
    "nlis1[1]='Hello Python'\n",
    "print(nlis1)"
   ]
  },
  {
   "cell_type": "code",
   "execution_count": 34,
   "id": "bf3abff1-62d8-4915-8bec-b8ba5a8c4dc8",
   "metadata": {},
   "outputs": [
    {
     "name": "stdout",
     "output_type": "stream",
     "text": [
      "['Charu Kulshrestha', 'Hello Python', 'Charu', 'hi python', 10, 20, 30, 'Charu']\n"
     ]
    }
   ],
   "source": [
    "# Deleting the element in the list.\n",
    "\n",
    "del(nlis1[7])\n",
    "print(nlis1)"
   ]
  },
  {
   "cell_type": "code",
   "execution_count": 39,
   "id": "4de03b0c-559f-4e8e-a09f-c2fa3b523743",
   "metadata": {},
   "outputs": [
    {
     "name": "stdout",
     "output_type": "stream",
     "text": [
      "Mininum of the list: 10\n",
      "Maximum of the list: 90\n",
      "Sum of the list: 590\n",
      "Total lenght of the list: 13\n",
      "Total count of the element: 2\n",
      "Average of the list: 45.38461538461539\n"
     ]
    }
   ],
   "source": [
    "# performing some calculation inside the list\n",
    "# len(), count(), index(), insert(), max(), min(), sum(), average()\n",
    "# aggragite() function\n",
    "\n",
    "list1=[10,20,30,30,20,10,40,50,60,70,80,80,90]\n",
    "\n",
    "print('Mininum of the list:',min(list1))\n",
    "print('Maximum of the list:',max(list1))\n",
    "print('Sum of the list:',sum(list1))\n",
    "print('Total lenght of the list:',len(list1))\n",
    "print('Total count of the element:',list1.count(10))\n",
    "print('Average of the list:',sum(list1)/len(list1))"
   ]
  },
  {
   "cell_type": "code",
   "execution_count": 40,
   "id": "379f65f8-1a2a-410d-9bc5-969985a82d84",
   "metadata": {},
   "outputs": [],
   "source": [
    "#Copy the list\n",
    "# There are two methods to copy the list\n",
    "# 1. Sallow copy\n",
    "# 2. Deep copy"
   ]
  },
  {
   "cell_type": "code",
   "execution_count": 45,
   "id": "133afd70-ede3-4dd9-8932-2824ed9b68d8",
   "metadata": {},
   "outputs": [
    {
     "name": "stdout",
     "output_type": "stream",
     "text": [
      "Original List: ['Hello world', 'Hello Python', 10, 20]\n",
      "Copied List: ['Hello world', 'Hello Python', 10, 20]\n",
      "New Original List: ['Hello world', 'Hello Python', 10, 20, 'Charu']\n",
      "Again Copied List: ['Hello world', 'Hello Python', 10, 20]\n"
     ]
    }
   ],
   "source": [
    "x=['Hello world','Hello Python',10,20]\n",
    "print('Original List:',x)\n",
    "#sallow copy\n",
    "y=x.copy()\n",
    "print(\"Copied List:\",y)\n",
    "\n",
    "#\n",
    "x.append('Charu')\n",
    "print('New Original List:',x)\n",
    "\n",
    "print('Again Copied List:',y)"
   ]
  },
  {
   "cell_type": "code",
   "execution_count": 49,
   "id": "d1a9f8ac-6984-4d70-95cc-31113994bb8a",
   "metadata": {},
   "outputs": [
    {
     "name": "stdout",
     "output_type": "stream",
     "text": [
      "Orginial List: ['hello world', 'Python']\n",
      "Copied List: ['hello world', 'Python']\n",
      "Again Printing Copied List: ['hello world', 'Python', 'Charu']\n",
      "Printing Original List: ['hello world', 'Python', 'Charu']\n"
     ]
    }
   ],
   "source": [
    "# Deep Copy\n",
    "x1=['hello world','Python']\n",
    "print('Orginial List:',x1)\n",
    "\n",
    "y1=x1\n",
    "print('Copied List:',y1)\n",
    "\n",
    "# \n",
    "y1.append('Charu')\n",
    "print('Again Printing Copied List:',y1)\n",
    "\n",
    "print('Printing Original List:',x1)"
   ]
  },
  {
   "cell_type": "code",
   "execution_count": null,
   "id": "8779fe91-496b-4515-95c2-75fa5b86a0c6",
   "metadata": {},
   "outputs": [],
   "source": []
  }
 ],
 "metadata": {
  "kernelspec": {
   "display_name": "Python 3 (ipykernel)",
   "language": "python",
   "name": "python3"
  },
  "language_info": {
   "codemirror_mode": {
    "name": "ipython",
    "version": 3
   },
   "file_extension": ".py",
   "mimetype": "text/x-python",
   "name": "python",
   "nbconvert_exporter": "python",
   "pygments_lexer": "ipython3",
   "version": "3.12.2"
  }
 },
 "nbformat": 4,
 "nbformat_minor": 5
}
