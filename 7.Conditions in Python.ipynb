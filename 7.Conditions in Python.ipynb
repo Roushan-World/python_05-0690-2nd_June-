{
 "cells": [
  {
   "cell_type": "markdown",
   "id": "b9eb1c5d-9445-475f-ae2c-0374df475fdb",
   "metadata": {},
   "source": [
    "# 7. Conditions in Python\n",
    "\n",
    " * __Comparison Operators__\n",
    " * __There are six comparison operators.__\n",
    " * __1. == (Equal to)__\n",
    " * __2. != (Not Equal to)__\n",
    " * __3. > (Greater than)__\n",
    " * __4. < (Less than)__\n",
    " * __5. >= (Greater than or equal to)__\n",
    " * __6. <= (Less than or equal to)__\n",
    "\n",
    "    * __Note: Comparison operator compare some value or operand and based on a condition, produce a Boolean.__"
   ]
  },
  {
   "cell_type": "code",
   "execution_count": 9,
   "id": "064e9803-f162-4d29-866d-c74a2c1b2024",
   "metadata": {},
   "outputs": [
    {
     "name": "stdout",
     "output_type": "stream",
     "text": [
      "True\n",
      "False\n",
      "True\n"
     ]
    }
   ],
   "source": [
    "# Assignment operator is (=)\n",
    "\n",
    "x=10\n",
    "print(x>2)\n",
    "print(x<2)\n",
    "print(x==10)"
   ]
  },
  {
   "cell_type": "code",
   "execution_count": 10,
   "id": "50b3dd44-ea6b-490c-bf53-a19fd7544d77",
   "metadata": {},
   "outputs": [
    {
     "name": "stdout",
     "output_type": "stream",
     "text": [
      "True\n"
     ]
    }
   ],
   "source": [
    "print(x>=2)"
   ]
  },
  {
   "cell_type": "code",
   "execution_count": 11,
   "id": "5b372f02-3748-46ed-b624-e92b3fb88fda",
   "metadata": {},
   "outputs": [
    {
     "name": "stdout",
     "output_type": "stream",
     "text": [
      "True\n"
     ]
    }
   ],
   "source": [
    "print(x<=10)"
   ]
  },
  {
   "cell_type": "markdown",
   "id": "e381c081-e1eb-4335-8341-b79f187fb277",
   "metadata": {},
   "source": [
    "# Branching(if,elif,else)\n",
    "\n",
    " * __Decision making is required when we want to execute a code only if a certain condition is satisfied.__\n",
    " * __The if/elif/else statement is used in Python for decision making.__\n",
    " * __An else statement can be combined with an if statement.__\n",
    " * __An else statement contains the block of code that executes if the conditional expression in the if statement resolves to 0 or a False value.__\n",
    " * __The else statement is an optional statement and there could be at most only one else statement following if.__\n",
    " * __The elif statemnet allows you to check multiple expressions for True and execute a block of code as soon as one of the evaluates to True.__\n",
    " * __Similar to the else, the elif statement is optional.__\n",
    " * __However, unlike else, for which there can be at most one statement, there can be an arbitrary number of elif statements following if.__"
   ]
  },
  {
   "cell_type": "code",
   "execution_count": 13,
   "id": "1b490a59-321a-414d-bbf7-8e78c7ff4fef",
   "metadata": {},
   "outputs": [
    {
     "name": "stdout",
     "output_type": "stream",
     "text": [
      "You are Baby\n"
     ]
    }
   ],
   "source": [
    "age=10\n",
    "\n",
    "if age==11:\n",
    "    print('You are child')\n",
    "\n",
    "else:\n",
    "    print(\"You are Baby\")"
   ]
  },
  {
   "cell_type": "code",
   "execution_count": 18,
   "id": "a6b4cdd6-7919-47cd-b8f4-a6926cd0d3f1",
   "metadata": {},
   "outputs": [
    {
     "name": "stdout",
     "output_type": "stream",
     "text": [
      "You are child\n"
     ]
    }
   ],
   "source": [
    "age=18\n",
    "\n",
    "if age>5:\n",
    "    print('You are child')\n",
    "\n",
    "else:\n",
    "    print('You are Baby')"
   ]
  },
  {
   "cell_type": "code",
   "execution_count": 19,
   "id": "4b0a76a0-e9f5-48f5-a0ef-76e26d2044d8",
   "metadata": {},
   "outputs": [
    {
     "name": "stdout",
     "output_type": "stream",
     "text": [
      "You are Teenager\n"
     ]
    }
   ],
   "source": [
    "age=18\n",
    "if age>12:\n",
    "    print('You are Teenager')\n",
    "    \n",
    "elif age==18:\n",
    "    print('You are adult.')\n",
    "else:\n",
    "    print('You are child')"
   ]
  },
  {
   "cell_type": "code",
   "execution_count": 25,
   "id": "069eb3fd-7fc6-4f0b-a958-787c4f1b1d6a",
   "metadata": {},
   "outputs": [
    {
     "name": "stdin",
     "output_type": "stream",
     "text": [
      "Enter your age: 17\n"
     ]
    },
    {
     "name": "stdout",
     "output_type": "stream",
     "text": [
      "You are not elegible for voting\n"
     ]
    }
   ],
   "source": [
    "# wap to check the age criteria you are elegible for voting or not.\n",
    "\n",
    "age=int(input('Enter your age:'))\n",
    "\n",
    "if age>=18:\n",
    "    print('You are elegible for voting.')\n",
    "\n",
    "else:\n",
    "    print('You are not elegible for voting')"
   ]
  },
  {
   "cell_type": "code",
   "execution_count": 36,
   "id": "476eedf9-1883-4e65-a0aa-af6612dde0b3",
   "metadata": {},
   "outputs": [
    {
     "name": "stdin",
     "output_type": "stream",
     "text": [
      "Enter Your Percentage 55\n"
     ]
    },
    {
     "name": "stdout",
     "output_type": "stream",
     "text": [
      "Your Grade is B\n"
     ]
    }
   ],
   "source": [
    "# Take percentage from the user and display their grade according to the percentage.\n",
    "# percentage and grade\n",
    "# 90-100 -   \"A+\"\n",
    "# 80 -90 -   \"A\"\n",
    "# 60-80  -   \"B+\"\n",
    "# 50 - 60 -   \"B\"\n",
    "# 40 - 50  -   \"C\"\n",
    "# Below 40  -  \"Fail\"\n",
    "\n",
    "percent=int(input('Enter Your Percentage'))\n",
    "\n",
    "if percent>90 and percent<=100:\n",
    "    print('Your Grade is A+')\n",
    "\n",
    "elif percent>80 and percent<=90:\n",
    "    print('Your Grade is A')\n",
    "\n",
    "elif percent>60 and percent<=80:\n",
    "    print('Your Grade is B+')\n",
    "elif percent>50 and percent<=60:\n",
    "    print('Your Grade is B')\n",
    "elif percent>40 and percent<=50:\n",
    "    print('Your Grade is C')\n",
    "else:\n",
    "    print('Your are Fail')"
   ]
  },
  {
   "cell_type": "code",
   "execution_count": null,
   "id": "7cc9c34c-fe38-4c6c-a2b0-889d21a9e765",
   "metadata": {},
   "outputs": [],
   "source": [
    "#1.  Wap to display the month name if user enter the value 1=\"January\",2=\"February\",3=\"March\",4=\"April\" \n",
    "#13=\"Invalid Month name\" so no.\n",
    "#2. wap to display weekdays name if user enter the value 1=\"Monday\",2=\"Tuesday\",3=\"Wednesday\" \n",
    "# 8=\"Invaid Weekday name\"and so on.\n",
    "\n",
    "#3. Wap to take input from the user and display the even or odd number.\n",
    "\n",
    "#4.Wap to check user input number is divisible by 7 or not.\n",
    "\n",
    "#5.Wap to check user input number is divisible by 7,8.\n",
    "\n",
    "#6.wap to check the divisibility of 3,5,7.\n",
    "\n",
    "#7.wap to find the sum of three number input from the user.\n",
    "\n",
    "#8.wap to find the sum of three numbers if all numbers are less than 20 and if number is greater than 20 \n",
    "# then find the subtract or all numbers is greater than 30 then multiply the all.\n",
    "\n",
    "#9. Given a list=[10,20,30,40,50,60,70,80,90,100]\n",
    "# first reverse the value only 40 to 80 your product is 10,20,30,80,70,60,50,40,90,100\n",
    "# second reverse the whole list and your output will be list = [100,90,80,70,60,50,40,30,20,10]\n",
    "\n",
    "#10. wap to find the exponent of user input number.\n",
    "\n",
    "#11. Accept any city from the user and display their monument of the city.\n",
    "# City -------------------------------> \"Monument\"\n",
    "# Delhi-------------------------------> \"RedFort\"\n",
    "# Agra--------------------------------> \"TajMahal\"\n",
    "# Jaipur------------------------------> \"JalMahal,HawaMahal\"\n",
    "# AmritSar----------------------------> \"Golden Temple\"\n",
    "# Madurai-----------------------------> \"Meenakshi Temple\"\n",
    "# Mysore------------------------------> \"Mysore Palace\"\n",
    "# Mumbai------------------------------> \"Gateway of India\"\n",
    "# Sanchi------------------------------> \"Sanchi Stupa\"\n",
    "# Hydrabad----------------------------> \"Charminar\"\n",
    "\n",
    "#12. A ship will give discount of 20% if the cost purchased cost price is more than 1000 it will give\n",
    "# discount 10% below 1000 no discount, cost is not more than 3000.\n",
    "\n",
    "#13. A Company decided to give the bonus to the employee according to the following conditions:\n",
    "# Time period of services ---------------------> Bonus\n",
    "# More than 10 Years --------------------------> 10%\n",
    "# >=6 years and <=10 years---------------------> 8%\n",
    "# <6 years ------------------------------------> 5%\n",
    "# Ask the user for their salary and year of services and print the net bonus amount."
   ]
  }
 ],
 "metadata": {
  "kernelspec": {
   "display_name": "Python 3 (ipykernel)",
   "language": "python",
   "name": "python3"
  },
  "language_info": {
   "codemirror_mode": {
    "name": "ipython",
    "version": 3
   },
   "file_extension": ".py",
   "mimetype": "text/x-python",
   "name": "python",
   "nbconvert_exporter": "python",
   "pygments_lexer": "ipython3",
   "version": "3.12.2"
  }
 },
 "nbformat": 4,
 "nbformat_minor": 5
}
