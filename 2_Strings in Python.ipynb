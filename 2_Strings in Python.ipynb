{
 "cells": [
  {
   "cell_type": "code",
   "execution_count": 1,
   "id": "6e895e80-abe9-4037-9a28-6efa51733a82",
   "metadata": {},
   "outputs": [
    {
     "data": {
      "text/plain": [
       "'! @ # $ %'"
      ]
     },
     "execution_count": 1,
     "metadata": {},
     "output_type": "execute_result"
    }
   ],
   "source": [
    "# string as a special character\n",
    "\"! @ # $ %\""
   ]
  },
  {
   "cell_type": "code",
   "execution_count": 3,
   "id": "022784bc-e976-484b-8507-c9bba9b7d280",
   "metadata": {},
   "outputs": [
    {
     "name": "stdout",
     "output_type": "stream",
     "text": [
      "Hello world\n",
      "Hey google\n",
      "Good Morning\n",
      "Congratulation\n"
     ]
    }
   ],
   "source": [
    "# string as a words\n",
    "print('Hello world')\n",
    "print('Hey google')\n",
    "print('Good Morning')\n",
    "print('Congratulation')"
   ]
  },
  {
   "cell_type": "code",
   "execution_count": 4,
   "id": "27d5e240-a856-45b5-a0a3-2f5dd1e339ed",
   "metadata": {},
   "outputs": [
    {
     "name": "stdout",
     "output_type": "stream",
     "text": [
      "Hey you! How are you?\n"
     ]
    }
   ],
   "source": [
    "# String as a sentence.\n",
    "print('Hey you! How are you?')"
   ]
  },
  {
   "cell_type": "code",
   "execution_count": 5,
   "id": "404564c3-00e7-4f52-8f06-a27feda7ec84",
   "metadata": {},
   "outputs": [
    {
     "name": "stdout",
     "output_type": "stream",
     "text": [
      "100\n",
      "2000\n",
      "36.23\n",
      "78.96\n"
     ]
    }
   ],
   "source": [
    "# string as a number\n",
    "print('100')\n",
    "print('2000')\n",
    "print('36.23')\n",
    "print('78.96')"
   ]
  },
  {
   "cell_type": "code",
   "execution_count": 7,
   "id": "0d10bf94-39e9-4fbf-bed6-c71cb9aeea1a",
   "metadata": {},
   "outputs": [
    {
     "name": "stdout",
     "output_type": "stream",
     "text": [
      "1010\n"
     ]
    }
   ],
   "source": [
    "# In string we can't able to perform any type of calculation.\n",
    "print('10'+'10')   # data typecasting error"
   ]
  },
  {
   "cell_type": "code",
   "execution_count": 9,
   "id": "3e0b1af3-db8a-4d92-a4de-7ef85297e285",
   "metadata": {},
   "outputs": [
    {
     "name": "stdin",
     "output_type": "stream",
     "text": [
      "Enter your first name: Charu\n",
      "Enter your last name: Kulsherestha\n"
     ]
    },
    {
     "name": "stdout",
     "output_type": "stream",
     "text": [
      "Your Full name is: Charu Kulsherestha\n"
     ]
    }
   ],
   "source": [
    "first_name=input('Enter your first name:')\n",
    "last_name=input('Enter your last name:')\n",
    "space=' '\n",
    "complete_name=first_name+space+last_name\n",
    "print('Your Full name is:',complete_name)\n"
   ]
  },
  {
   "cell_type": "code",
   "execution_count": 14,
   "id": "52260fda-def6-49e0-b22b-cbadc4e4ff86",
   "metadata": {},
   "outputs": [
    {
     "name": "stdout",
     "output_type": "stream",
     "text": [
      "100100\n"
     ]
    }
   ],
   "source": [
    "name='100'\n",
    "print((name)+'100')"
   ]
  },
  {
   "cell_type": "markdown",
   "id": "87f8bab2-52ff-4685-b287-668300f89ef9",
   "metadata": {},
   "source": [
    "# indexing of string"
   ]
  },
  {
   "cell_type": "code",
   "execution_count": 17,
   "id": "899826c1-a019-4931-9fcb-53204239e5dd",
   "metadata": {},
   "outputs": [
    {
     "name": "stdout",
     "output_type": "stream",
     "text": [
      "H\n",
      "e\n",
      "l\n",
      "l\n",
      "o\n",
      " \n",
      "w\n",
      "o\n",
      "r\n",
      "l\n",
      "d\n"
     ]
    }
   ],
   "source": [
    "msg='Hello world'\n",
    "print(msg[0])\n",
    "print(msg[1])\n",
    "print(msg[2])\n",
    "print(msg[3])\n",
    "print(msg[4])\n",
    "print(msg[5])\n",
    "print(msg[6])\n",
    "print(msg[7])\n",
    "print(msg[8])\n",
    "print(msg[9])\n",
    "print(msg[10])"
   ]
  },
  {
   "cell_type": "code",
   "execution_count": 23,
   "id": "4afb633a-5ad2-4b37-8a12-847aed331e0a",
   "metadata": {},
   "outputs": [
    {
     "name": "stdout",
     "output_type": "stream",
     "text": [
      "C\n",
      "o\n",
      "!\n"
     ]
    }
   ],
   "source": [
    "s1='Congratulations!'\n",
    "print(s1[0])\n",
    "print(s1[1])\n",
    "print(s1[15])"
   ]
  },
  {
   "cell_type": "code",
   "execution_count": 32,
   "id": "8d0937be-3a30-49e1-9fb4-606bd507b1a3",
   "metadata": {},
   "outputs": [
    {
     "name": "stdout",
     "output_type": "stream",
     "text": [
      "44\n",
      " \n"
     ]
    }
   ],
   "source": [
    "# len() keyword is used to count the total length of the element.\n",
    "\n",
    "msg1=\"The Quick Brown Fox Jumps Over the Lazy Dog.\"\n",
    "print(len(msg1))\n",
    "print(msg1[3])"
   ]
  },
  {
   "cell_type": "code",
   "execution_count": 33,
   "id": "a290aa96-4829-4ff5-8c34-c1db47abe009",
   "metadata": {},
   "outputs": [
    {
     "name": "stdout",
     "output_type": "stream",
     "text": [
      "d\n",
      "l\n",
      "r\n",
      "o\n",
      "w\n",
      " \n",
      "o\n",
      "l\n",
      "l\n",
      "e\n",
      "H\n"
     ]
    }
   ],
   "source": [
    "# Negative Indexing in python\n",
    "x=\"Hello world\"\n",
    "print(x[-1])\n",
    "print(x[-2])\n",
    "print(x[-3])\n",
    "print(x[-4])\n",
    "print(x[-5])\n",
    "print(x[-6])\n",
    "print(x[-7])\n",
    "print(x[-8])\n",
    "print(x[-9])\n",
    "print(x[-10])\n",
    "print(x[-11])"
   ]
  },
  {
   "cell_type": "code",
   "execution_count": 34,
   "id": "e2b0c941-5dc5-4c50-b081-084bafad1626",
   "metadata": {},
   "outputs": [
    {
     "name": "stdout",
     "output_type": "stream",
     "text": [
      "The Quick Brown Fox Jumps Over the Lazy Dog.\n"
     ]
    }
   ],
   "source": [
    "print(msg1)"
   ]
  },
  {
   "cell_type": "code",
   "execution_count": 37,
   "id": "f76a13ce-936b-4aa2-8f5e-9e6d3ce67569",
   "metadata": {},
   "outputs": [
    {
     "data": {
      "text/plain": [
       "'Hello world'"
      ]
     },
     "execution_count": 37,
     "metadata": {},
     "output_type": "execute_result"
    }
   ],
   "source": [
    "# slicing\n",
    "\n",
    "x"
   ]
  },
  {
   "cell_type": "code",
   "execution_count": 39,
   "id": "899567ee-851a-44af-bcd5-c220584b5f9b",
   "metadata": {},
   "outputs": [
    {
     "data": {
      "text/plain": [
       "'world'"
      ]
     },
     "execution_count": 39,
     "metadata": {},
     "output_type": "execute_result"
    }
   ],
   "source": [
    "x[6:11]"
   ]
  },
  {
   "cell_type": "code",
   "execution_count": 41,
   "id": "561a8f68-6ea7-415a-98af-7d4e6a313e16",
   "metadata": {},
   "outputs": [
    {
     "data": {
      "text/plain": [
       "'Hell'"
      ]
     },
     "execution_count": 41,
     "metadata": {},
     "output_type": "execute_result"
    }
   ],
   "source": [
    "x[0:4]"
   ]
  },
  {
   "cell_type": "code",
   "execution_count": 42,
   "id": "f0ab47cb-e11d-49ba-9bb1-35c7d9368161",
   "metadata": {},
   "outputs": [
    {
     "name": "stdout",
     "output_type": "stream",
     "text": [
      "Hello world\n"
     ]
    }
   ],
   "source": [
    "x=\"Hello world\"\n",
    "print(x)"
   ]
  },
  {
   "cell_type": "code",
   "execution_count": 43,
   "id": "6fcc574c-503b-47ca-ab24-15c79099ec06",
   "metadata": {},
   "outputs": [
    {
     "data": {
      "text/plain": [
       "'Hello world'"
      ]
     },
     "execution_count": 43,
     "metadata": {},
     "output_type": "execute_result"
    }
   ],
   "source": [
    "x[:]"
   ]
  },
  {
   "cell_type": "code",
   "execution_count": 44,
   "id": "a980901c-0ab6-40eb-ba37-f6ff61a4c7eb",
   "metadata": {},
   "outputs": [
    {
     "data": {
      "text/plain": [
       "'Hello'"
      ]
     },
     "execution_count": 44,
     "metadata": {},
     "output_type": "execute_result"
    }
   ],
   "source": [
    "x[:5]"
   ]
  },
  {
   "cell_type": "code",
   "execution_count": 45,
   "id": "e53699f8-3749-4106-a7f4-243955d862d8",
   "metadata": {},
   "outputs": [
    {
     "data": {
      "text/plain": [
       "'world'"
      ]
     },
     "execution_count": 45,
     "metadata": {},
     "output_type": "execute_result"
    }
   ],
   "source": [
    "x[6:]"
   ]
  },
  {
   "cell_type": "code",
   "execution_count": 46,
   "id": "ae11669b-2a3a-44e6-8b0f-955803a3b3a4",
   "metadata": {},
   "outputs": [
    {
     "data": {
      "text/plain": [
       "'Hello world'"
      ]
     },
     "execution_count": 46,
     "metadata": {},
     "output_type": "execute_result"
    }
   ],
   "source": [
    "x"
   ]
  },
  {
   "cell_type": "code",
   "execution_count": 47,
   "id": "decfa552-5247-4204-8584-2904aead0d1d",
   "metadata": {},
   "outputs": [
    {
     "data": {
      "text/plain": [
       "'dlrow olleH'"
      ]
     },
     "execution_count": 47,
     "metadata": {},
     "output_type": "execute_result"
    }
   ],
   "source": [
    "x[::-1]"
   ]
  },
  {
   "cell_type": "code",
   "execution_count": null,
   "id": "26a9a913-6fab-416a-b925-17de8077f725",
   "metadata": {},
   "outputs": [],
   "source": []
  }
 ],
 "metadata": {
  "kernelspec": {
   "display_name": "Python 3 (ipykernel)",
   "language": "python",
   "name": "python3"
  },
  "language_info": {
   "codemirror_mode": {
    "name": "ipython",
    "version": 3
   },
   "file_extension": ".py",
   "mimetype": "text/x-python",
   "name": "python",
   "nbconvert_exporter": "python",
   "pygments_lexer": "ipython3",
   "version": "3.12.2"
  }
 },
 "nbformat": 4,
 "nbformat_minor": 5
}
