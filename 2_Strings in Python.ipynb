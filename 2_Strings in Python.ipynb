{
 "cells": [
  {
   "cell_type": "code",
   "execution_count": 1,
   "id": "6e895e80-abe9-4037-9a28-6efa51733a82",
   "metadata": {},
   "outputs": [
    {
     "data": {
      "text/plain": [
       "'! @ # $ %'"
      ]
     },
     "execution_count": 1,
     "metadata": {},
     "output_type": "execute_result"
    }
   ],
   "source": [
    "# string as a special character\n",
    "\"! @ # $ %\""
   ]
  },
  {
   "cell_type": "code",
   "execution_count": 3,
   "id": "022784bc-e976-484b-8507-c9bba9b7d280",
   "metadata": {},
   "outputs": [
    {
     "name": "stdout",
     "output_type": "stream",
     "text": [
      "Hello world\n",
      "Hey google\n",
      "Good Morning\n",
      "Congratulation\n"
     ]
    }
   ],
   "source": [
    "# string as a words\n",
    "print('Hello world')\n",
    "print('Hey google')\n",
    "print('Good Morning')\n",
    "print('Congratulation')"
   ]
  },
  {
   "cell_type": "code",
   "execution_count": 4,
   "id": "27d5e240-a856-45b5-a0a3-2f5dd1e339ed",
   "metadata": {},
   "outputs": [
    {
     "name": "stdout",
     "output_type": "stream",
     "text": [
      "Hey you! How are you?\n"
     ]
    }
   ],
   "source": [
    "# String as a sentence.\n",
    "print('Hey you! How are you?')"
   ]
  },
  {
   "cell_type": "code",
   "execution_count": 5,
   "id": "404564c3-00e7-4f52-8f06-a27feda7ec84",
   "metadata": {},
   "outputs": [
    {
     "name": "stdout",
     "output_type": "stream",
     "text": [
      "100\n",
      "2000\n",
      "36.23\n",
      "78.96\n"
     ]
    }
   ],
   "source": [
    "# string as a number\n",
    "print('100')\n",
    "print('2000')\n",
    "print('36.23')\n",
    "print('78.96')"
   ]
  },
  {
   "cell_type": "code",
   "execution_count": 7,
   "id": "0d10bf94-39e9-4fbf-bed6-c71cb9aeea1a",
   "metadata": {},
   "outputs": [
    {
     "name": "stdout",
     "output_type": "stream",
     "text": [
      "1010\n"
     ]
    }
   ],
   "source": [
    "# In string we can't able to perform any type of calculation.\n",
    "print('10'+'10')   # data typecasting error"
   ]
  },
  {
   "cell_type": "code",
   "execution_count": 9,
   "id": "3e0b1af3-db8a-4d92-a4de-7ef85297e285",
   "metadata": {},
   "outputs": [
    {
     "name": "stdin",
     "output_type": "stream",
     "text": [
      "Enter your first name: Charu\n",
      "Enter your last name: Kulsherestha\n"
     ]
    },
    {
     "name": "stdout",
     "output_type": "stream",
     "text": [
      "Your Full name is: Charu Kulsherestha\n"
     ]
    }
   ],
   "source": [
    "first_name=input('Enter your first name:')\n",
    "last_name=input('Enter your last name:')\n",
    "space=' '\n",
    "complete_name=first_name+space+last_name\n",
    "print('Your Full name is:',complete_name)\n"
   ]
  },
  {
   "cell_type": "code",
   "execution_count": 14,
   "id": "52260fda-def6-49e0-b22b-cbadc4e4ff86",
   "metadata": {},
   "outputs": [
    {
     "name": "stdout",
     "output_type": "stream",
     "text": [
      "100100\n"
     ]
    }
   ],
   "source": [
    "name='100'\n",
    "print((name)+'100')"
   ]
  },
  {
   "cell_type": "markdown",
   "id": "87f8bab2-52ff-4685-b287-668300f89ef9",
   "metadata": {},
   "source": [
    "# indexing of string"
   ]
  },
  {
   "cell_type": "code",
   "execution_count": 17,
   "id": "899826c1-a019-4931-9fcb-53204239e5dd",
   "metadata": {},
   "outputs": [
    {
     "name": "stdout",
     "output_type": "stream",
     "text": [
      "H\n",
      "e\n",
      "l\n",
      "l\n",
      "o\n",
      " \n",
      "w\n",
      "o\n",
      "r\n",
      "l\n",
      "d\n"
     ]
    }
   ],
   "source": [
    "msg='Hello world'\n",
    "print(msg[0])\n",
    "print(msg[1])\n",
    "print(msg[2])\n",
    "print(msg[3])\n",
    "print(msg[4])\n",
    "print(msg[5])\n",
    "print(msg[6])\n",
    "print(msg[7])\n",
    "print(msg[8])\n",
    "print(msg[9])\n",
    "print(msg[10])"
   ]
  },
  {
   "cell_type": "code",
   "execution_count": 23,
   "id": "4afb633a-5ad2-4b37-8a12-847aed331e0a",
   "metadata": {},
   "outputs": [
    {
     "name": "stdout",
     "output_type": "stream",
     "text": [
      "C\n",
      "o\n",
      "!\n"
     ]
    }
   ],
   "source": [
    "s1='Congratulations!'\n",
    "print(s1[0])\n",
    "print(s1[1])\n",
    "print(s1[15])"
   ]
  },
  {
   "cell_type": "code",
   "execution_count": 32,
   "id": "8d0937be-3a30-49e1-9fb4-606bd507b1a3",
   "metadata": {},
   "outputs": [
    {
     "name": "stdout",
     "output_type": "stream",
     "text": [
      "44\n",
      " \n"
     ]
    }
   ],
   "source": [
    "# len() keyword is used to count the total length of the element.\n",
    "\n",
    "msg1=\"The Quick Brown Fox Jumps Over the Lazy Dog.\"\n",
    "print(len(msg1))\n",
    "print(msg1[3])"
   ]
  },
  {
   "cell_type": "code",
   "execution_count": 33,
   "id": "a290aa96-4829-4ff5-8c34-c1db47abe009",
   "metadata": {},
   "outputs": [
    {
     "name": "stdout",
     "output_type": "stream",
     "text": [
      "d\n",
      "l\n",
      "r\n",
      "o\n",
      "w\n",
      " \n",
      "o\n",
      "l\n",
      "l\n",
      "e\n",
      "H\n"
     ]
    }
   ],
   "source": [
    "# Negative Indexing in python\n",
    "x=\"Hello world\"\n",
    "print(x[-1])\n",
    "print(x[-2])\n",
    "print(x[-3])\n",
    "print(x[-4])\n",
    "print(x[-5])\n",
    "print(x[-6])\n",
    "print(x[-7])\n",
    "print(x[-8])\n",
    "print(x[-9])\n",
    "print(x[-10])\n",
    "print(x[-11])"
   ]
  },
  {
   "cell_type": "code",
   "execution_count": 34,
   "id": "e2b0c941-5dc5-4c50-b081-084bafad1626",
   "metadata": {},
   "outputs": [
    {
     "name": "stdout",
     "output_type": "stream",
     "text": [
      "The Quick Brown Fox Jumps Over the Lazy Dog.\n"
     ]
    }
   ],
   "source": [
    "print(msg1)"
   ]
  },
  {
   "cell_type": "code",
   "execution_count": 37,
   "id": "f76a13ce-936b-4aa2-8f5e-9e6d3ce67569",
   "metadata": {},
   "outputs": [
    {
     "data": {
      "text/plain": [
       "'Hello world'"
      ]
     },
     "execution_count": 37,
     "metadata": {},
     "output_type": "execute_result"
    }
   ],
   "source": [
    "# slicing\n",
    "\n",
    "x"
   ]
  },
  {
   "cell_type": "code",
   "execution_count": 39,
   "id": "899567ee-851a-44af-bcd5-c220584b5f9b",
   "metadata": {},
   "outputs": [
    {
     "data": {
      "text/plain": [
       "'world'"
      ]
     },
     "execution_count": 39,
     "metadata": {},
     "output_type": "execute_result"
    }
   ],
   "source": [
    "x[6:11]"
   ]
  },
  {
   "cell_type": "code",
   "execution_count": 41,
   "id": "561a8f68-6ea7-415a-98af-7d4e6a313e16",
   "metadata": {},
   "outputs": [
    {
     "data": {
      "text/plain": [
       "'Hell'"
      ]
     },
     "execution_count": 41,
     "metadata": {},
     "output_type": "execute_result"
    }
   ],
   "source": [
    "x[0:4]"
   ]
  },
  {
   "cell_type": "code",
   "execution_count": 42,
   "id": "f0ab47cb-e11d-49ba-9bb1-35c7d9368161",
   "metadata": {},
   "outputs": [
    {
     "name": "stdout",
     "output_type": "stream",
     "text": [
      "Hello world\n"
     ]
    }
   ],
   "source": [
    "x=\"Hello world\"\n",
    "print(x)"
   ]
  },
  {
   "cell_type": "code",
   "execution_count": 43,
   "id": "6fcc574c-503b-47ca-ab24-15c79099ec06",
   "metadata": {},
   "outputs": [
    {
     "data": {
      "text/plain": [
       "'Hello world'"
      ]
     },
     "execution_count": 43,
     "metadata": {},
     "output_type": "execute_result"
    }
   ],
   "source": [
    "x[:]"
   ]
  },
  {
   "cell_type": "code",
   "execution_count": 44,
   "id": "a980901c-0ab6-40eb-ba37-f6ff61a4c7eb",
   "metadata": {},
   "outputs": [
    {
     "data": {
      "text/plain": [
       "'Hello'"
      ]
     },
     "execution_count": 44,
     "metadata": {},
     "output_type": "execute_result"
    }
   ],
   "source": [
    "x[:5]"
   ]
  },
  {
   "cell_type": "code",
   "execution_count": 45,
   "id": "e53699f8-3749-4106-a7f4-243955d862d8",
   "metadata": {},
   "outputs": [
    {
     "data": {
      "text/plain": [
       "'world'"
      ]
     },
     "execution_count": 45,
     "metadata": {},
     "output_type": "execute_result"
    }
   ],
   "source": [
    "x[6:]"
   ]
  },
  {
   "cell_type": "code",
   "execution_count": 46,
   "id": "ae11669b-2a3a-44e6-8b0f-955803a3b3a4",
   "metadata": {},
   "outputs": [
    {
     "data": {
      "text/plain": [
       "'Hello world'"
      ]
     },
     "execution_count": 46,
     "metadata": {},
     "output_type": "execute_result"
    }
   ],
   "source": [
    "x"
   ]
  },
  {
   "cell_type": "code",
   "execution_count": 47,
   "id": "decfa552-5247-4204-8584-2904aead0d1d",
   "metadata": {},
   "outputs": [
    {
     "data": {
      "text/plain": [
       "'dlrow olleH'"
      ]
     },
     "execution_count": 47,
     "metadata": {},
     "output_type": "execute_result"
    }
   ],
   "source": [
    "x[::-1]"
   ]
  },
  {
   "cell_type": "code",
   "execution_count": 1,
   "id": "26a9a913-6fab-416a-b925-17de8077f725",
   "metadata": {},
   "outputs": [
    {
     "name": "stdout",
     "output_type": "stream",
     "text": [
      "Hello world\n"
     ]
    }
   ],
   "source": [
    "# skip value (striding value)\n",
    "\n",
    "x='Hello world'\n",
    "print(x)"
   ]
  },
  {
   "cell_type": "code",
   "execution_count": 7,
   "id": "d387a351-3ef1-4512-a461-4de9aa03bea7",
   "metadata": {},
   "outputs": [
    {
     "data": {
      "text/plain": [
       "'Hlowrd'"
      ]
     },
     "execution_count": 7,
     "metadata": {},
     "output_type": "execute_result"
    }
   ],
   "source": [
    "x[::2]"
   ]
  },
  {
   "cell_type": "code",
   "execution_count": 19,
   "id": "517fd742-74c5-4868-8f98-1110c62e720d",
   "metadata": {},
   "outputs": [
    {
     "name": "stdout",
     "output_type": "stream",
     "text": [
      "Hello\n",
      "world\n",
      "Hello\tworld\n"
     ]
    }
   ],
   "source": [
    "# Escape Sequence.\n",
    "print('Hello\\nworld')   #\\n--> it move your text in new line.\n",
    "print('Hello\\tworld')   #\\t ---> tab contains four spaces of your keypad.\n"
   ]
  },
  {
   "cell_type": "code",
   "execution_count": 25,
   "id": "605c4e61-c923-4fdc-844f-d6fd0835cbf5",
   "metadata": {},
   "outputs": [
    {
     "name": "stdout",
     "output_type": "stream",
     "text": [
      "\\\\\\\n"
     ]
    }
   ],
   "source": [
    "print('\\\\\\\\\\\\')"
   ]
  },
  {
   "cell_type": "code",
   "execution_count": 34,
   "id": "20374120-f4fb-4128-aba7-74cdd7c8206f",
   "metadata": {},
   "outputs": [
    {
     "name": "stdout",
     "output_type": "stream",
     "text": [
      "Orginial Messge Displayed: hello World! how are you?\n",
      "After Upper case: HELLO WORLD! HOW ARE YOU?\n",
      "After Lower case: hello world! how are you?\n",
      "After Capitalize: Hello world! how are you?\n",
      "After Title: Hello World! How Are You?\n",
      "Total lenght of the sentence: 25\n"
     ]
    }
   ],
   "source": [
    "# String Operations\n",
    "\n",
    "message='hello World! how are you?'\n",
    "\n",
    "print('Orginial Messge Displayed:',message)\n",
    "# upper()\n",
    "\n",
    "print('After Upper case:',message.upper())\n",
    "\n",
    "# lower()\n",
    "print('After Lower case:',message.lower())\n",
    "\n",
    "\n",
    "# Capitalize()\n",
    "print('After Capitalize:',message.capitalize())\n",
    "\n",
    "# title()\n",
    "print('After Title:',message.title())\n",
    "\n",
    "#len()\n",
    "print('Total lenght of the sentence:',len(message))"
   ]
  },
  {
   "cell_type": "code",
   "execution_count": 39,
   "id": "ef40a317-c5b2-40cd-a1fc-d578cfd6467d",
   "metadata": {},
   "outputs": [
    {
     "name": "stdout",
     "output_type": "stream",
     "text": [
      "hello World! how are you?\n",
      "Replaced text is: hello Charu! how are you?\n",
      "Hi World! how are you?\n",
      "hi World! how are you?\n"
     ]
    }
   ],
   "source": [
    "# replace() method in string.\n",
    "\n",
    "print(message)\n",
    "new_text=message.replace('World','Charu')\n",
    "print('Replaced text is:',new_text)\n",
    "print(message.replace('hello','Hi'))\n",
    "new_text1=message.replace('hello','hi')\n",
    "print(new_text1)"
   ]
  },
  {
   "cell_type": "code",
   "execution_count": 45,
   "id": "53404a93-3186-4a65-a609-b14177af03a8",
   "metadata": {},
   "outputs": [
    {
     "name": "stdout",
     "output_type": "stream",
     "text": [
      "hello World! how are you?\n",
      "13\n",
      "21\n"
     ]
    }
   ],
   "source": [
    "# find --> find method return the text index value of your data.\n",
    "\n",
    "print(message)\n",
    "print(message.find('ho'))\n",
    "print(message.find('yo'))"
   ]
  },
  {
   "cell_type": "code",
   "execution_count": 46,
   "id": "93ad3815-abc1-4a59-bc0b-72b8bc766d58",
   "metadata": {},
   "outputs": [
    {
     "name": "stdout",
     "output_type": "stream",
     "text": [
      "-1\n"
     ]
    }
   ],
   "source": [
    "print(message.find('charu'))"
   ]
  },
  {
   "cell_type": "code",
   "execution_count": 50,
   "id": "f127dfb6-83b5-4331-9946-a396cbfd313b",
   "metadata": {},
   "outputs": [
    {
     "name": "stdout",
     "output_type": "stream",
     "text": [
      "--------------------------------------------Hello world---------------------------------------------\n"
     ]
    }
   ],
   "source": [
    "# Center() mehtod\n",
    "message='Hello world'\n",
    "print(message.center(100,'-'))"
   ]
  },
  {
   "cell_type": "code",
   "execution_count": 51,
   "id": "b79afc8c-cb56-4916-8db5-d6ebc21fe94a",
   "metadata": {},
   "outputs": [
    {
     "data": {
      "text/plain": [
       "'Hello world'"
      ]
     },
     "execution_count": 51,
     "metadata": {},
     "output_type": "execute_result"
    }
   ],
   "source": [
    "# count()---> it count your total valur occurence in string.\n",
    "\n",
    "message"
   ]
  },
  {
   "cell_type": "code",
   "execution_count": 54,
   "id": "9e4b30fc-0d20-4d70-b26b-2e08fb765193",
   "metadata": {},
   "outputs": [
    {
     "name": "stdout",
     "output_type": "stream",
     "text": [
      "1\n",
      "2\n",
      "3\n"
     ]
    }
   ],
   "source": [
    "print(message.count('H'))\n",
    "print(message.count('o'))\n",
    "print(message.count('l'))"
   ]
  },
  {
   "cell_type": "code",
   "execution_count": 57,
   "id": "67da10c9-d39f-4d88-841b-467728275eca",
   "metadata": {},
   "outputs": [
    {
     "name": "stdout",
     "output_type": "stream",
     "text": [
      "Hello Charu\n",
      "Hello New Delhi\n"
     ]
    }
   ],
   "source": [
    "# format\n",
    "txt='Hello {world}'\n",
    "print(txt.format(world='Charu'))\n",
    "print(txt.format(world='New Delhi'))"
   ]
  },
  {
   "cell_type": "code",
   "execution_count": 63,
   "id": "5e5107a7-f251-492b-a698-329057cd2aad",
   "metadata": {},
   "outputs": [
    {
     "name": "stdout",
     "output_type": "stream",
     "text": [
      "My name is Charu and I am 40 years old.\n",
      "My name is 40 and I am Charu years old.\n",
      "My name is Charu and I am 40 years old. I've Black car.\n",
      "My name is Charu and I am 40 years old. I've white car.\n"
     ]
    }
   ],
   "source": [
    "message1='My name is {} and I am {} years old.'\n",
    "print(message1.format('Charu',40))\n",
    "\n",
    "message2='My name is {1} and I am {0} years old.'\n",
    "print(message2.format('Charu',40))\n",
    "\n",
    "message3=\"My name is {a} and I am {z} years old. I've {n} car.\"\n",
    "print(message3.format(a='Charu',n='Black',z=40))\n",
    "\n",
    "message4=\"My name is {} and I am {} years old. I've {} car.\"\n",
    "print(message4.format('Charu',40,'white'))"
   ]
  },
  {
   "cell_type": "code",
   "execution_count": null,
   "id": "71b3857c-fb2a-4ec7-92f2-7b2b0ef1c00a",
   "metadata": {},
   "outputs": [],
   "source": []
  }
 ],
 "metadata": {
  "kernelspec": {
   "display_name": "Python 3 (ipykernel)",
   "language": "python",
   "name": "python3"
  },
  "language_info": {
   "codemirror_mode": {
    "name": "ipython",
    "version": 3
   },
   "file_extension": ".py",
   "mimetype": "text/x-python",
   "name": "python",
   "nbconvert_exporter": "python",
   "pygments_lexer": "ipython3",
   "version": "3.12.2"
  }
 },
 "nbformat": 4,
 "nbformat_minor": 5
}
