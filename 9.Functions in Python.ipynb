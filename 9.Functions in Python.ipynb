{
 "cells": [
  {
   "cell_type": "markdown",
   "id": "1a235eb5-29e5-4cd8-86db-ad77aa1605ce",
   "metadata": {},
   "source": [
    "# 9.Functins in Python¶\n",
    "\n",
    " * __In python, a function is a group related statements that perform a specific task.__\n",
    " * __Functions help break out program into smaller and modular chunks. As our program grows larger and larger, functions make it more organized and manageable.__\n",
    " * __Furthermore, it avoids repetition and makes the code reusable.__\n",
    " * __There are two types of functions.__\n",
    " * __1.Pre-defined functions[In-Build function].__\n",
    " * __2.User-defined functions.__\n",
    " * __In python, a function is defined using the def keyword followed by the function name and parenthesis().__\n",
    " * __keyword def that marks the start of the function header.__\n",
    " * __A function name to uniquely identify the functions.__\n",
    " * __Function naming follows the same rule of writing identifiers in Python.__\n",
    " * __Parameters(arguments) through which we pass values to a function. They are optional.__\n",
    " * __Optional documentation string(docstring) to describe what the function does.__\n",
    " * __One or more valid python statements that make up the funciton body.__\n",
    " * __Statements must have the same indentation level(usually 4 spaces).__\n",
    " * __An optional return statement to return a value from the functions.__\n",
    " * __User Defined- function types__\n",
    " * __1.nullable function.__\n",
    " * __2.Parameterized function.__\n",
    " * __3.Default argument function.__"
   ]
  },
  {
   "cell_type": "code",
   "execution_count": 3,
   "id": "60ea7b7d-78dd-4ef8-9b34-506b8ae4926e",
   "metadata": {},
   "outputs": [
    {
     "name": "stdout",
     "output_type": "stream",
     "text": [
      "Hello world\n",
      "Hello python\n"
     ]
    }
   ],
   "source": [
    "# create user define function\n",
    "\n",
    "def display_name():\n",
    "    print('Hello world')   #statement\n",
    "    print('Hello python')\n",
    "\n",
    "display_name()   # <---callback function"
   ]
  },
  {
   "cell_type": "code",
   "execution_count": 4,
   "id": "7ffaa985-2efc-40be-8ede-8bcf150b0da2",
   "metadata": {},
   "outputs": [
    {
     "data": {
      "text/plain": [
       "'Hello world'"
      ]
     },
     "execution_count": 4,
     "metadata": {},
     "output_type": "execute_result"
    }
   ],
   "source": [
    "# nullable function() without argument value.\n",
    "def func_name():\n",
    "    return 'Hello world'\n",
    "\n",
    "func_name()"
   ]
  },
  {
   "cell_type": "code",
   "execution_count": 5,
   "id": "7305015f-4e1a-407f-9c5f-ff556b38deca",
   "metadata": {},
   "outputs": [
    {
     "name": "stdout",
     "output_type": "stream",
     "text": [
      "Hello world\n",
      "Hello python\n"
     ]
    }
   ],
   "source": [
    "display_name()"
   ]
  },
  {
   "cell_type": "code",
   "execution_count": 6,
   "id": "d4f4bac6-549f-4f1d-b03e-12cce0c8d39d",
   "metadata": {},
   "outputs": [
    {
     "data": {
      "text/plain": [
       "'Hello world'"
      ]
     },
     "execution_count": 6,
     "metadata": {},
     "output_type": "execute_result"
    }
   ],
   "source": [
    "func_name()"
   ]
  },
  {
   "cell_type": "code",
   "execution_count": 7,
   "id": "8f400d15-a479-4d9c-8006-eb6ff871164f",
   "metadata": {},
   "outputs": [
    {
     "data": {
      "text/plain": [
       "'Hello world'"
      ]
     },
     "execution_count": 7,
     "metadata": {},
     "output_type": "execute_result"
    }
   ],
   "source": [
    "func_name()"
   ]
  },
  {
   "cell_type": "code",
   "execution_count": 8,
   "id": "b904b968-4d32-4e8c-9946-b1689dd4501b",
   "metadata": {},
   "outputs": [
    {
     "data": {
      "text/plain": [
       "'Hello world'"
      ]
     },
     "execution_count": 8,
     "metadata": {},
     "output_type": "execute_result"
    }
   ],
   "source": [
    "func_name()"
   ]
  },
  {
   "cell_type": "code",
   "execution_count": 1,
   "id": "495d2691-c598-4678-8942-9673162ed4e6",
   "metadata": {},
   "outputs": [
    {
     "data": {
      "text/plain": [
       "30"
      ]
     },
     "execution_count": 1,
     "metadata": {},
     "output_type": "execute_result"
    }
   ],
   "source": [
    "# sum of two number\n",
    "# parameterized function: parameter takes value.\n",
    "def sum1(x,y):    # x,y is argument.\n",
    "    z=x+y\n",
    "    return z\n",
    "\n",
    "sum1(10,20)  # 2,4 is parameter"
   ]
  },
  {
   "cell_type": "code",
   "execution_count": 2,
   "id": "462ce270-e6eb-4ddc-b405-1eabe43a1765",
   "metadata": {},
   "outputs": [
    {
     "data": {
      "text/plain": [
       "110"
      ]
     },
     "execution_count": 2,
     "metadata": {},
     "output_type": "execute_result"
    }
   ],
   "source": [
    "sum1(50,60)"
   ]
  },
  {
   "cell_type": "code",
   "execution_count": 4,
   "id": "8360e6c9-cb27-4a2d-bb0d-1dcb5660f610",
   "metadata": {},
   "outputs": [
    {
     "data": {
      "text/plain": [
       "11"
      ]
     },
     "execution_count": 4,
     "metadata": {},
     "output_type": "execute_result"
    }
   ],
   "source": [
    "sum1(5,6)"
   ]
  },
  {
   "cell_type": "code",
   "execution_count": 7,
   "id": "758b2a4c-191a-429b-aa7e-24157bf0f349",
   "metadata": {},
   "outputs": [
    {
     "data": {
      "text/plain": [
       "'Congratulations! Charu'"
      ]
     },
     "execution_count": 7,
     "metadata": {},
     "output_type": "execute_result"
    }
   ],
   "source": [
    "# Default parameter.\n",
    "def details(x=\"Hello\"):\n",
    "    greet='Congratulations! '+x\n",
    "    return greet\n",
    "\n",
    "details(\"Charu\")"
   ]
  },
  {
   "cell_type": "code",
   "execution_count": 8,
   "id": "490e2385-a928-4656-87a0-11fb0d078daa",
   "metadata": {},
   "outputs": [
    {
     "name": "stdin",
     "output_type": "stream",
     "text": [
      "Enter first value: 10\n",
      "Enter second value: 20\n"
     ]
    },
    {
     "name": "stdout",
     "output_type": "stream",
     "text": [
      "The sum of the value is: 30\n"
     ]
    }
   ],
   "source": [
    "# calcutor using function\n",
    "\n",
    "def calculator():\n",
    "    x=int(input('Enter first value:'))\n",
    "    y=int(input('Enter second value:'))\n",
    "    sum1=x+y\n",
    "    print('The sum of the value is:',sum1)\n",
    "\n",
    "calc=calculator()\n",
    "calc"
   ]
  },
  {
   "cell_type": "code",
   "execution_count": 12,
   "id": "bfda5a88-af00-4da0-8f5b-dbc8fb20c272",
   "metadata": {},
   "outputs": [
    {
     "name": "stdin",
     "output_type": "stream",
     "text": [
      "Enter first value: 10\n",
      "Enter second value: 20\n"
     ]
    },
    {
     "name": "stdout",
     "output_type": "stream",
     "text": [
      "The sum of the value is: 30\n"
     ]
    }
   ],
   "source": [
    "x=calculator()\n",
    "x"
   ]
  },
  {
   "cell_type": "code",
   "execution_count": 10,
   "id": "ea904a5a-6651-4d47-95d6-5868b7fa6f5a",
   "metadata": {},
   "outputs": [
    {
     "name": "stdin",
     "output_type": "stream",
     "text": [
      "Enter first value: 10\n",
      "Enter second value: 20\n"
     ]
    },
    {
     "name": "stdout",
     "output_type": "stream",
     "text": [
      "The sum of the value is: 30\n"
     ]
    }
   ],
   "source": [
    "calculator()"
   ]
  },
  {
   "cell_type": "code",
   "execution_count": 15,
   "id": "03fb7669-16d4-46db-80f1-f663d5a3325c",
   "metadata": {},
   "outputs": [
    {
     "name": "stdin",
     "output_type": "stream",
     "text": [
      "Enter your range: 5\n"
     ]
    },
    {
     "name": "stdout",
     "output_type": "stream",
     "text": [
      "The sum of this 5 natural number is: 15\n"
     ]
    }
   ],
   "source": [
    "# wap to print the sum of 1to10 natural number using function\n",
    "\n",
    "def natural_num():\n",
    "    user=int(input('Enter your range:'))\n",
    "    sum1=0\n",
    "    for i in range(1,user+1):\n",
    "        sum1=sum1+i\n",
    "    print(f'The sum of this {user} natural number is: {sum1}')\n",
    "\n",
    "\n",
    "num=natural_num()\n",
    "num"
   ]
  },
  {
   "cell_type": "code",
   "execution_count": 16,
   "id": "bf09673d-4c3d-4211-af67-79fe639b5a3c",
   "metadata": {},
   "outputs": [
    {
     "name": "stdin",
     "output_type": "stream",
     "text": [
      "Enter your range: 50\n"
     ]
    },
    {
     "name": "stdout",
     "output_type": "stream",
     "text": [
      "The sum of this 50 natural number is: 1275\n"
     ]
    }
   ],
   "source": [
    "x1=natural_num()\n",
    "x1"
   ]
  },
  {
   "cell_type": "markdown",
   "id": "5ed57e71-4c98-4acc-9f66-b08d7a149016",
   "metadata": {},
   "source": [
    "# Variables \n",
    " * __The input to a function is called a formal parameter.__\n",
    " * __A variable that is declared inside a function is called local variable.__\n",
    " * __The parameter only exists within the function (i.e the point where the function starts and stops).__\n",
    " * __A variable that is declared outside a function definition is a global variable, and its value is accessible and modifiable thoughout the program.__"
   ]
  },
  {
   "cell_type": "code",
   "execution_count": null,
   "id": "57c3341f-5183-4057-b28a-726689406d4a",
   "metadata": {},
   "outputs": [],
   "source": []
  }
 ],
 "metadata": {
  "kernelspec": {
   "display_name": "Python 3 (ipykernel)",
   "language": "python",
   "name": "python3"
  },
  "language_info": {
   "codemirror_mode": {
    "name": "ipython",
    "version": 3
   },
   "file_extension": ".py",
   "mimetype": "text/x-python",
   "name": "python",
   "nbconvert_exporter": "python",
   "pygments_lexer": "ipython3",
   "version": "3.12.2"
  }
 },
 "nbformat": 4,
 "nbformat_minor": 5
}
