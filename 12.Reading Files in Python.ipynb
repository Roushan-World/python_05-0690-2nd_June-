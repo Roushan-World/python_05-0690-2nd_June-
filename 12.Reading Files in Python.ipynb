{
 "cells": [
  {
   "cell_type": "markdown",
   "id": "c953f214-f159-4bef-8384-8740ffaba8d5",
   "metadata": {},
   "source": [
    "# 12. Reading Files in Python\n",
    "\n",
    " * __To read a text file for reading in Python, follow these steps:__\n",
    " * __First, Open a text file for reading by using open() functions.__\n",
    " * __Second, read text from the text file using read(), readlines(), readline() method of the file object.__\n",
    " * __Third, close the file close() method. This frees up resources and ensure consistency across different python version.__"
   ]
  },
  {
   "cell_type": "code",
   "execution_count": 22,
   "id": "82ea26bc-92fd-4b86-bb4f-a73b8ed9f246",
   "metadata": {},
   "outputs": [
    {
     "data": {
      "text/plain": [
       "'The first book explains Noddy\\'s origins. He is made by a woodcarver in a toy shop but runs away after the man begins to make a wooden lion, which scares Noddy. As he wanders through the woods naked, penniless, and homeless, he meets Big Ears, a friendly brownie. Big Ears decides that Noddy is a toy and takes him to live in Toyland. He generously provides Noddy with a set of clothing and a house. While Noddy is quite happy to be a toy, the citizens of Toyland are not sure that he actually is one. They put Noddy on trial and examine whether he is a toy or an ornament. Eventually, Noddy is declared a toy, but still has to convince the court that he is a good toy. The judge accepts that Noddy is good after a doll tells the court that he saved her little girl from a lion, and he is allowed to stay in Toyland. Noddy gets his car in the second book. It is given to him after he helps solve a local mystery.\\n\\nThe other toys can hear him coming by the distinctive \"Parp Parp\" sound of his car\\'s horn and the jingle of the bell on his blue hat. Often he uses his car to visit all of the places in Toyland. When his taxi business is not doing so well, or when he needs help, Noddy turns to Big Ears. Big Ears will often lend him what he needs. On occasion, Noddy will allow people to make his head nod, in exchange for small items such as his morning milk.\\n\\nNoddy is kind and honest, but he often gets into trouble, either through his own misunderstandings or because someone, usually one of the naughty goblins Sly or Gobbo, has played a trick on him. He is very childlike in his understanding of the world and often becomes confused as a result. For example, in the first Noddy book, Noddy and Big Ears are building Noddy\\'s house for one. Noddy suggests that they build the roof first, in case it rains. With no understanding of gravity or of the need for roof supports, this is perfectly logical to him. (In fact, this is not so silly. Some multi-story buildings start with the roof, which is then raised on hydraulic jacks, and the story beneath is built, and then the roof is raised again, and so on. This is the Upbrella method.) As the series continues, Noddy becomes wiser but without losing his charm and lovable naivety.\\n\\nNoddy\\'s best friends are Big Ears, Tessie Bear, Bumpy Dog, and the Tubby Bears. Big Ears, who brought Noddy to Toyland, is the most important figure in his life. Whenever he faces serious peril, it tends to be Big Ears who comes to the rescue, one way or another, and it is invariably Big Ears to whom Noddy turns for support and reassurance. Big Ears is not so much a parental figure, but more like a guardian, or perhaps Noddy\\'s attorney. While kind to Noddy, Big Ears has an intimidating presence and voice that makes him feared by goblins. He is capable of facing down wizards with his own spells, and is able to plead Noddy\\'s case to Mr. Plod, the local policeman, when Noddy finds himself in legal peril. On rare occasions, however, Big Ears finds himself in trouble, in which case Noddy comes to his aid. Big Ears and Noddy have rarely quarreled seriously. Examples of such quarrels are when Big Ears harshly scolded the very sensitive Tessie Bear for failing to control her dog and when Noddy ran his car into Big Ears\\'s clothes post and then drove away, dragging Big Ears\\'s clean washing behind him.\\n\\nTessie is a gentle-hearted, gold bear who often wears a bonnet with flowers and a skirt. She is young like Noddy, and very loving towards all of her friends and neighbours. Bumpy Dog is Tessie\\'s pet. He loves to run up and \"bump\" people over. Noddy frequently gets annoyed with Bumpy but still likes him. Whenever Noddy threatens Bumpy, Tessie gets upset, and sometimes even begins to cry. The Tubby Bears live next door to Noddy. They are gold and chubby teddy bears. Mr. and Mrs. Tubby Bear frequently help Noddy. It is clear that Mr. and Mrs. Tubby Bear are the superiors of Noddy, as if he were a child. Their first names are never mentioned and Noddy always refers to them as Mr. and Mrs. They have one son, also named Tubby, who is occasionally referred to as Master Tubby. Tubby is naughty and is usually in trouble for breaking rules, being rude, or doing something wrong. Noddy often attempts to scold or punish Tubby, with little result. On one occasion, Tubby gets tired of always being bossed around and being punished and decides to run away to sea. Noddy and Bumpy accidentally join with him. By the end of the journey, Tubby misses his parents and brings them back presents from his trip, as an apology.\\n\\nNoddy has many run-ins with Mr. Plod. Some are caused by Noddy\\'s lack of understanding of how Toyland works. Other times it is because of a case of mistaken identity, Mr. Plod is generally long-suffering towards Noddy and Noddy likes Mr. Plod and frequently goes out of his way to help him. Mr. Plod often catches the mischief makers on his police bicycle, by blowing his whistle and shouting \"Halt in the name of Plod!!\" before locking the culprits up in his jail.'"
      ]
     },
     "execution_count": 22,
     "metadata": {},
     "output_type": "execute_result"
    }
   ],
   "source": [
    "x=\"C:\\\\Users\\\\Admin\\\\Downloads\\\\noddy.txt\"\n",
    "\n",
    "file_name=open(x,'r') \n",
    "\n",
    "content=file_name.read()\n",
    "content"
   ]
  },
  {
   "cell_type": "code",
   "execution_count": 12,
   "id": "01128e1d-933b-46b4-9ce0-2a039bdbc8bc",
   "metadata": {},
   "outputs": [
    {
     "name": "stdout",
     "output_type": "stream",
     "text": [
      "C:\\Users\\Admin\\Downloads\\noddy.txt\n"
     ]
    }
   ],
   "source": [
    "# print the path of the file.\n",
    "\n",
    "print(file_name.name)"
   ]
  },
  {
   "cell_type": "code",
   "execution_count": 13,
   "id": "73fe738b-30d4-4f87-9900-35bdb7caf27f",
   "metadata": {},
   "outputs": [
    {
     "name": "stdout",
     "output_type": "stream",
     "text": [
      "r\n"
     ]
    }
   ],
   "source": [
    "# printing the mode of the file.\n",
    "\n",
    "print(file_name.mode)"
   ]
  },
  {
   "cell_type": "code",
   "execution_count": 15,
   "id": "9a84a7e2-4985-4477-bfc0-be5891a79a2b",
   "metadata": {},
   "outputs": [
    {
     "name": "stdout",
     "output_type": "stream",
     "text": [
      "<class 'str'>\n"
     ]
    }
   ],
   "source": [
    "# printing type of the file.\n",
    "\n",
    "print(type(content))"
   ]
  },
  {
   "cell_type": "code",
   "execution_count": 16,
   "id": "ab68030a-26d9-4e88-b60f-36afed873cc5",
   "metadata": {},
   "outputs": [
    {
     "name": "stdout",
     "output_type": "stream",
     "text": [
      "The first book explains Noddy's origins. He is made by a woodcarver in a toy shop but runs away after the man begins to make a wooden lion, which scares Noddy. As he wanders through the woods naked, penniless, and homeless, he meets Big Ears, a friendly brownie. Big Ears decides that Noddy is a toy and takes him to live in Toyland. He generously provides Noddy with a set of clothing and a house. While Noddy is quite happy to be a toy, the citizens of Toyland are not sure that he actually is one. They put Noddy on trial and examine whether he is a toy or an ornament. Eventually, Noddy is declared a toy, but still has to convince the court that he is a good toy. The judge accepts that Noddy is good after a doll tells the court that he saved her little girl from a lion, and he is allowed to stay in Toyland. Noddy gets his car in the second book. It is given to him after he helps solve a local mystery.\n",
      "\n",
      "The other toys can hear him coming by the distinctive \"Parp Parp\" sound of his car's horn and the jingle of the bell on his blue hat. Often he uses his car to visit all of the places in Toyland. When his taxi business is not doing so well, or when he needs help, Noddy turns to Big Ears. Big Ears will often lend him what he needs. On occasion, Noddy will allow people to make his head nod, in exchange for small items such as his morning milk.\n",
      "\n",
      "Noddy is kind and honest, but he often gets into trouble, either through his own misunderstandings or because someone, usually one of the naughty goblins Sly or Gobbo, has played a trick on him. He is very childlike in his understanding of the world and often becomes confused as a result. For example, in the first Noddy book, Noddy and Big Ears are building Noddy's house for one. Noddy suggests that they build the roof first, in case it rains. With no understanding of gravity or of the need for roof supports, this is perfectly logical to him. (In fact, this is not so silly. Some multi-story buildings start with the roof, which is then raised on hydraulic jacks, and the story beneath is built, and then the roof is raised again, and so on. This is the Upbrella method.) As the series continues, Noddy becomes wiser but without losing his charm and lovable naivety.\n",
      "\n",
      "Noddy's best friends are Big Ears, Tessie Bear, Bumpy Dog, and the Tubby Bears. Big Ears, who brought Noddy to Toyland, is the most important figure in his life. Whenever he faces serious peril, it tends to be Big Ears who comes to the rescue, one way or another, and it is invariably Big Ears to whom Noddy turns for support and reassurance. Big Ears is not so much a parental figure, but more like a guardian, or perhaps Noddy's attorney. While kind to Noddy, Big Ears has an intimidating presence and voice that makes him feared by goblins. He is capable of facing down wizards with his own spells, and is able to plead Noddy's case to Mr. Plod, the local policeman, when Noddy finds himself in legal peril. On rare occasions, however, Big Ears finds himself in trouble, in which case Noddy comes to his aid. Big Ears and Noddy have rarely quarreled seriously. Examples of such quarrels are when Big Ears harshly scolded the very sensitive Tessie Bear for failing to control her dog and when Noddy ran his car into Big Ears's clothes post and then drove away, dragging Big Ears's clean washing behind him.\n",
      "\n",
      "Tessie is a gentle-hearted, gold bear who often wears a bonnet with flowers and a skirt. She is young like Noddy, and very loving towards all of her friends and neighbours. Bumpy Dog is Tessie's pet. He loves to run up and \"bump\" people over. Noddy frequently gets annoyed with Bumpy but still likes him. Whenever Noddy threatens Bumpy, Tessie gets upset, and sometimes even begins to cry. The Tubby Bears live next door to Noddy. They are gold and chubby teddy bears. Mr. and Mrs. Tubby Bear frequently help Noddy. It is clear that Mr. and Mrs. Tubby Bear are the superiors of Noddy, as if he were a child. Their first names are never mentioned and Noddy always refers to them as Mr. and Mrs. They have one son, also named Tubby, who is occasionally referred to as Master Tubby. Tubby is naughty and is usually in trouble for breaking rules, being rude, or doing something wrong. Noddy often attempts to scold or punish Tubby, with little result. On one occasion, Tubby gets tired of always being bossed around and being punished and decides to run away to sea. Noddy and Bumpy accidentally join with him. By the end of the journey, Tubby misses his parents and brings them back presents from his trip, as an apology.\n",
      "\n",
      "Noddy has many run-ins with Mr. Plod. Some are caused by Noddy's lack of understanding of how Toyland works. Other times it is because of a case of mistaken identity, Mr. Plod is generally long-suffering towards Noddy and Noddy likes Mr. Plod and frequently goes out of his way to help him. Mr. Plod often catches the mischief makers on his police bicycle, by blowing his whistle and shouting \"Halt in the name of Plod!!\" before locking the culprits up in his jail.\n"
     ]
    }
   ],
   "source": [
    "# another method to open the file.\n",
    "\n",
    "with open(x,'r') as f:\n",
    "    print(f.read())"
   ]
  },
  {
   "cell_type": "code",
   "execution_count": 25,
   "id": "1431ec24-4ae0-4dd0-aa16-d0b044b28180",
   "metadata": {},
   "outputs": [
    {
     "name": "stdout",
     "output_type": "stream",
     "text": [
      "The first \n",
      "book explains Noddy's origins. He is made by a woodcarver in a toy shop but runs away after the man \n",
      "begins to make a wooden lion, which scares Noddy. As he wanders through the woods naked, penniless, and homeless, he meets Big Ears, a friendly brownie. Big Ears decides that Noddy is a toy and takes \n"
     ]
    }
   ],
   "source": [
    "with open(x,'r') as y:\n",
    "    print(y.read(10))\n",
    "    print(y.read(100))\n",
    "    print(y.read(200))"
   ]
  },
  {
   "cell_type": "code",
   "execution_count": 30,
   "id": "7a82d5f4-4786-4b54-95c5-465e5dfd5b15",
   "metadata": {},
   "outputs": [
    {
     "name": "stdout",
     "output_type": "stream",
     "text": [
      "The first book explains Noddy's origins. He is made by a woodcarver in a toy shop but runs away after the man begins to make a wooden lion, which scares Noddy. As he wanders through the woods naked, penniless, and homeless, he meets Big Ears, a friendly brownie. Big Ears decides that Noddy is a toy and takes him to live in Toyland. He generously provides Noddy with a set of clothing and a house. While Noddy is quite happy to be a toy, the citizens of Toyland are not sure that he actually is one. They put Noddy on trial and examine whether he is a toy or an ornament. Eventually, Noddy is declared a toy, but still has to convince the court that he is a good toy. The judge accepts that Noddy is good after a doll tells the court that he saved her little girl from a lion, and he is allowed to stay in Toyland. Noddy gets his car in the second book. It is given to him after he helps solve a local mystery.\n",
      "\n",
      "\n",
      "\n",
      "The other toys can hear him coming by the distinctive \"Parp Parp\" sound of his car's horn and the jingle of the bell on his blue hat. Often he uses his car to visit all of the places in Toyland. When his taxi business is not doing so well, or when he needs help, Noddy turns to Big Ears. Big Ears will often lend him what he needs. On occasion, Noddy will allow people to make his head nod, in exchange for small items such as his morning milk.\n",
      "\n"
     ]
    }
   ],
   "source": [
    "# Readline\n",
    "\n",
    "with open(x,'r') as f:\n",
    "    print(f.readline())\n",
    "    print(f.readline())\n",
    "    print(f.readline())"
   ]
  },
  {
   "cell_type": "code",
   "execution_count": 31,
   "id": "8b90a96e-5e55-4e5e-9ac1-1e904e35a125",
   "metadata": {},
   "outputs": [
    {
     "name": "stdout",
     "output_type": "stream",
     "text": [
      "[\"The first book explains Noddy's origins. He is made by a woodcarver in a toy shop but runs away after the man begins to make a wooden lion, which scares Noddy. As he wanders through the woods naked, penniless, and homeless, he meets Big Ears, a friendly brownie. Big Ears decides that Noddy is a toy and takes him to live in Toyland. He generously provides Noddy with a set of clothing and a house. While Noddy is quite happy to be a toy, the citizens of Toyland are not sure that he actually is one. They put Noddy on trial and examine whether he is a toy or an ornament. Eventually, Noddy is declared a toy, but still has to convince the court that he is a good toy. The judge accepts that Noddy is good after a doll tells the court that he saved her little girl from a lion, and he is allowed to stay in Toyland. Noddy gets his car in the second book. It is given to him after he helps solve a local mystery.\\n\", '\\n', 'The other toys can hear him coming by the distinctive \"Parp Parp\" sound of his car\\'s horn and the jingle of the bell on his blue hat. Often he uses his car to visit all of the places in Toyland. When his taxi business is not doing so well, or when he needs help, Noddy turns to Big Ears. Big Ears will often lend him what he needs. On occasion, Noddy will allow people to make his head nod, in exchange for small items such as his morning milk.\\n', '\\n', \"Noddy is kind and honest, but he often gets into trouble, either through his own misunderstandings or because someone, usually one of the naughty goblins Sly or Gobbo, has played a trick on him. He is very childlike in his understanding of the world and often becomes confused as a result. For example, in the first Noddy book, Noddy and Big Ears are building Noddy's house for one. Noddy suggests that they build the roof first, in case it rains. With no understanding of gravity or of the need for roof supports, this is perfectly logical to him. (In fact, this is not so silly. Some multi-story buildings start with the roof, which is then raised on hydraulic jacks, and the story beneath is built, and then the roof is raised again, and so on. This is the Upbrella method.) As the series continues, Noddy becomes wiser but without losing his charm and lovable naivety.\\n\", '\\n', \"Noddy's best friends are Big Ears, Tessie Bear, Bumpy Dog, and the Tubby Bears. Big Ears, who brought Noddy to Toyland, is the most important figure in his life. Whenever he faces serious peril, it tends to be Big Ears who comes to the rescue, one way or another, and it is invariably Big Ears to whom Noddy turns for support and reassurance. Big Ears is not so much a parental figure, but more like a guardian, or perhaps Noddy's attorney. While kind to Noddy, Big Ears has an intimidating presence and voice that makes him feared by goblins. He is capable of facing down wizards with his own spells, and is able to plead Noddy's case to Mr. Plod, the local policeman, when Noddy finds himself in legal peril. On rare occasions, however, Big Ears finds himself in trouble, in which case Noddy comes to his aid. Big Ears and Noddy have rarely quarreled seriously. Examples of such quarrels are when Big Ears harshly scolded the very sensitive Tessie Bear for failing to control her dog and when Noddy ran his car into Big Ears's clothes post and then drove away, dragging Big Ears's clean washing behind him.\\n\", '\\n', 'Tessie is a gentle-hearted, gold bear who often wears a bonnet with flowers and a skirt. She is young like Noddy, and very loving towards all of her friends and neighbours. Bumpy Dog is Tessie\\'s pet. He loves to run up and \"bump\" people over. Noddy frequently gets annoyed with Bumpy but still likes him. Whenever Noddy threatens Bumpy, Tessie gets upset, and sometimes even begins to cry. The Tubby Bears live next door to Noddy. They are gold and chubby teddy bears. Mr. and Mrs. Tubby Bear frequently help Noddy. It is clear that Mr. and Mrs. Tubby Bear are the superiors of Noddy, as if he were a child. Their first names are never mentioned and Noddy always refers to them as Mr. and Mrs. They have one son, also named Tubby, who is occasionally referred to as Master Tubby. Tubby is naughty and is usually in trouble for breaking rules, being rude, or doing something wrong. Noddy often attempts to scold or punish Tubby, with little result. On one occasion, Tubby gets tired of always being bossed around and being punished and decides to run away to sea. Noddy and Bumpy accidentally join with him. By the end of the journey, Tubby misses his parents and brings them back presents from his trip, as an apology.\\n', '\\n', 'Noddy has many run-ins with Mr. Plod. Some are caused by Noddy\\'s lack of understanding of how Toyland works. Other times it is because of a case of mistaken identity, Mr. Plod is generally long-suffering towards Noddy and Noddy likes Mr. Plod and frequently goes out of his way to help him. Mr. Plod often catches the mischief makers on his police bicycle, by blowing his whistle and shouting \"Halt in the name of Plod!!\" before locking the culprits up in his jail.']\n"
     ]
    }
   ],
   "source": [
    "# readlines\n",
    "\n",
    "with open(x,'r') as f:\n",
    "    print(f.readlines())"
   ]
  },
  {
   "cell_type": "code",
   "execution_count": 34,
   "id": "8669f5b0-8934-4b04-af6d-c295081c4c00",
   "metadata": {},
   "outputs": [
    {
     "name": "stdout",
     "output_type": "stream",
     "text": [
      "Line Number 1: The first book explains Noddy's origins. He is made by a woodcarver in a toy shop but runs away after the man begins to make a wooden lion, which scares Noddy. As he wanders through the woods naked, penniless, and homeless, he meets Big Ears, a friendly brownie. Big Ears decides that Noddy is a toy and takes him to live in Toyland. He generously provides Noddy with a set of clothing and a house. While Noddy is quite happy to be a toy, the citizens of Toyland are not sure that he actually is one. They put Noddy on trial and examine whether he is a toy or an ornament. Eventually, Noddy is declared a toy, but still has to convince the court that he is a good toy. The judge accepts that Noddy is good after a doll tells the court that he saved her little girl from a lion, and he is allowed to stay in Toyland. Noddy gets his car in the second book. It is given to him after he helps solve a local mystery.\n",
      "\n",
      "Line Number 2: \n",
      "\n",
      "Line Number 3: The other toys can hear him coming by the distinctive \"Parp Parp\" sound of his car's horn and the jingle of the bell on his blue hat. Often he uses his car to visit all of the places in Toyland. When his taxi business is not doing so well, or when he needs help, Noddy turns to Big Ears. Big Ears will often lend him what he needs. On occasion, Noddy will allow people to make his head nod, in exchange for small items such as his morning milk.\n",
      "\n",
      "Line Number 4: \n",
      "\n",
      "Line Number 5: Noddy is kind and honest, but he often gets into trouble, either through his own misunderstandings or because someone, usually one of the naughty goblins Sly or Gobbo, has played a trick on him. He is very childlike in his understanding of the world and often becomes confused as a result. For example, in the first Noddy book, Noddy and Big Ears are building Noddy's house for one. Noddy suggests that they build the roof first, in case it rains. With no understanding of gravity or of the need for roof supports, this is perfectly logical to him. (In fact, this is not so silly. Some multi-story buildings start with the roof, which is then raised on hydraulic jacks, and the story beneath is built, and then the roof is raised again, and so on. This is the Upbrella method.) As the series continues, Noddy becomes wiser but without losing his charm and lovable naivety.\n",
      "\n",
      "Line Number 6: \n",
      "\n",
      "Line Number 7: Noddy's best friends are Big Ears, Tessie Bear, Bumpy Dog, and the Tubby Bears. Big Ears, who brought Noddy to Toyland, is the most important figure in his life. Whenever he faces serious peril, it tends to be Big Ears who comes to the rescue, one way or another, and it is invariably Big Ears to whom Noddy turns for support and reassurance. Big Ears is not so much a parental figure, but more like a guardian, or perhaps Noddy's attorney. While kind to Noddy, Big Ears has an intimidating presence and voice that makes him feared by goblins. He is capable of facing down wizards with his own spells, and is able to plead Noddy's case to Mr. Plod, the local policeman, when Noddy finds himself in legal peril. On rare occasions, however, Big Ears finds himself in trouble, in which case Noddy comes to his aid. Big Ears and Noddy have rarely quarreled seriously. Examples of such quarrels are when Big Ears harshly scolded the very sensitive Tessie Bear for failing to control her dog and when Noddy ran his car into Big Ears's clothes post and then drove away, dragging Big Ears's clean washing behind him.\n",
      "\n",
      "Line Number 8: \n",
      "\n",
      "Line Number 9: Tessie is a gentle-hearted, gold bear who often wears a bonnet with flowers and a skirt. She is young like Noddy, and very loving towards all of her friends and neighbours. Bumpy Dog is Tessie's pet. He loves to run up and \"bump\" people over. Noddy frequently gets annoyed with Bumpy but still likes him. Whenever Noddy threatens Bumpy, Tessie gets upset, and sometimes even begins to cry. The Tubby Bears live next door to Noddy. They are gold and chubby teddy bears. Mr. and Mrs. Tubby Bear frequently help Noddy. It is clear that Mr. and Mrs. Tubby Bear are the superiors of Noddy, as if he were a child. Their first names are never mentioned and Noddy always refers to them as Mr. and Mrs. They have one son, also named Tubby, who is occasionally referred to as Master Tubby. Tubby is naughty and is usually in trouble for breaking rules, being rude, or doing something wrong. Noddy often attempts to scold or punish Tubby, with little result. On one occasion, Tubby gets tired of always being bossed around and being punished and decides to run away to sea. Noddy and Bumpy accidentally join with him. By the end of the journey, Tubby misses his parents and brings them back presents from his trip, as an apology.\n",
      "\n",
      "Line Number 10: \n",
      "\n",
      "Line Number 11: Noddy has many run-ins with Mr. Plod. Some are caused by Noddy's lack of understanding of how Toyland works. Other times it is because of a case of mistaken identity, Mr. Plod is generally long-suffering towards Noddy and Noddy likes Mr. Plod and frequently goes out of his way to help him. Mr. Plod often catches the mischief makers on his police bicycle, by blowing his whistle and shouting \"Halt in the name of Plod!!\" before locking the culprits up in his jail.\n"
     ]
    }
   ],
   "source": [
    "with open(x,'r') as f:\n",
    "    line_number=1\n",
    "    for i in f:\n",
    "        print(f'Line Number {line_number}: {i}')\n",
    "        line_number+=1\n"
   ]
  },
  {
   "cell_type": "code",
   "execution_count": null,
   "id": "c15b407c-fb03-4911-9e4b-97894ad1350a",
   "metadata": {},
   "outputs": [],
   "source": []
  }
 ],
 "metadata": {
  "kernelspec": {
   "display_name": "Python 3 (ipykernel)",
   "language": "python",
   "name": "python3"
  },
  "language_info": {
   "codemirror_mode": {
    "name": "ipython",
    "version": 3
   },
   "file_extension": ".py",
   "mimetype": "text/x-python",
   "name": "python",
   "nbconvert_exporter": "python",
   "pygments_lexer": "ipython3",
   "version": "3.12.2"
  }
 },
 "nbformat": 4,
 "nbformat_minor": 5
}
