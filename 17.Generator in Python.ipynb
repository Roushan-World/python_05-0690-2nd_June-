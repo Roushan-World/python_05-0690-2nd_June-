{
 "cells": [
  {
   "cell_type": "markdown",
   "id": "000ee266-5b43-4ffc-99f2-8dbc2e1b7e10",
   "metadata": {},
   "source": [
    "# 17. Generator in Python\n",
    "\n",
    " * __Python generators are the function that returns the transversal objects and simple way of creating iterators.__\n",
    " * __It tranverse the entire items at once.__\n",
    " * __The generators can also be an expression in which syntax is similar to the list compression in Python.__\n",
    " * __There is a lot of complexity in creating iteration in pYthon, it is required to implement iter() and next() methods to keep track of internal states.__\n",
    " * __It is a lengthy process to create iterators, it raises StopIterations exceptions.__\n",
    " * __It pauses the functions execution by saving all states and yielded to the caller.__\n",
    " * __Later it resumes execution when a successive function is called.__\n",
    "   "
   ]
  },
  {
   "cell_type": "code",
   "execution_count": 1,
   "id": "42d7cdc3-5957-41cc-bdab-2af436051292",
   "metadata": {},
   "outputs": [
    {
     "name": "stdout",
     "output_type": "stream",
     "text": [
      "[0, 2, 4, 6, 8, 10, 12, 14, 16, 18, 20, 22, 24]\n"
     ]
    }
   ],
   "source": [
    "def function():\n",
    "    for i in range(25):\n",
    "        if i%2==0:\n",
    "            yield i\n",
    "\n",
    "\n",
    "num_list=[]\n",
    "\n",
    "for i in function():\n",
    "    num_list.append(i)\n",
    "print(num_list)"
   ]
  },
  {
   "cell_type": "code",
   "execution_count": 4,
   "id": "8715cffd-a782-445c-b30f-80ad0ec31e62",
   "metadata": {},
   "outputs": [
    {
     "name": "stdout",
     "output_type": "stream",
     "text": [
      "Hello world\n",
      "congratulations\n",
      "Hello Python\n",
      "Hello Kotlin\n",
      "Hello Anonconda\n"
     ]
    }
   ],
   "source": [
    "# generator\n",
    "\n",
    "def message():\n",
    "    return \"Hello world\"\n",
    "\n",
    "\n",
    "def message2():\n",
    "    return \"congratulations\"\n",
    "\n",
    "def message3():\n",
    "    return \"Hello Python\"\n",
    "\n",
    "def message4():\n",
    "    return \"Hello Kotlin\"\n",
    "\n",
    "def message5():\n",
    "    return \"Hello Anonconda\"\n",
    "\n",
    "\n",
    "print(message())\n",
    "print(message2())\n",
    "print(message3())\n",
    "print(message4())\n",
    "print(message5())\n"
   ]
  },
  {
   "cell_type": "code",
   "execution_count": 5,
   "id": "577dde56-e8b1-4fed-8faf-4c6a48e31d3b",
   "metadata": {},
   "outputs": [
    {
     "name": "stdout",
     "output_type": "stream",
     "text": [
      "Hello world\n"
     ]
    }
   ],
   "source": [
    "def message():\n",
    "    one_message=\"Hello world\"\n",
    "    yield one_message\n",
    "\n",
    "    two_message=\"Congratulations\"\n",
    "    yield two_message\n",
    "\n",
    "    three_msg=\"Hello Python\"\n",
    "    yield three_msg\n",
    "\n",
    "    four_msg=\"Hello kotlin\"\n",
    "    yield four_msg\n",
    "\n",
    "    five_msg=\"Hello Anoconda\"\n",
    "    yield five_msg\n",
    "\n",
    "result=message()\n",
    "print(next(result))"
   ]
  },
  {
   "cell_type": "code",
   "execution_count": 6,
   "id": "deb958de-7fdf-4d53-9991-12b233edd5c8",
   "metadata": {},
   "outputs": [
    {
     "name": "stdout",
     "output_type": "stream",
     "text": [
      "Congratulations\n"
     ]
    }
   ],
   "source": [
    "print(next(result))"
   ]
  },
  {
   "cell_type": "code",
   "execution_count": 7,
   "id": "a6bd3e2e-514e-41e6-bdbf-8a0b4da65752",
   "metadata": {},
   "outputs": [
    {
     "name": "stdout",
     "output_type": "stream",
     "text": [
      "Hello Python\n"
     ]
    }
   ],
   "source": [
    "print(next(result))"
   ]
  },
  {
   "cell_type": "code",
   "execution_count": 8,
   "id": "496d79fa-ade9-443a-bdd2-c1c655972dc5",
   "metadata": {},
   "outputs": [
    {
     "name": "stdout",
     "output_type": "stream",
     "text": [
      "Hello kotlin\n"
     ]
    }
   ],
   "source": [
    "print(next(result))"
   ]
  },
  {
   "cell_type": "code",
   "execution_count": 9,
   "id": "f5a71c69-f7a4-4250-8f6c-05458cfaa850",
   "metadata": {},
   "outputs": [
    {
     "name": "stdout",
     "output_type": "stream",
     "text": [
      "Hello Anoconda\n"
     ]
    }
   ],
   "source": [
    "print(next(result))"
   ]
  },
  {
   "cell_type": "code",
   "execution_count": 10,
   "id": "bcd30cb2-556d-425c-af8d-09e31946fb4f",
   "metadata": {},
   "outputs": [
    {
     "ename": "StopIteration",
     "evalue": "",
     "output_type": "error",
     "traceback": [
      "\u001b[1;31m---------------------------------------------------------------------------\u001b[0m",
      "\u001b[1;31mStopIteration\u001b[0m                             Traceback (most recent call last)",
      "Cell \u001b[1;32mIn[10], line 1\u001b[0m\n\u001b[1;32m----> 1\u001b[0m \u001b[38;5;28mprint\u001b[39m(\u001b[38;5;28;43mnext\u001b[39;49m\u001b[43m(\u001b[49m\u001b[43mresult\u001b[49m\u001b[43m)\u001b[49m)\n",
      "\u001b[1;31mStopIteration\u001b[0m: "
     ]
    }
   ],
   "source": [
    "print(next(result))"
   ]
  },
  {
   "cell_type": "code",
   "execution_count": null,
   "id": "496c4e23-7479-433f-a4e6-512c9eebd336",
   "metadata": {},
   "outputs": [],
   "source": []
  }
 ],
 "metadata": {
  "kernelspec": {
   "display_name": "Python 3 (ipykernel)",
   "language": "python",
   "name": "python3"
  },
  "language_info": {
   "codemirror_mode": {
    "name": "ipython",
    "version": 3
   },
   "file_extension": ".py",
   "mimetype": "text/x-python",
   "name": "python",
   "nbconvert_exporter": "python",
   "pygments_lexer": "ipython3",
   "version": "3.12.2"
  }
 },
 "nbformat": 4,
 "nbformat_minor": 5
}
