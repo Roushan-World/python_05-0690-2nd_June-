{
 "cells": [
  {
   "cell_type": "markdown",
   "id": "d24e19bb-9bd0-45b7-822b-16b6c50d0683",
   "metadata": {},
   "source": [
    "# 10. Exception Handling in Python\n",
    "\n",
    " * __An exception is an event, which occurs during the execution of a program that disrupts the normal flow of the program's instructions.__\n",
    " * __In general, when a Python script encounters a situation that it cannot cope with, it raises an exception.__\n",
    " * __An exception is a Python object that represent an error.__\n",
    " * __When a Python script raises an exception, it must either handle the exception immediately otherwise it terminates and quites.__\n",
    " * __If your have some suspicious code that may raises an exception, you can defend your program by placing the suspicious code in a try:block.__\n",
    " * __After the try:block, include an except:statement, followed by a block of code which handles the problem as elegantly as possible.__\n",
    " * __Comman exceptions__\n",
    "   * __ZeroDivisonError__\n",
    "   * __NameError__\n",
    "   * __ValueError__\n",
    "   * __EOFError__\n",
    "   * __indentationError__"
   ]
  },
  {
   "cell_type": "code",
   "execution_count": 15,
   "id": "7493cbb4-5397-4b6f-8bc2-c24b181c070b",
   "metadata": {},
   "outputs": [
    {
     "ename": "ZeroDivisionError",
     "evalue": "division by zero",
     "output_type": "error",
     "traceback": [
      "\u001b[1;31m---------------------------------------------------------------------------\u001b[0m",
      "\u001b[1;31mZeroDivisionError\u001b[0m                         Traceback (most recent call last)",
      "Cell \u001b[1;32mIn[15], line 1\u001b[0m\n\u001b[1;32m----> 1\u001b[0m \u001b[38;5;241;43m1\u001b[39;49m\u001b[38;5;241;43m/\u001b[39;49m\u001b[38;5;241;43m0\u001b[39;49m\n\u001b[0;32m      2\u001b[0m \u001b[38;5;28mprint\u001b[39m(\u001b[38;5;124m'\u001b[39m\u001b[38;5;124mHello world\u001b[39m\u001b[38;5;124m'\u001b[39m)\n",
      "\u001b[1;31mZeroDivisionError\u001b[0m: division by zero"
     ]
    }
   ],
   "source": [
    "1/0\n",
    "print('Hello world')"
   ]
  },
  {
   "cell_type": "code",
   "execution_count": 16,
   "id": "abcf42ac-a147-4942-bb92-7f13267bc0de",
   "metadata": {},
   "outputs": [
    {
     "name": "stdout",
     "output_type": "stream",
     "text": [
      "It gives ZeroDivisionError\n",
      "Hello world\n"
     ]
    }
   ],
   "source": [
    "try:\n",
    "    1/0\n",
    "except ZeroDivisionError:\n",
    "    print('It gives ZeroDivisionError')\n",
    "print('Hello world')"
   ]
  },
  {
   "cell_type": "code",
   "execution_count": 21,
   "id": "ec02cbdb-8709-4a75-9a46-390c05c43ebe",
   "metadata": {},
   "outputs": [
    {
     "ename": "NameError",
     "evalue": "name 'y' is not defined",
     "output_type": "error",
     "traceback": [
      "\u001b[1;31m---------------------------------------------------------------------------\u001b[0m",
      "\u001b[1;31mNameError\u001b[0m                                 Traceback (most recent call last)",
      "Cell \u001b[1;32mIn[21], line 2\u001b[0m\n\u001b[0;32m      1\u001b[0m x\u001b[38;5;241m=\u001b[39m\u001b[38;5;124m'\u001b[39m\u001b[38;5;124mHello world\u001b[39m\u001b[38;5;124m'\u001b[39m\n\u001b[1;32m----> 2\u001b[0m \u001b[38;5;28mprint\u001b[39m(\u001b[43my\u001b[49m)\n",
      "\u001b[1;31mNameError\u001b[0m: name 'y' is not defined"
     ]
    }
   ],
   "source": [
    "x='Hello world'\n",
    "print(y)"
   ]
  },
  {
   "cell_type": "code",
   "execution_count": 23,
   "id": "f504fccf-a24f-41b6-bbd7-7d14459dae48",
   "metadata": {},
   "outputs": [
    {
     "name": "stdout",
     "output_type": "stream",
     "text": [
      "It gives NameErorr\n"
     ]
    }
   ],
   "source": [
    "try:\n",
    "    x='Hello world'\n",
    "    print(y)\n",
    "except NameError:\n",
    "    print('It gives NameErorr')"
   ]
  },
  {
   "cell_type": "markdown",
   "id": "0ba901fc-8445-4bb0-8143-efa5735820c1",
   "metadata": {},
   "source": [
    "# try:except:except"
   ]
  },
  {
   "cell_type": "code",
   "execution_count": 31,
   "id": "57da327b-0e17-4f33-9d62-ceea86b92f4b",
   "metadata": {},
   "outputs": [
    {
     "name": "stdin",
     "output_type": "stream",
     "text": [
      "Enter any number 45.0\n"
     ]
    },
    {
     "name": "stdout",
     "output_type": "stream",
     "text": [
      "It gives ValueError You can not pass string value in input box takes only number data.\n"
     ]
    }
   ],
   "source": [
    "try:\n",
    "    num1=int(input('Enter any number'))\n",
    "    num2=int(input('Enter second number'))\n",
    "    resutl=num1/num2\n",
    "    print(result1)\n",
    "except ZeroDivisionError:\n",
    "    print('It gives ZeroDivisonErorr')\n",
    "\n",
    "except ValueError:\n",
    "    print('It gives ValueError You can not pass string value in input box takes only number data.')"
   ]
  },
  {
   "cell_type": "markdown",
   "id": "a9e30109-5ab6-47fb-8097-f5447d4c368c",
   "metadata": {},
   "source": [
    "# try-except-else\n"
   ]
  },
  {
   "cell_type": "code",
   "execution_count": 38,
   "id": "8f13ff36-093c-4005-8692-9483be724d70",
   "metadata": {},
   "outputs": [
    {
     "name": "stdout",
     "output_type": "stream",
     "text": [
      "It gives Error of KeyboardInterrupt\n"
     ]
    },
    {
     "name": "stdin",
     "output_type": "stream",
     "text": [
      "Enter any number 10\n"
     ]
    }
   ],
   "source": [
    "try:\n",
    "    num1=int(input('Enter any number'))\n",
    "    num2=int(input('Enter second number'))\n",
    "    result=num1/num2\n",
    "except ZeroDivisionError:\n",
    "    print('It gives ZeroDivisonErorr')\n",
    "\n",
    "except ValueError:\n",
    "    print('It gives ValueError You can not pass string value in input box takes only number data.')\n",
    "except KeyboardInterrupt:\n",
    "    print('It gives Error of KeyboardInterrupt')\n",
    "\n",
    "else:\n",
    "    print('Your Result is:',result)"
   ]
  },
  {
   "cell_type": "markdown",
   "id": "09367715-e576-412f-9d6e-c147b2ceb751",
   "metadata": {},
   "source": [
    "# try:except:else:finally"
   ]
  },
  {
   "cell_type": "code",
   "execution_count": 41,
   "id": "234bd311-309d-41fe-8b4e-4aa828ed572e",
   "metadata": {},
   "outputs": [
    {
     "name": "stdin",
     "output_type": "stream",
     "text": [
      "Enter any number hell\n"
     ]
    },
    {
     "name": "stdout",
     "output_type": "stream",
     "text": [
      "It gives ValueError You can not pass string value in input box takes only number data.\n",
      "Done\n"
     ]
    }
   ],
   "source": [
    "try:\n",
    "    num1=int(input('Enter any number'))\n",
    "    num2=int(input('Enter second number'))\n",
    "    result=num1/num2\n",
    "except ZeroDivisionError:\n",
    "    print('It gives ZeroDivisonErorr')\n",
    "\n",
    "except ValueError:\n",
    "    print('It gives ValueError You can not pass string value in input box takes only number data.')\n",
    "except KeyboardInterrupt:\n",
    "    print('It gives Error of KeyboardInterrupt')\n",
    "\n",
    "else:\n",
    "    print('Your Result is:',result)\n",
    "\n",
    "finally:\n",
    "    print('Done')\n"
   ]
  },
  {
   "cell_type": "code",
   "execution_count": null,
   "id": "75d1e059-d819-4d8c-9798-595570577d3d",
   "metadata": {},
   "outputs": [],
   "source": []
  }
 ],
 "metadata": {
  "kernelspec": {
   "display_name": "Python 3 (ipykernel)",
   "language": "python",
   "name": "python3"
  },
  "language_info": {
   "codemirror_mode": {
    "name": "ipython",
    "version": 3
   },
   "file_extension": ".py",
   "mimetype": "text/x-python",
   "name": "python",
   "nbconvert_exporter": "python",
   "pygments_lexer": "ipython3",
   "version": "3.12.2"
  }
 },
 "nbformat": 4,
 "nbformat_minor": 5
}
