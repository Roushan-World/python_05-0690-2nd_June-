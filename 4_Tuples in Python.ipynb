{
 "cells": [
  {
   "cell_type": "markdown",
   "id": "221898c0-d537-4221-863c-697972957eab",
   "metadata": {},
   "source": [
    "# 4 Tuples in Python\n",
    "\n",
    " * __Tuples are immutable lists and cannot be changed in any way once it is created.__\n",
    " * __Tuples are defined in the same way as lists.__\n",
    " * __Tuples are ordered, indexed collections of data.__\n",
    " * __Similar to the string indices, the first value in the tuple will have the index[0], the second value[1].__\n",
    " * __Negative indices are counted from the end of the tuple, just like lists.__\n",
    " * __Tuples also has the same structure where commas separate the values.__\n",
    " * __Tuples can store duplicate values.__\n",
    " * __Tuples allow you to store several data items including string, integer, float in one variable.__"
   ]
  },
  {
   "cell_type": "code",
   "execution_count": 2,
   "id": "329704f2-a811-427e-8889-a4ebb7da26e1",
   "metadata": {},
   "outputs": [
    {
     "name": "stdout",
     "output_type": "stream",
     "text": [
      "()\n",
      "<class 'tuple'>\n"
     ]
    }
   ],
   "source": [
    "# How to create tuples?\n",
    "# we use parentheses() \n",
    "\n",
    "tuple1=()\n",
    "print(tuple1)\n",
    "print(type(tuple1))"
   ]
  },
  {
   "cell_type": "code",
   "execution_count": 5,
   "id": "a9568cc9-b8c5-4111-96ac-1d628183aec4",
   "metadata": {},
   "outputs": [
    {
     "name": "stdout",
     "output_type": "stream",
     "text": [
      "Hello world\n",
      "<class 'str'>\n"
     ]
    }
   ],
   "source": [
    "tuple1=('Hello world')\n",
    "print(tuple1)\n",
    "print(type(tuple1))"
   ]
  },
  {
   "cell_type": "code",
   "execution_count": 6,
   "id": "9f622ede-0f3d-4e6c-9227-479c8182942e",
   "metadata": {},
   "outputs": [
    {
     "name": "stdout",
     "output_type": "stream",
     "text": [
      "10\n",
      "<class 'int'>\n"
     ]
    }
   ],
   "source": [
    "tuple1=(10)\n",
    "print(tuple1)\n",
    "print(type(tuple1))"
   ]
  },
  {
   "cell_type": "code",
   "execution_count": 12,
   "id": "85eff78d-2e0a-405c-9711-6edfc64a94d4",
   "metadata": {},
   "outputs": [
    {
     "name": "stdout",
     "output_type": "stream",
     "text": [
      "('1', '0')\n",
      "<class 'tuple'>\n"
     ]
    }
   ],
   "source": [
    "# tuple()\n",
    "tup1=tuple('10')\n",
    "print(tup1)\n",
    "print(type(tup1))"
   ]
  },
  {
   "cell_type": "code",
   "execution_count": 13,
   "id": "b077b2fc-b75f-4c25-ad9c-23f4a7828f2e",
   "metadata": {},
   "outputs": [
    {
     "name": "stdout",
     "output_type": "stream",
     "text": [
      "('Hello world', 3.14, 1.618, True, False, ('hi,python', 10, 20), [70, 80])\n"
     ]
    }
   ],
   "source": [
    "# Indexing in tuple\n",
    "\n",
    "tup1=('Hello world',3.14,1.618,True,False,('hi,python',10,20),[70,80])\n",
    "print(tup1)"
   ]
  },
  {
   "cell_type": "code",
   "execution_count": 14,
   "id": "63106c1c-f492-4466-8080-d8d73bc81a75",
   "metadata": {},
   "outputs": [
    {
     "name": "stdout",
     "output_type": "stream",
     "text": [
      "Hello world\n",
      "<class 'str'>\n",
      "3.14\n",
      "<class 'str'>\n"
     ]
    }
   ],
   "source": [
    "# printing element with their type\n",
    "print(tup1[0])\n",
    "print(type(tup1[0]))\n",
    "print(tup1[1])\n",
    "print(type(tup1[0]))"
   ]
  },
  {
   "cell_type": "code",
   "execution_count": 16,
   "id": "953badee-0266-48ea-8862-dc3f871623bb",
   "metadata": {},
   "outputs": [
    {
     "name": "stdout",
     "output_type": "stream",
     "text": [
      "('Hello world', 10, 'hi python', 20)\n"
     ]
    }
   ],
   "source": [
    "# Concatenation of tuple\n",
    "\n",
    "x=('Hello world',10)\n",
    "y=('hi! python',20)\n",
    "z=x+y\n",
    "print(z)"
   ]
  },
  {
   "cell_type": "code",
   "execution_count": 17,
   "id": "ef72297d-4b89-487b-982c-cf7c7326f64b",
   "metadata": {},
   "outputs": [
    {
     "name": "stdout",
     "output_type": "stream",
     "text": [
      "('Hello world', True, 'Hello world', True)\n"
     ]
    }
   ],
   "source": [
    "# Repetation of Tuple\n",
    "\n",
    "x1=('Hello world',True)\n",
    "\n",
    "y1=x1*2\n",
    "print(y1)"
   ]
  },
  {
   "cell_type": "markdown",
   "id": "1add6b5a-5093-4140-9711-75e921f8fecd",
   "metadata": {},
   "source": [
    "# Membership operator (in or not in)"
   ]
  },
  {
   "cell_type": "code",
   "execution_count": 23,
   "id": "19f6243c-85f5-461b-9928-845fb840a1d1",
   "metadata": {},
   "outputs": [
    {
     "name": "stdout",
     "output_type": "stream",
     "text": [
      "True\n",
      "False\n",
      "False\n",
      "False\n"
     ]
    }
   ],
   "source": [
    "tuple1=('Hello world',True,False,(10,20,30,'python'),'PHP','JavaScript',100,5000)\n",
    "print(True in tuple1)\n",
    "print('True' in tuple1)\n",
    "print('Hello world' not in tuple1)\n",
    "print(10 in tuple1)"
   ]
  },
  {
   "cell_type": "code",
   "execution_count": 24,
   "id": "0a5f7bb9-08ac-4d3e-9081-462e2162e032",
   "metadata": {},
   "outputs": [
    {
     "name": "stdout",
     "output_type": "stream",
     "text": [
      "Mininum of the tuple is: 10\n",
      "Maximum of the tuple is: 90\n",
      "Sum of the tuple is: 450\n",
      "Totle length of tuple is: 9\n",
      "Average of the tuple is: 50.0\n"
     ]
    }
   ],
   "source": [
    "# Aggrigate function: min(),max(),sum(),count(),average(),len()\n",
    "\n",
    "tuple2=(10,20,30,40,50,60,70,80,90)\n",
    "print('Mininum of the tuple is:',min(tuple2))\n",
    "print('Maximum of the tuple is:',max(tuple2))\n",
    "print('Sum of the tuple is:',sum(tuple2))\n",
    "print('Totle length of tuple is:',len(tuple2))\n",
    "print('Average of the tuple is:',sum(tuple2)/len(tuple2))"
   ]
  },
  {
   "cell_type": "code",
   "execution_count": 27,
   "id": "54278d6a-eed8-4fc0-862b-6be413c22d70",
   "metadata": {},
   "outputs": [
    {
     "data": {
      "text/plain": [
       "(True, False, (10, 20, 30, 'python'))"
      ]
     },
     "execution_count": 27,
     "metadata": {},
     "output_type": "execute_result"
    }
   ],
   "source": [
    "# Slicing of string\n",
    "\n",
    "tuple1=('Hello world',True,False,(10,20,30,'python'),'PHP','JavaScript',100,5000)\n",
    "\n",
    "slicing=tuple1[1:4]\n",
    "slicing"
   ]
  },
  {
   "cell_type": "code",
   "execution_count": 30,
   "id": "2db17af4-61cb-4482-80ee-6824bed746ad",
   "metadata": {},
   "outputs": [
    {
     "name": "stdout",
     "output_type": "stream",
     "text": [
      "[10, 10, 12, 15, 18, 20, 30, 30, 40, 40, 50, 60, 67, 69, 80, 90]\n",
      "<class 'list'>\n"
     ]
    }
   ],
   "source": [
    "# sorting of tuple \n",
    "# Ascending or descending order.\n",
    "tuple2=(10,20,30,40,60,80,90,40,50,30,10,12,15,18,69,67)\n",
    "\n",
    "tuple3=sorted(tuple2)\n",
    "print(tuple3)\n",
    "print(type(tuple3))"
   ]
  },
  {
   "cell_type": "code",
   "execution_count": 33,
   "id": "4613baaf-d6f7-4404-a004-41ab24bda206",
   "metadata": {},
   "outputs": [
    {
     "name": "stdout",
     "output_type": "stream",
     "text": [
      "[10, 10, 12, 15, 18, 20, 30, 30, 40, 40, 50, 60, 67, 69, 80, 90]\n",
      "[90, 80, 69, 67, 60, 50, 40, 40, 30, 30, 20, 18, 15, 12, 10, 10]\n"
     ]
    }
   ],
   "source": [
    "# slicing\n",
    "\n",
    "reverse_tup=tuple3[::-1]\n",
    "print(tuple3)\n",
    "print(reverse_tup)"
   ]
  },
  {
   "cell_type": "code",
   "execution_count": 34,
   "id": "1c7c451a-d0c1-49f2-8244-91b2d3529f57",
   "metadata": {},
   "outputs": [
    {
     "name": "stdout",
     "output_type": "stream",
     "text": [
      "('hello world', 10, 20, True, False)\n"
     ]
    }
   ],
   "source": [
    "tuple1=('hello world',10,20,True,False)\n",
    "print(tuple1)"
   ]
  },
  {
   "cell_type": "code",
   "execution_count": 36,
   "id": "b888ed2e-1ea9-406d-b5c0-6070f481d498",
   "metadata": {},
   "outputs": [
    {
     "ename": "TypeError",
     "evalue": "'tuple' object does not support item assignment",
     "output_type": "error",
     "traceback": [
      "\u001b[1;31m---------------------------------------------------------------------------\u001b[0m",
      "\u001b[1;31mTypeError\u001b[0m                                 Traceback (most recent call last)",
      "Cell \u001b[1;32mIn[36], line 2\u001b[0m\n\u001b[0;32m      1\u001b[0m \u001b[38;5;66;03m# tuples are immutable data type in python\u001b[39;00m\n\u001b[1;32m----> 2\u001b[0m \u001b[43mtuple1\u001b[49m\u001b[43m[\u001b[49m\u001b[38;5;241;43m0\u001b[39;49m\u001b[43m]\u001b[49m\u001b[38;5;241m=\u001b[39m\u001b[38;5;124m'\u001b[39m\u001b[38;5;124mHello World\u001b[39m\u001b[38;5;124m'\u001b[39m\n\u001b[0;32m      3\u001b[0m tuple1\n",
      "\u001b[1;31mTypeError\u001b[0m: 'tuple' object does not support item assignment"
     ]
    }
   ],
   "source": [
    "# tuples are immutable data type in python\n",
    "tuple1[0]='Hello World'\n",
    "tuple1"
   ]
  },
  {
   "cell_type": "code",
   "execution_count": 38,
   "id": "ef8831cb-effc-49fc-9805-0b9e44d8d003",
   "metadata": {},
   "outputs": [
    {
     "ename": "AttributeError",
     "evalue": "'tuple' object has no attribute 'append'",
     "output_type": "error",
     "traceback": [
      "\u001b[1;31m---------------------------------------------------------------------------\u001b[0m",
      "\u001b[1;31mAttributeError\u001b[0m                            Traceback (most recent call last)",
      "Cell \u001b[1;32mIn[38], line 3\u001b[0m\n\u001b[0;32m      1\u001b[0m \u001b[38;5;66;03m# appending the data in tuple\u001b[39;00m\n\u001b[1;32m----> 3\u001b[0m \u001b[43mtuple1\u001b[49m\u001b[38;5;241;43m.\u001b[39;49m\u001b[43mappend\u001b[49m(\u001b[38;5;124m'\u001b[39m\u001b[38;5;124mcharu\u001b[39m\u001b[38;5;124m'\u001b[39m)\n\u001b[0;32m      4\u001b[0m tuple1\n",
      "\u001b[1;31mAttributeError\u001b[0m: 'tuple' object has no attribute 'append'"
     ]
    }
   ],
   "source": [
    "# appending the data in tuple\n",
    "\n",
    "tuple1.append('charu')\n",
    "tuple1"
   ]
  },
  {
   "cell_type": "code",
   "execution_count": 39,
   "id": "38213455-3ce7-4aeb-991b-29f334a04569",
   "metadata": {},
   "outputs": [
    {
     "data": {
      "text/plain": [
       "('hello world', 10, 20, True, False)"
      ]
     },
     "execution_count": 39,
     "metadata": {},
     "output_type": "execute_result"
    }
   ],
   "source": [
    "tuple1"
   ]
  },
  {
   "cell_type": "code",
   "execution_count": 40,
   "id": "a80fe229-a993-4b6e-aa85-354f2c3e0efb",
   "metadata": {},
   "outputs": [
    {
     "ename": "TypeError",
     "evalue": "'tuple' object doesn't support item deletion",
     "output_type": "error",
     "traceback": [
      "\u001b[1;31m---------------------------------------------------------------------------\u001b[0m",
      "\u001b[1;31mTypeError\u001b[0m                                 Traceback (most recent call last)",
      "Cell \u001b[1;32mIn[40], line 2\u001b[0m\n\u001b[0;32m      1\u001b[0m \u001b[38;5;66;03m# deleting an element in tuple\u001b[39;00m\n\u001b[1;32m----> 2\u001b[0m \u001b[38;5;28;01mdel\u001b[39;00m(\u001b[43mtuple1\u001b[49m\u001b[43m[\u001b[49m\u001b[38;5;241;43m0\u001b[39;49m\u001b[43m]\u001b[49m)\n",
      "\u001b[1;31mTypeError\u001b[0m: 'tuple' object doesn't support item deletion"
     ]
    }
   ],
   "source": [
    "# deleting an element in tuple\n",
    "del(tuple1[0])"
   ]
  },
  {
   "cell_type": "code",
   "execution_count": 43,
   "id": "1e6e498b-951e-46f7-9db3-6e67f024a63d",
   "metadata": {},
   "outputs": [
    {
     "name": "stdout",
     "output_type": "stream",
     "text": [
      "('Hello world', 10, 20)\n"
     ]
    }
   ],
   "source": [
    "# Note: You can not delete a single element in tuple but you can delete the whole tuple.\n",
    "\n",
    "x=('Hello world',10,20)\n",
    "print(x)"
   ]
  },
  {
   "cell_type": "code",
   "execution_count": 44,
   "id": "eb02d775-f344-404a-9224-6f747a4ff61d",
   "metadata": {},
   "outputs": [],
   "source": [
    "# delete the tuple\n",
    "del(x)"
   ]
  },
  {
   "cell_type": "code",
   "execution_count": 45,
   "id": "2c1a75be-5b0e-4a61-b77f-d9ba06949f04",
   "metadata": {},
   "outputs": [
    {
     "ename": "NameError",
     "evalue": "name 'x' is not defined",
     "output_type": "error",
     "traceback": [
      "\u001b[1;31m---------------------------------------------------------------------------\u001b[0m",
      "\u001b[1;31mNameError\u001b[0m                                 Traceback (most recent call last)",
      "Cell \u001b[1;32mIn[45], line 1\u001b[0m\n\u001b[1;32m----> 1\u001b[0m \u001b[38;5;28mprint\u001b[39m(\u001b[43mx\u001b[49m)\n",
      "\u001b[1;31mNameError\u001b[0m: name 'x' is not defined"
     ]
    }
   ],
   "source": [
    "print(x)"
   ]
  },
  {
   "cell_type": "code",
   "execution_count": null,
   "id": "b9a83606-d445-4269-91b6-effe95bcfdaf",
   "metadata": {},
   "outputs": [],
   "source": []
  }
 ],
 "metadata": {
  "kernelspec": {
   "display_name": "Python 3 (ipykernel)",
   "language": "python",
   "name": "python3"
  },
  "language_info": {
   "codemirror_mode": {
    "name": "ipython",
    "version": 3
   },
   "file_extension": ".py",
   "mimetype": "text/x-python",
   "name": "python",
   "nbconvert_exporter": "python",
   "pygments_lexer": "ipython3",
   "version": "3.12.2"
  }
 },
 "nbformat": 4,
 "nbformat_minor": 5
}
