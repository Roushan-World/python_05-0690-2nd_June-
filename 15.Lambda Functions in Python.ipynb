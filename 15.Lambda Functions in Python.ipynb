{
 "cells": [
  {
   "cell_type": "markdown",
   "id": "5e33e80b-189d-45da-88f9-3c67cf82fae3",
   "metadata": {},
   "source": [
    "# 15. Lambda functions in Python\n",
    "\n",
    " * __A Lambda function is a small anonymous functions.__\n",
    " * __A Lambda function can take any number of arguments, but can only have one expressions.__\n",
    " * __The expression is eveluated and returned.__\n",
    " * __Lambda functions can be used wherever function objects are required.__\n",
    " * __Lambda Expression (or lambda functions) are essentially blocks of code that can be assigned to variable, passed as an arguments, or returned from a function call, In language that support high-order functions.__\n",
    " * __The main role of lambda function is better described in the scenarios when we employ them anonymousely insdie another functions.__\n",
    " * __n Python, the Lambda function can be utilized as an arguments to their high-order functions as an arguments.__\n",
    " * __Lambda function in Python__\n",
    "    * __1. Syntax__\n",
    "       * __Normal Functions__\n",
    "       * __Anonymous Functions__\n",
    "    * __2.Usages__\n",
    "       * __Lambda with filters()__\n",
    "       * __Lambda with map()__\n",
    "       * __Lambda with reduce()__\n",
    "       * __Lambda with sorted()__\n",
    "    * __3.CommonErrors__\n",
    "       * __SyntaxError__\n",
    "       * __TypeError__"
   ]
  },
  {
   "cell_type": "code",
   "execution_count": 1,
   "id": "4bced037-b992-4cc2-8951-849bbb535bfd",
   "metadata": {},
   "outputs": [
    {
     "data": {
      "text/plain": [
       "20"
      ]
     },
     "execution_count": 1,
     "metadata": {},
     "output_type": "execute_result"
    }
   ],
   "source": [
    "def func(x):\n",
    "    y=x+10\n",
    "    return y\n",
    "\n",
    "func(10)"
   ]
  },
  {
   "cell_type": "code",
   "execution_count": 2,
   "id": "01d9dbad-c2c5-4a23-84f2-c92cf214265f",
   "metadata": {},
   "outputs": [
    {
     "data": {
      "text/plain": [
       "20"
      ]
     },
     "execution_count": 2,
     "metadata": {},
     "output_type": "execute_result"
    }
   ],
   "source": [
    "(lambda x:x+10)(10)"
   ]
  },
  {
   "cell_type": "code",
   "execution_count": 3,
   "id": "c562fa0a-21bf-48af-a6b7-5f4bd57a6649",
   "metadata": {},
   "outputs": [
    {
     "name": "stdin",
     "output_type": "stream",
     "text": [
      "Enter first number: 10\n",
      "Enter second number: 20\n"
     ]
    },
    {
     "data": {
      "text/plain": [
       "30"
      ]
     },
     "execution_count": 3,
     "metadata": {},
     "output_type": "execute_result"
    }
   ],
   "source": [
    "# take two input from user and return sum of the number\n",
    "\n",
    "def add_two(x,y):\n",
    "    z=x+y\n",
    "    return z\n",
    "user1=int(input('Enter first number:'))\n",
    "user2=int(input('Enter second number:'))\n",
    "add_two(user1,user2)"
   ]
  },
  {
   "cell_type": "code",
   "execution_count": 5,
   "id": "6bcde997-6b24-4162-b8fc-e71f143b8e19",
   "metadata": {},
   "outputs": [
    {
     "name": "stdin",
     "output_type": "stream",
     "text": [
      "Enter first number: 10\n",
      "Enter second number: 20\n"
     ]
    },
    {
     "data": {
      "text/plain": [
       "30"
      ]
     },
     "execution_count": 5,
     "metadata": {},
     "output_type": "execute_result"
    }
   ],
   "source": [
    "user1=int(input('Enter first number:'))\n",
    "user2=int(input('Enter second number:'))\n",
    "(lambda x,y:x+y)(user1,user2)"
   ]
  },
  {
   "cell_type": "code",
   "execution_count": 10,
   "id": "0ff73cb2-965b-46a4-b429-dc39614ec8cf",
   "metadata": {},
   "outputs": [
    {
     "name": "stdout",
     "output_type": "stream",
     "text": [
      "Even element is: [10, 20, 30, 50, 26, 78, 62, 102] \n",
      "Odd element is: [25, 79, 45, 45, 53, 51, 1001, 103]\n"
     ]
    }
   ],
   "source": [
    "# find even or odd inside the list element\n",
    "\n",
    "array_nums=[10,20,30,50,25,26,78,79,45,45,62,53,51,1001,102,103]\n",
    "\n",
    "even = []\n",
    "odd = []\n",
    "\n",
    "for i in array_nums:\n",
    "    if i%2==0:\n",
    "        even.append(i)\n",
    "    else:\n",
    "        odd.append(i)\n",
    "\n",
    "print(\"Even element is:\",even,\"\\nOdd element is:\",odd)"
   ]
  },
  {
   "cell_type": "markdown",
   "id": "ca1fe562-3dd5-4e2e-b616-36dd6bd42778",
   "metadata": {},
   "source": [
    "# Lambda Filter()\n",
    "\n",
    " * __A high-order function__\n",
    " * __syntax: filter(function,sequence)__\n",
    "   * __It applies function to each element of sequence and returns for which the function returns true.__\n",
    " * __filter returns a subset of sequence__\n",
    "   * __to generate the actual list, we need to apply list()__"
   ]
  },
  {
   "cell_type": "code",
   "execution_count": 14,
   "id": "b307b824-7024-4077-a812-0dce9cfe3f14",
   "metadata": {},
   "outputs": [
    {
     "name": "stdout",
     "output_type": "stream",
     "text": [
      "Even List is: [10, 20, 30, 50, 26, 78, 62, 102]\n",
      "Odd List is: [25, 79, 45, 45, 53, 51, 1001, 103]\n"
     ]
    }
   ],
   "source": [
    "array_nums=[10,20,30,50,25,26,78,79,45,45,62,53,51,1001,102,103]\n",
    "\n",
    "even_num=[]\n",
    "odd_num=[]\n",
    "\n",
    "even_num=list(filter(lambda x:(x%2==0),array_nums))\n",
    "odd_num=list(filter(lambda y:(y%2!=0),array_nums))\n",
    "print('Even List is:',even_num)\n",
    "print('Odd List is:',odd_num)"
   ]
  },
  {
   "cell_type": "code",
   "execution_count": 22,
   "id": "2d4e1a65-182b-4ef3-811a-9748f13dc293",
   "metadata": {},
   "outputs": [
    {
     "name": "stdout",
     "output_type": "stream",
     "text": [
      "Tuesday\n",
      "Wednesday\n",
      "Thursday\n",
      "Saturday\n"
     ]
    }
   ],
   "source": [
    "# filterout only more than 6 character.\n",
    "weekdays=['Monday',\"Tuesday\",\"Wednesday\",\"Thursday\",\"Friday\",\"Saturday\",\"Sunday\"]\n",
    "\n",
    "for i in weekdays:\n",
    "    if len(i)>6:\n",
    "        print(i)"
   ]
  },
  {
   "cell_type": "code",
   "execution_count": 25,
   "id": "722c8a2c-fbd8-4b9b-a963-af142e0c805e",
   "metadata": {},
   "outputs": [
    {
     "data": {
      "text/plain": [
       "['Tuesday', 'Wednesday', 'Thursday', 'Saturday']"
      ]
     },
     "execution_count": 25,
     "metadata": {},
     "output_type": "execute_result"
    }
   ],
   "source": [
    "weekdays=['Monday',\"Tuesday\",\"Wednesday\",\"Thursday\",\"Friday\",\"Saturday\",\"Sunday\"]\n",
    "\n",
    "filter_element=list(filter(lambda a:len(a)>6,weekdays))\n",
    "filter_element"
   ]
  },
  {
   "cell_type": "code",
   "execution_count": null,
   "id": "6fd5898b-ffb5-4af6-a6df-ec1a11803028",
   "metadata": {},
   "outputs": [],
   "source": []
  }
 ],
 "metadata": {
  "kernelspec": {
   "display_name": "Python 3 (ipykernel)",
   "language": "python",
   "name": "python3"
  },
  "language_info": {
   "codemirror_mode": {
    "name": "ipython",
    "version": 3
   },
   "file_extension": ".py",
   "mimetype": "text/x-python",
   "name": "python",
   "nbconvert_exporter": "python",
   "pygments_lexer": "ipython3",
   "version": "3.12.2"
  }
 },
 "nbformat": 4,
 "nbformat_minor": 5
}
