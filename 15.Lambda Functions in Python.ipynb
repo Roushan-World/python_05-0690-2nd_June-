{
 "cells": [
  {
   "cell_type": "markdown",
   "id": "5e33e80b-189d-45da-88f9-3c67cf82fae3",
   "metadata": {},
   "source": [
    "# 15. Lambda functions in Python\n",
    "\n",
    " * __A Lambda function is a small anonymous functions.__\n",
    " * __A Lambda function can take any number of arguments, but can only have one expressions.__\n",
    " * __The expression is eveluated and returned.__\n",
    " * __Lambda functions can be used wherever function objects are required.__\n",
    " * __Lambda Expression (or lambda functions) are essentially blocks of code that can be assigned to variable, passed as an arguments, or returned from a function call, In language that support high-order functions.__\n",
    " * __The main role of lambda function is better described in the scenarios when we employ them anonymousely insdie another functions.__\n",
    " * __n Python, the Lambda function can be utilized as an arguments to their high-order functions as an arguments.__\n",
    " * __Lambda function in Python__\n",
    "    * __1. Syntax__\n",
    "       * __Normal Functions__\n",
    "       * __Anonymous Functions__\n",
    "    * __2.Usages__\n",
    "       * __Lambda with filters()__\n",
    "       * __Lambda with map()__\n",
    "       * __Lambda with reduce()__\n",
    "       * __Lambda with sorted()__\n",
    "       * __Lambda with apply()__\n",
    "    * __3.CommonErrors__\n",
    "       * __SyntaxError__\n",
    "       * __TypeError__"
   ]
  },
  {
   "cell_type": "code",
   "execution_count": 1,
   "id": "4bced037-b992-4cc2-8951-849bbb535bfd",
   "metadata": {},
   "outputs": [
    {
     "data": {
      "text/plain": [
       "20"
      ]
     },
     "execution_count": 1,
     "metadata": {},
     "output_type": "execute_result"
    }
   ],
   "source": [
    "def func(x):\n",
    "    y=x+10\n",
    "    return y\n",
    "\n",
    "func(10)"
   ]
  },
  {
   "cell_type": "code",
   "execution_count": 2,
   "id": "01d9dbad-c2c5-4a23-84f2-c92cf214265f",
   "metadata": {},
   "outputs": [
    {
     "data": {
      "text/plain": [
       "20"
      ]
     },
     "execution_count": 2,
     "metadata": {},
     "output_type": "execute_result"
    }
   ],
   "source": [
    "(lambda x:x+10)(10)"
   ]
  },
  {
   "cell_type": "code",
   "execution_count": 3,
   "id": "c562fa0a-21bf-48af-a6b7-5f4bd57a6649",
   "metadata": {},
   "outputs": [
    {
     "name": "stdin",
     "output_type": "stream",
     "text": [
      "Enter first number: 10\n",
      "Enter second number: 20\n"
     ]
    },
    {
     "data": {
      "text/plain": [
       "30"
      ]
     },
     "execution_count": 3,
     "metadata": {},
     "output_type": "execute_result"
    }
   ],
   "source": [
    "# take two input from user and return sum of the number\n",
    "\n",
    "def add_two(x,y):\n",
    "    z=x+y\n",
    "    return z\n",
    "user1=int(input('Enter first number:'))\n",
    "user2=int(input('Enter second number:'))\n",
    "add_two(user1,user2)"
   ]
  },
  {
   "cell_type": "code",
   "execution_count": 5,
   "id": "6bcde997-6b24-4162-b8fc-e71f143b8e19",
   "metadata": {},
   "outputs": [
    {
     "name": "stdin",
     "output_type": "stream",
     "text": [
      "Enter first number: 10\n",
      "Enter second number: 20\n"
     ]
    },
    {
     "data": {
      "text/plain": [
       "30"
      ]
     },
     "execution_count": 5,
     "metadata": {},
     "output_type": "execute_result"
    }
   ],
   "source": [
    "user1=int(input('Enter first number:'))\n",
    "user2=int(input('Enter second number:'))\n",
    "(lambda x,y:x+y)(user1,user2)"
   ]
  },
  {
   "cell_type": "code",
   "execution_count": 10,
   "id": "0ff73cb2-965b-46a4-b429-dc39614ec8cf",
   "metadata": {},
   "outputs": [
    {
     "name": "stdout",
     "output_type": "stream",
     "text": [
      "Even element is: [10, 20, 30, 50, 26, 78, 62, 102] \n",
      "Odd element is: [25, 79, 45, 45, 53, 51, 1001, 103]\n"
     ]
    }
   ],
   "source": [
    "# find even or odd inside the list element\n",
    "\n",
    "array_nums=[10,20,30,50,25,26,78,79,45,45,62,53,51,1001,102,103]\n",
    "\n",
    "even = []\n",
    "odd = []\n",
    "\n",
    "for i in array_nums:\n",
    "    if i%2==0:\n",
    "        even.append(i)\n",
    "    else:\n",
    "        odd.append(i)\n",
    "\n",
    "print(\"Even element is:\",even,\"\\nOdd element is:\",odd)"
   ]
  },
  {
   "cell_type": "markdown",
   "id": "ca1fe562-3dd5-4e2e-b616-36dd6bd42778",
   "metadata": {},
   "source": [
    "# Lambda Filter()\n",
    "\n",
    " * __A high-order function__\n",
    " * __syntax: filter(function,sequence)__\n",
    "   * __It applies function to each element of sequence and returns for which the function returns true.__\n",
    " * __filter returns a subset of sequence__\n",
    "   * __to generate the actual list, we need to apply list()__"
   ]
  },
  {
   "cell_type": "code",
   "execution_count": 14,
   "id": "b307b824-7024-4077-a812-0dce9cfe3f14",
   "metadata": {},
   "outputs": [
    {
     "name": "stdout",
     "output_type": "stream",
     "text": [
      "Even List is: [10, 20, 30, 50, 26, 78, 62, 102]\n",
      "Odd List is: [25, 79, 45, 45, 53, 51, 1001, 103]\n"
     ]
    }
   ],
   "source": [
    "array_nums=[10,20,30,50,25,26,78,79,45,45,62,53,51,1001,102,103]\n",
    "\n",
    "even_num=[]\n",
    "odd_num=[]\n",
    "\n",
    "even_num=list(filter(lambda x:(x%2==0),array_nums))\n",
    "odd_num=list(filter(lambda y:(y%2!=0),array_nums))\n",
    "print('Even List is:',even_num)\n",
    "print('Odd List is:',odd_num)"
   ]
  },
  {
   "cell_type": "code",
   "execution_count": 22,
   "id": "2d4e1a65-182b-4ef3-811a-9748f13dc293",
   "metadata": {},
   "outputs": [
    {
     "name": "stdout",
     "output_type": "stream",
     "text": [
      "Tuesday\n",
      "Wednesday\n",
      "Thursday\n",
      "Saturday\n"
     ]
    }
   ],
   "source": [
    "# filterout only more than 6 character.\n",
    "weekdays=['Monday',\"Tuesday\",\"Wednesday\",\"Thursday\",\"Friday\",\"Saturday\",\"Sunday\"]\n",
    "\n",
    "for i in weekdays:\n",
    "    if len(i)>6:\n",
    "        print(i)"
   ]
  },
  {
   "cell_type": "code",
   "execution_count": 25,
   "id": "722c8a2c-fbd8-4b9b-a963-af142e0c805e",
   "metadata": {},
   "outputs": [
    {
     "data": {
      "text/plain": [
       "['Tuesday', 'Wednesday', 'Thursday', 'Saturday']"
      ]
     },
     "execution_count": 25,
     "metadata": {},
     "output_type": "execute_result"
    }
   ],
   "source": [
    "weekdays=['Monday',\"Tuesday\",\"Wednesday\",\"Thursday\",\"Friday\",\"Saturday\",\"Sunday\"]\n",
    "\n",
    "filter_element=list(filter(lambda a:len(a)>6,weekdays))\n",
    "filter_element"
   ]
  },
  {
   "cell_type": "markdown",
   "id": "abe19536-1e88-49e7-8f45-701031b022db",
   "metadata": {},
   "source": [
    "# Lambda with map()\n",
    "\n",
    " * __A high-order function__\n",
    " * __Syntax:map(function,sequence)__\n",
    " * __applies function to each element of sequence and returns the result.__"
   ]
  },
  {
   "cell_type": "code",
   "execution_count": 6,
   "id": "6bebbfbb-20a6-402c-88df-21b22e3f60ff",
   "metadata": {},
   "outputs": [
    {
     "data": {
      "text/plain": [
       "100"
      ]
     },
     "execution_count": 6,
     "metadata": {},
     "output_type": "execute_result"
    }
   ],
   "source": [
    "def square1(x):\n",
    "    return x**2\n",
    "\n",
    "square1(10)"
   ]
  },
  {
   "cell_type": "code",
   "execution_count": 11,
   "id": "9a4259b9-f418-42bd-8915-b95e11ab3b18",
   "metadata": {},
   "outputs": [
    {
     "name": "stdin",
     "output_type": "stream",
     "text": [
      "Enter any number: 5\n"
     ]
    },
    {
     "data": {
      "text/plain": [
       "[0, 1, 4, 9, 16]"
      ]
     },
     "execution_count": 11,
     "metadata": {},
     "output_type": "execute_result"
    }
   ],
   "source": [
    "y=int(input('Enter any number:'))\n",
    "list(map(square1,range(y)))"
   ]
  },
  {
   "cell_type": "code",
   "execution_count": 12,
   "id": "05c82bc4-acd4-4d5b-a6ed-edbca2a82b70",
   "metadata": {},
   "outputs": [
    {
     "data": {
      "text/plain": [
       "1000"
      ]
     },
     "execution_count": 12,
     "metadata": {},
     "output_type": "execute_result"
    }
   ],
   "source": [
    "def cube_value(x1):\n",
    "    return x1**3\n",
    "\n",
    "cube_value(10)"
   ]
  },
  {
   "cell_type": "code",
   "execution_count": 14,
   "id": "d30a89ae-0523-46ef-b874-fbfd58a0559c",
   "metadata": {},
   "outputs": [
    {
     "name": "stdin",
     "output_type": "stream",
     "text": [
      "Enter your range: 6\n"
     ]
    },
    {
     "data": {
      "text/plain": [
       "[0, 1, 8, 27, 64, 125]"
      ]
     },
     "execution_count": 14,
     "metadata": {},
     "output_type": "execute_result"
    }
   ],
   "source": [
    "y1=int(input('Enter your range:'))\n",
    "list(map(cube_value,range(y1)))"
   ]
  },
  {
   "cell_type": "markdown",
   "id": "1dec5881-64fa-41c5-8975-c2569383fc01",
   "metadata": {},
   "source": [
    "# reduce()\n",
    "\n",
    " * __Required: from functools import reduce__\n",
    " * __syntax: reduce(function,sequence)__\n",
    " * __reduce, continually applies the function(x,y) to the sequence s. It returns a single value.__"
   ]
  },
  {
   "cell_type": "code",
   "execution_count": 15,
   "id": "cf7c60ad-c7d5-486a-ae3e-c2876bb9119e",
   "metadata": {},
   "outputs": [],
   "source": [
    "from functools import reduce"
   ]
  },
  {
   "cell_type": "code",
   "execution_count": 18,
   "id": "0bd706b0-9119-4aaa-99a6-55dc9be3bf96",
   "metadata": {},
   "outputs": [
    {
     "data": {
      "text/plain": [
       "10"
      ]
     },
     "execution_count": 18,
     "metadata": {},
     "output_type": "execute_result"
    }
   ],
   "source": [
    "def add(x,y):\n",
    "    return x+y\n",
    "\n",
    "add(0,10)"
   ]
  },
  {
   "cell_type": "code",
   "execution_count": 17,
   "id": "9b61fc56-5d5c-45fb-b1d7-1c9e8a26b710",
   "metadata": {},
   "outputs": [
    {
     "data": {
      "text/plain": [
       "45"
      ]
     },
     "execution_count": 17,
     "metadata": {},
     "output_type": "execute_result"
    }
   ],
   "source": [
    "reduce(add,range(10))   # 0,1,2,3,4,5,6,7,8,9 =45"
   ]
  },
  {
   "cell_type": "markdown",
   "id": "4770027c-beb0-4eaf-b033-ac7c18702ba2",
   "metadata": {},
   "source": [
    "# Sorted Function in Lambda\n",
    " * __A simple ascending sort is very easy. Just call the sorted() functions. It returns a news list.__"
   ]
  },
  {
   "cell_type": "code",
   "execution_count": 27,
   "id": "39140d36-f271-4fcc-8ca0-9f382d6b01fa",
   "metadata": {},
   "outputs": [
    {
     "name": "stdout",
     "output_type": "stream",
     "text": [
      "List element: [5, 2, 4, 1, 3, 7]\n",
      "After Sorted element: [1, 2, 3, 4, 5, 7]\n"
     ]
    }
   ],
   "source": [
    "x=[5,2,4,1,3,7]\n",
    "print('List element:',x)\n",
    "y=sorted(x)\n",
    "print(\"After Sorted element:\",y)"
   ]
  },
  {
   "cell_type": "code",
   "execution_count": 35,
   "id": "5527c6b2-5d95-4759-89dc-d37e3ea95317",
   "metadata": {},
   "outputs": [
    {
     "data": {
      "text/plain": [
       "[('Uday Chopra', 'A', 15), ('Isha Deol', 'B', 12), ('Katrina Kaif', 'C', 10)]"
      ]
     },
     "execution_count": 35,
     "metadata": {},
     "output_type": "execute_result"
    }
   ],
   "source": [
    "# Dictionary\n",
    "\n",
    "students=[\n",
    "    ('Uday Chopra',\"A\",15),\n",
    "    ('Isha Deol',\"B\",12),\n",
    "    ('Katrina Kaif',\"C\",10)\n",
    "]\n",
    "students"
   ]
  },
  {
   "cell_type": "code",
   "execution_count": 36,
   "id": "ecf1a64c-547f-43aa-a398-f06a55a10107",
   "metadata": {},
   "outputs": [
    {
     "data": {
      "text/plain": [
       "list"
      ]
     },
     "execution_count": 36,
     "metadata": {},
     "output_type": "execute_result"
    }
   ],
   "source": [
    "type(students)"
   ]
  },
  {
   "cell_type": "code",
   "execution_count": 38,
   "id": "da1de0ab-c758-4c23-8d0b-d80e8d77a8c1",
   "metadata": {},
   "outputs": [
    {
     "data": {
      "text/plain": [
       "tuple"
      ]
     },
     "execution_count": 38,
     "metadata": {},
     "output_type": "execute_result"
    }
   ],
   "source": [
    "type(students[0])"
   ]
  },
  {
   "cell_type": "code",
   "execution_count": 40,
   "id": "d5349884-c0b6-4ecf-a9f7-2907445a57f1",
   "metadata": {},
   "outputs": [
    {
     "data": {
      "text/plain": [
       "[('Isha Deol', 'B', 12), ('Katrina Kaif', 'C', 10), ('Uday Chopra', 'A', 15)]"
      ]
     },
     "execution_count": 40,
     "metadata": {},
     "output_type": "execute_result"
    }
   ],
   "source": [
    "# sorting perform by 1st value\n",
    "sorted(students,key=lambda students:students)"
   ]
  },
  {
   "cell_type": "code",
   "execution_count": 41,
   "id": "c6c8ef6e-126d-45f3-a400-4a575954ef1e",
   "metadata": {},
   "outputs": [
    {
     "data": {
      "text/plain": [
       "[('Isha Deol', 'B', 12), ('Katrina Kaif', 'C', 10), ('Uday Chopra', 'A', 15)]"
      ]
     },
     "execution_count": 41,
     "metadata": {},
     "output_type": "execute_result"
    }
   ],
   "source": [
    "sorted(students,key=lambda students:students[0])"
   ]
  },
  {
   "cell_type": "code",
   "execution_count": 42,
   "id": "2a604a90-9b62-418d-a427-0d3f21c59624",
   "metadata": {},
   "outputs": [
    {
     "data": {
      "text/plain": [
       "[('Uday Chopra', 'A', 15), ('Isha Deol', 'B', 12), ('Katrina Kaif', 'C', 10)]"
      ]
     },
     "execution_count": 42,
     "metadata": {},
     "output_type": "execute_result"
    }
   ],
   "source": [
    "sorted(students,key=lambda students:students[1])"
   ]
  },
  {
   "cell_type": "code",
   "execution_count": 43,
   "id": "ef7e2734-60a9-4899-81c8-34975e91b88c",
   "metadata": {},
   "outputs": [
    {
     "data": {
      "text/plain": [
       "[('Katrina Kaif', 'C', 10), ('Isha Deol', 'B', 12), ('Uday Chopra', 'A', 15)]"
      ]
     },
     "execution_count": 43,
     "metadata": {},
     "output_type": "execute_result"
    }
   ],
   "source": [
    "sorted(students,key=lambda students:students[2])"
   ]
  },
  {
   "cell_type": "code",
   "execution_count": null,
   "id": "d0d2593a-c1a6-4c3b-9923-63cfb9e82600",
   "metadata": {},
   "outputs": [],
   "source": []
  },
  {
   "cell_type": "code",
   "execution_count": 44,
   "id": "d8006433-169c-4d56-9cc2-e5bb6f6d292b",
   "metadata": {},
   "outputs": [],
   "source": [
    "import pandas as pd"
   ]
  },
  {
   "cell_type": "code",
   "execution_count": 45,
   "id": "c4b7e78c-d5cc-428c-b59e-25f23d4e60c9",
   "metadata": {},
   "outputs": [
    {
     "data": {
      "text/plain": [
       "[('Katrina Kaif', 'C', 10), ('Isha Deol', 'B', 12), ('Uday Chopra', 'A', 15)]"
      ]
     },
     "execution_count": 45,
     "metadata": {},
     "output_type": "execute_result"
    }
   ],
   "source": [
    "values=[('Katrina Kaif', 'C', 10), ('Isha Deol', 'B', 12), ('Uday Chopra', 'A', 15)]\n",
    "values"
   ]
  },
  {
   "cell_type": "code",
   "execution_count": 46,
   "id": "d52abc4f-3927-43c1-98a1-21ce97d17180",
   "metadata": {},
   "outputs": [
    {
     "data": {
      "text/html": [
       "<div>\n",
       "<style scoped>\n",
       "    .dataframe tbody tr th:only-of-type {\n",
       "        vertical-align: middle;\n",
       "    }\n",
       "\n",
       "    .dataframe tbody tr th {\n",
       "        vertical-align: top;\n",
       "    }\n",
       "\n",
       "    .dataframe thead th {\n",
       "        text-align: right;\n",
       "    }\n",
       "</style>\n",
       "<table border=\"1\" class=\"dataframe\">\n",
       "  <thead>\n",
       "    <tr style=\"text-align: right;\">\n",
       "      <th></th>\n",
       "      <th>Name</th>\n",
       "      <th>Sections</th>\n",
       "      <th>Marks</th>\n",
       "    </tr>\n",
       "  </thead>\n",
       "  <tbody>\n",
       "    <tr>\n",
       "      <th>0</th>\n",
       "      <td>Katrina Kaif</td>\n",
       "      <td>C</td>\n",
       "      <td>10</td>\n",
       "    </tr>\n",
       "    <tr>\n",
       "      <th>1</th>\n",
       "      <td>Isha Deol</td>\n",
       "      <td>B</td>\n",
       "      <td>12</td>\n",
       "    </tr>\n",
       "    <tr>\n",
       "      <th>2</th>\n",
       "      <td>Uday Chopra</td>\n",
       "      <td>A</td>\n",
       "      <td>15</td>\n",
       "    </tr>\n",
       "  </tbody>\n",
       "</table>\n",
       "</div>"
      ],
      "text/plain": [
       "           Name Sections  Marks\n",
       "0  Katrina Kaif        C     10\n",
       "1     Isha Deol        B     12\n",
       "2   Uday Chopra        A     15"
      ]
     },
     "execution_count": 46,
     "metadata": {},
     "output_type": "execute_result"
    }
   ],
   "source": [
    "df=pd.DataFrame(values,columns=['Name',\"Sections\",\"Marks\"])\n",
    "df"
   ]
  },
  {
   "cell_type": "code",
   "execution_count": 55,
   "id": "490a710b-5546-4692-8759-6471793ae852",
   "metadata": {},
   "outputs": [
    {
     "data": {
      "text/plain": [
       "10"
      ]
     },
     "execution_count": 55,
     "metadata": {},
     "output_type": "execute_result"
    }
   ],
   "source": [
    "df['Marks'][0]"
   ]
  },
  {
   "cell_type": "code",
   "execution_count": 59,
   "id": "16087ac0-33de-4cd2-9a15-1fb89d19d021",
   "metadata": {},
   "outputs": [
    {
     "data": {
      "text/plain": [
       "[[10, 20, 30], [45, 45, 100], [45, 12, 10]]"
      ]
     },
     "execution_count": 59,
     "metadata": {},
     "output_type": "execute_result"
    }
   ],
   "source": [
    "values_list=[[10,20,30],[45,45,100],[45,12,10]]\n",
    "values_list"
   ]
  },
  {
   "cell_type": "code",
   "execution_count": 66,
   "id": "65c942d9-d448-4bb0-9a52-9c681024d42e",
   "metadata": {},
   "outputs": [
    {
     "data": {
      "text/html": [
       "<div>\n",
       "<style scoped>\n",
       "    .dataframe tbody tr th:only-of-type {\n",
       "        vertical-align: middle;\n",
       "    }\n",
       "\n",
       "    .dataframe tbody tr th {\n",
       "        vertical-align: top;\n",
       "    }\n",
       "\n",
       "    .dataframe thead th {\n",
       "        text-align: right;\n",
       "    }\n",
       "</style>\n",
       "<table border=\"1\" class=\"dataframe\">\n",
       "  <thead>\n",
       "    <tr style=\"text-align: right;\">\n",
       "      <th></th>\n",
       "      <th>Field1</th>\n",
       "      <th>Field2</th>\n",
       "      <th>Field3</th>\n",
       "    </tr>\n",
       "  </thead>\n",
       "  <tbody>\n",
       "    <tr>\n",
       "      <th>a</th>\n",
       "      <td>10</td>\n",
       "      <td>20</td>\n",
       "      <td>30</td>\n",
       "    </tr>\n",
       "    <tr>\n",
       "      <th>b</th>\n",
       "      <td>45</td>\n",
       "      <td>45</td>\n",
       "      <td>100</td>\n",
       "    </tr>\n",
       "    <tr>\n",
       "      <th>c</th>\n",
       "      <td>45</td>\n",
       "      <td>12</td>\n",
       "      <td>10</td>\n",
       "    </tr>\n",
       "  </tbody>\n",
       "</table>\n",
       "</div>"
      ],
      "text/plain": [
       "   Field1  Field2  Field3\n",
       "a      10      20      30\n",
       "b      45      45     100\n",
       "c      45      12      10"
      ]
     },
     "execution_count": 66,
     "metadata": {},
     "output_type": "execute_result"
    }
   ],
   "source": [
    "df=pd.DataFrame(values_list,columns=['Field1','Field2','Field3'],index=['a','b','c'])\n",
    "df"
   ]
  },
  {
   "cell_type": "code",
   "execution_count": 67,
   "id": "f1197220-45ea-4276-b8da-2205fb333d64",
   "metadata": {},
   "outputs": [
    {
     "data": {
      "text/html": [
       "<div>\n",
       "<style scoped>\n",
       "    .dataframe tbody tr th:only-of-type {\n",
       "        vertical-align: middle;\n",
       "    }\n",
       "\n",
       "    .dataframe tbody tr th {\n",
       "        vertical-align: top;\n",
       "    }\n",
       "\n",
       "    .dataframe thead th {\n",
       "        text-align: right;\n",
       "    }\n",
       "</style>\n",
       "<table border=\"1\" class=\"dataframe\">\n",
       "  <thead>\n",
       "    <tr style=\"text-align: right;\">\n",
       "      <th></th>\n",
       "      <th>Field1</th>\n",
       "      <th>Field2</th>\n",
       "      <th>Field3</th>\n",
       "    </tr>\n",
       "  </thead>\n",
       "  <tbody>\n",
       "    <tr>\n",
       "      <th>a</th>\n",
       "      <td>15</td>\n",
       "      <td>25</td>\n",
       "      <td>35</td>\n",
       "    </tr>\n",
       "    <tr>\n",
       "      <th>b</th>\n",
       "      <td>50</td>\n",
       "      <td>50</td>\n",
       "      <td>105</td>\n",
       "    </tr>\n",
       "    <tr>\n",
       "      <th>c</th>\n",
       "      <td>50</td>\n",
       "      <td>17</td>\n",
       "      <td>15</td>\n",
       "    </tr>\n",
       "  </tbody>\n",
       "</table>\n",
       "</div>"
      ],
      "text/plain": [
       "   Field1  Field2  Field3\n",
       "a      15      25      35\n",
       "b      50      50     105\n",
       "c      50      17      15"
      ]
     },
     "execution_count": 67,
     "metadata": {},
     "output_type": "execute_result"
    }
   ],
   "source": [
    "df1=df.apply(lambda x:x+5)\n",
    "df1"
   ]
  },
  {
   "cell_type": "code",
   "execution_count": null,
   "id": "d395036b-c3c5-4735-b5e8-3610cdbdab60",
   "metadata": {},
   "outputs": [],
   "source": []
  }
 ],
 "metadata": {
  "kernelspec": {
   "display_name": "Python 3 (ipykernel)",
   "language": "python",
   "name": "python3"
  },
  "language_info": {
   "codemirror_mode": {
    "name": "ipython",
    "version": 3
   },
   "file_extension": ".py",
   "mimetype": "text/x-python",
   "name": "python",
   "nbconvert_exporter": "python",
   "pygments_lexer": "ipython3",
   "version": "3.12.2"
  }
 },
 "nbformat": 4,
 "nbformat_minor": 5
}
