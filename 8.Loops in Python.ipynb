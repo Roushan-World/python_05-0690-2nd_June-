{
 "cells": [
  {
   "cell_type": "markdown",
   "id": "80f6f7f7-3f61-4aeb-9bc5-ac3f40b862e4",
   "metadata": {},
   "source": [
    "# 8. Loops in Python\n",
    "\n",
    " * __A for loop is used for iterating over a sequence (that is either a list, a tuple, a set, or a string).__\n",
    " * __This is less like the for keyword in other programming languages, and works more like an iterator method as found in other object-oriented programming languages.__\n",
    " * __With for loop we can execute a set of statemnets, once for each item in a list, tuple, set etc.__\n",
    " * __The for loop does not require an indexing variable to set beforehand.__\n",
    " * __With the while loop we can execute a set of statements as long as a condition is true.__\n",
    " * __Note: remember to increment i, or else the loop will continue forever.__\n",
    " * __The while loop requires relevant variables to be ready, in this example we need to define an indexing variable, i, which we set to 1.__\n",
    "\n",
    "# range() function\n",
    " * __It is helpful to think of the range object as an ordered list.__\n",
    " * __To loop throught a set of code a specified number of times, we can use the range() function.__\n",
    " * __The range() function returns a sequence of numbers, starting from 0 by default, and increments by 1 (by default), and ends at a specified number.__"
   ]
  },
  {
   "cell_type": "code",
   "execution_count": 1,
   "id": "aa3586fa-92be-42cf-a699-bdaadb3c7af7",
   "metadata": {},
   "outputs": [
    {
     "name": "stdout",
     "output_type": "stream",
     "text": [
      "range(0, 10)\n"
     ]
    }
   ],
   "source": [
    "print(range(10))"
   ]
  },
  {
   "cell_type": "code",
   "execution_count": 2,
   "id": "d2228b46-62e4-4018-9407-a446d443f268",
   "metadata": {},
   "outputs": [
    {
     "name": "stdout",
     "output_type": "stream",
     "text": [
      "range(0, 100)\n"
     ]
    }
   ],
   "source": [
    "print(range(100))"
   ]
  },
  {
   "cell_type": "code",
   "execution_count": 3,
   "id": "153a6fb5-74fd-4f05-9725-f96ad4848279",
   "metadata": {},
   "outputs": [
    {
     "name": "stdout",
     "output_type": "stream",
     "text": [
      "range(0, 500)\n"
     ]
    }
   ],
   "source": [
    "print(range(500))"
   ]
  },
  {
   "cell_type": "code",
   "execution_count": 4,
   "id": "a99a6cda-08eb-4575-87d2-30b8dc4f9cbe",
   "metadata": {},
   "outputs": [
    {
     "name": "stdout",
     "output_type": "stream",
     "text": [
      "range(5, 10)\n"
     ]
    }
   ],
   "source": [
    "print(range(5,10))  #n-1"
   ]
  },
  {
   "cell_type": "code",
   "execution_count": 5,
   "id": "805415dc-d95a-48f1-aa17-0aa13ddb801f",
   "metadata": {},
   "outputs": [
    {
     "name": "stdout",
     "output_type": "stream",
     "text": [
      "0\n",
      "1\n",
      "2\n",
      "3\n",
      "4\n",
      "5\n",
      "6\n",
      "7\n",
      "8\n",
      "9\n"
     ]
    }
   ],
   "source": [
    "for i in range(10):\n",
    "    print(i)"
   ]
  },
  {
   "cell_type": "code",
   "execution_count": 7,
   "id": "74a3ac67-7ff2-4414-a24c-acd0acf7f818",
   "metadata": {},
   "outputs": [
    {
     "name": "stdout",
     "output_type": "stream",
     "text": [
      "1\n",
      "2\n",
      "3\n",
      "4\n",
      "5\n",
      "6\n",
      "7\n",
      "8\n",
      "9\n",
      "10\n"
     ]
    }
   ],
   "source": [
    "for x in range(1,11):\n",
    "    print(x)"
   ]
  },
  {
   "cell_type": "code",
   "execution_count": 8,
   "id": "247309e4-20fd-4091-a757-4c5f14c8d5e8",
   "metadata": {},
   "outputs": [
    {
     "name": "stdout",
     "output_type": "stream",
     "text": [
      "50\n",
      "51\n",
      "52\n",
      "53\n",
      "54\n",
      "55\n",
      "56\n",
      "57\n",
      "58\n",
      "59\n",
      "60\n",
      "61\n",
      "62\n",
      "63\n",
      "64\n",
      "65\n",
      "66\n",
      "67\n",
      "68\n",
      "69\n",
      "70\n",
      "71\n",
      "72\n",
      "73\n",
      "74\n",
      "75\n",
      "76\n",
      "77\n",
      "78\n",
      "79\n",
      "80\n",
      "81\n",
      "82\n",
      "83\n",
      "84\n",
      "85\n",
      "86\n",
      "87\n",
      "88\n",
      "89\n",
      "90\n",
      "91\n",
      "92\n",
      "93\n",
      "94\n",
      "95\n",
      "96\n",
      "97\n",
      "98\n",
      "99\n",
      "100\n"
     ]
    }
   ],
   "source": [
    "for i in range(50,101):\n",
    "    print(i)"
   ]
  },
  {
   "cell_type": "code",
   "execution_count": 9,
   "id": "65d7b2dc-21cb-4049-b56a-1d8128f5b336",
   "metadata": {},
   "outputs": [
    {
     "name": "stdout",
     "output_type": "stream",
     "text": [
      "0\n",
      "1\n",
      "2\n",
      "3\n",
      "4\n",
      "5\n",
      "6\n",
      "7\n",
      "8\n",
      "9\n",
      "10\n",
      "11\n",
      "12\n",
      "13\n",
      "14\n",
      "15\n",
      "16\n",
      "17\n",
      "18\n",
      "19\n"
     ]
    }
   ],
   "source": [
    "for charu in range(20):\n",
    "    print(charu)"
   ]
  },
  {
   "cell_type": "code",
   "execution_count": 10,
   "id": "69b8286b-3e17-4af8-8d4a-3783382638f6",
   "metadata": {},
   "outputs": [
    {
     "name": "stdout",
     "output_type": "stream",
     "text": [
      "0\n",
      "1\n",
      "2\n",
      "3\n",
      "4\n",
      "5\n",
      "6\n",
      "7\n",
      "8\n",
      "9\n",
      "These are number from 0 to 9\n"
     ]
    }
   ],
   "source": [
    "for i in range(10):\n",
    "    print(i)\n",
    "\n",
    "else:\n",
    "    print('These are number from 0 to 9')"
   ]
  },
  {
   "cell_type": "code",
   "execution_count": 12,
   "id": "1b06267c-0fb5-4374-9aa3-f7c6d0fe5d78",
   "metadata": {},
   "outputs": [
    {
     "name": "stdout",
     "output_type": "stream",
     "text": [
      "0\n",
      "1\n",
      "2\n",
      "3\n",
      "4\n"
     ]
    }
   ],
   "source": [
    "# controllers (continue or break)\n",
    "\n",
    "for i in range(10):\n",
    "    if i==5:\n",
    "        break\n",
    "    print(i)"
   ]
  },
  {
   "cell_type": "code",
   "execution_count": 15,
   "id": "8a415e97-8b42-4f29-9b9f-620ba471c30b",
   "metadata": {},
   "outputs": [
    {
     "name": "stdout",
     "output_type": "stream",
     "text": [
      "0\n",
      "1\n",
      "2\n",
      "3\n",
      "4\n",
      "6\n",
      "7\n",
      "8\n",
      "9\n"
     ]
    }
   ],
   "source": [
    "# continue\n",
    "for i in range(10):\n",
    "    if i==5:\n",
    "        continue\n",
    "    print(i)"
   ]
  },
  {
   "cell_type": "code",
   "execution_count": 18,
   "id": "4ce242cd-98b3-4123-8778-e4a9dd546731",
   "metadata": {},
   "outputs": [
    {
     "name": "stdout",
     "output_type": "stream",
     "text": [
      "2\n",
      "4\n",
      "6\n",
      "8\n",
      "10\n"
     ]
    }
   ],
   "source": [
    "# wap to print even number from 1 to 10.\n",
    "\n",
    "for i in range(1,10+1):\n",
    "    if i%2==0:\n",
    "        print(i)"
   ]
  },
  {
   "cell_type": "code",
   "execution_count": 20,
   "id": "d9f27cfd-d281-450a-af54-6b15859f7ce7",
   "metadata": {},
   "outputs": [
    {
     "name": "stdout",
     "output_type": "stream",
     "text": [
      "1\n",
      "3\n",
      "5\n",
      "7\n",
      "9\n"
     ]
    }
   ],
   "source": [
    "# print odd number from 1 to 10.\n",
    "for i in range(1,11):\n",
    "    if i%2!=0:\n",
    "        print(i)"
   ]
  },
  {
   "cell_type": "code",
   "execution_count": 25,
   "id": "e6a35020-384e-4bf7-b20e-c1fcefc8c4ce",
   "metadata": {},
   "outputs": [
    {
     "name": "stdout",
     "output_type": "stream",
     "text": [
      "List of Even numbers: [2, 4, 6, 8, 10]\n",
      "List of Odd numbers: [1, 3, 5, 7, 9]\n"
     ]
    }
   ],
   "source": [
    "# wap to find even and odd number from 1 to 10 and stored in list.\n",
    "\n",
    "list_even=[]\n",
    "list_odd=[]\n",
    "\n",
    "for i in range(1,11):\n",
    "    if i%2==0:\n",
    "        list_even.append(i)\n",
    "    else:\n",
    "        list_odd.append(i)\n",
    "        \n",
    "\n",
    "\n",
    "print('List of Even numbers:',list_even)\n",
    "print('List of Odd numbers:',list_odd)"
   ]
  },
  {
   "cell_type": "code",
   "execution_count": 5,
   "id": "d00cf3b2-6a9e-4386-8f69-3586d9f8368d",
   "metadata": {},
   "outputs": [
    {
     "name": "stdout",
     "output_type": "stream",
     "text": [
      "4 x 1 = 4\n",
      "4 x 2 = 8\n",
      "4 x 3 = 12\n",
      "4 x 4 = 16\n",
      "4 x 5 = 20\n",
      "4 x 6 = 24\n",
      "4 x 7 = 28\n",
      "4 x 8 = 32\n",
      "4 x 9 = 36\n",
      "4 x 10 = 40\n"
     ]
    }
   ],
   "source": [
    "# wap to print the table of 4 using loop\n",
    "\n",
    "# 4x1=4\n",
    "# 4x2=8\n",
    "# 4x3=12\n",
    "\n",
    "num=4\n",
    "for i in range(1,11):\n",
    "    print(num,'x',i,'=',num*i)"
   ]
  },
  {
   "cell_type": "code",
   "execution_count": 7,
   "id": "31b1dbfa-2df1-4770-ae39-0b9b858fd63b",
   "metadata": {},
   "outputs": [
    {
     "name": "stdout",
     "output_type": "stream",
     "text": [
      "9x1=9\n",
      "9x2=18\n",
      "9x3=27\n",
      "9x4=36\n",
      "9x5=45\n",
      "9x6=54\n",
      "9x7=63\n",
      "9x8=72\n",
      "9x9=81\n",
      "9x10=90\n"
     ]
    }
   ],
   "source": [
    "num=9\n",
    "\n",
    "for i in range(1,11):\n",
    "    print(f'{num}x{i}={num*i}')"
   ]
  },
  {
   "cell_type": "code",
   "execution_count": 8,
   "id": "ef1e9d2d-82e3-403c-bbd7-e4fa8cdca32b",
   "metadata": {},
   "outputs": [
    {
     "name": "stdout",
     "output_type": "stream",
     "text": [
      "19X1=19\n",
      "19X2=38\n",
      "19X3=57\n",
      "19X4=76\n",
      "19X5=95\n",
      "19X6=114\n",
      "19X7=133\n",
      "19X8=152\n",
      "19X9=171\n",
      "19X10=190\n"
     ]
    }
   ],
   "source": [
    "num=19\n",
    "\n",
    "for i in range(1,11):\n",
    "    print('%dX%d=%d'%(num,i,num*i))"
   ]
  },
  {
   "cell_type": "code",
   "execution_count": 10,
   "id": "25f67d6b-eed2-4b9f-9a5a-90bc70906786",
   "metadata": {},
   "outputs": [
    {
     "name": "stdin",
     "output_type": "stream",
     "text": [
      "Enter your number: 55\n"
     ]
    },
    {
     "name": "stdout",
     "output_type": "stream",
     "text": [
      "55X1=55\n",
      "55X2=110\n",
      "55X3=165\n",
      "55X4=220\n",
      "55X5=275\n",
      "55X6=330\n",
      "55X7=385\n",
      "55X8=440\n",
      "55X9=495\n",
      "55X10=550\n"
     ]
    }
   ],
   "source": [
    "# from user input to display the table.\n",
    "num=int(input('Enter your number:'))\n",
    "\n",
    "for i in range(1,11):\n",
    "    print('%dX%d=%d'%(num,i,num*i))"
   ]
  },
  {
   "cell_type": "markdown",
   "id": "b8867b5d-d401-4f83-b242-fa988e726df0",
   "metadata": {},
   "source": [
    "# while loop"
   ]
  },
  {
   "cell_type": "code",
   "execution_count": 12,
   "id": "6717b4fe-914d-487f-a5e6-6388a6d62ae8",
   "metadata": {},
   "outputs": [
    {
     "name": "stdout",
     "output_type": "stream",
     "text": [
      "0\n",
      "1\n",
      "2\n",
      "3\n",
      "4\n",
      "5\n",
      "6\n",
      "7\n",
      "8\n",
      "9\n",
      "10\n",
      "Done!\n"
     ]
    }
   ],
   "source": [
    "# wap to print the 1-10 natural number using while loop\n",
    "\n",
    "i=0\n",
    "\n",
    "while (i<=10):\n",
    "    print(i)\n",
    "    i+=1   # i=i+1\n",
    "\n",
    "else:\n",
    "    print('Done!')"
   ]
  },
  {
   "cell_type": "code",
   "execution_count": 17,
   "id": "0b83f38c-de31-4e19-ab87-48f10aa67fb7",
   "metadata": {},
   "outputs": [
    {
     "name": "stdin",
     "output_type": "stream",
     "text": [
      "Enter any number: 10\n"
     ]
    },
    {
     "name": "stdout",
     "output_type": "stream",
     "text": [
      "1,2,3,4,5,6,7,8,9,10,"
     ]
    }
   ],
   "source": [
    "# wap to take range form user and display the value.\n",
    "\n",
    "x=int(input('Enter any number:'))\n",
    "\n",
    "i=1\n",
    "while (i<=x):\n",
    "    print(i,end=',')\n",
    "    i+=1"
   ]
  },
  {
   "cell_type": "code",
   "execution_count": 18,
   "id": "e9c30c86-3116-4a16-b63b-37a958e3688a",
   "metadata": {},
   "outputs": [
    {
     "name": "stdin",
     "output_type": "stream",
     "text": [
      "Enter any number: 10\n"
     ]
    },
    {
     "name": "stdout",
     "output_type": "stream",
     "text": [
      "List is: [1, 2, 3, 4, 5, 6, 7, 8, 9, 10]\n"
     ]
    }
   ],
   "source": [
    "x=int(input('Enter any number:'))\n",
    "list_1=[]\n",
    "i=1\n",
    "while (i<=x):\n",
    "    list_1.append(i)\n",
    "    i+=1\n",
    "print('List is:',list_1)"
   ]
  },
  {
   "cell_type": "code",
   "execution_count": 21,
   "id": "567e89ae-9c1e-4af2-808e-050ed834b43f",
   "metadata": {},
   "outputs": [
    {
     "name": "stdin",
     "output_type": "stream",
     "text": [
      "Enter your range here: 20\n"
     ]
    },
    {
     "name": "stdout",
     "output_type": "stream",
     "text": [
      "Even Number list is: [0, 2, 4, 6, 8, 10, 12, 14, 16, 18, 20] \n",
      "Odd Number list is: [1, 3, 5, 7, 9, 11, 13, 15, 17, 19]\n"
     ]
    }
   ],
   "source": [
    "# wap to print even or odd numebrs from user input range.\n",
    "\n",
    "n=int(input('Enter your range here:'))\n",
    "even_list=[]\n",
    "odd_list=[]\n",
    "i=0\n",
    "while (i<=n):\n",
    "    if i%2==0:\n",
    "        even_list.append(i)\n",
    "    else:\n",
    "        odd_list.append(i)\n",
    "    i+=1\n",
    "\n",
    "\n",
    "print('Even Number list is:',even_list,'\\nOdd Number list is:',odd_list)"
   ]
  },
  {
   "cell_type": "code",
   "execution_count": 22,
   "id": "f78562fc-bc0b-46d8-844d-17c4cb994453",
   "metadata": {},
   "outputs": [
    {
     "name": "stdin",
     "output_type": "stream",
     "text": [
      "Enter your range here: 20\n"
     ]
    },
    {
     "name": "stdout",
     "output_type": "stream",
     "text": [
      "Even Number list is: [0, 2, 4, 6, 8, 10, 12, 14, 16, 18, 20] = 110 \n",
      "Odd Number list is: [1, 3, 5, 7, 9, 11, 13, 15, 17, 19] = 100\n"
     ]
    }
   ],
   "source": [
    "# wap to print even or odd numebrs from user input range.\n",
    "\n",
    "n=int(input('Enter your range here:'))\n",
    "even_list=[]\n",
    "odd_list=[]\n",
    "i=0\n",
    "\n",
    "sum_even=0\n",
    "sum_odd=0\n",
    "while (i<=n):\n",
    "    if i%2==0:\n",
    "        even_list.append(i)\n",
    "        sum_even+=i\n",
    "    else:\n",
    "        odd_list.append(i)\n",
    "        sum_odd+=i\n",
    "    i+=1\n",
    "print('Even Number list is:',even_list,'=',sum_even,'\\nOdd Number list is:',odd_list,'=',sum_odd)"
   ]
  },
  {
   "cell_type": "code",
   "execution_count": 27,
   "id": "9b75003b-e293-4c92-89d7-afbb3f589d1d",
   "metadata": {},
   "outputs": [
    {
     "name": "stdout",
     "output_type": "stream",
     "text": [
      "0\n",
      "1\n",
      "2\n",
      "3\n",
      "4\n"
     ]
    }
   ],
   "source": [
    "# Continue and break\n",
    "\n",
    "\n",
    "n=10\n",
    "i=0\n",
    "\n",
    "while i<=n:\n",
    "    if i==5:\n",
    "        break\n",
    "    print(i)\n",
    "    i+=1\n",
    "    "
   ]
  },
  {
   "cell_type": "code",
   "execution_count": 36,
   "id": "1bf8cbda-50ce-4fa0-a3d9-54566413d617",
   "metadata": {},
   "outputs": [
    {
     "name": "stdout",
     "output_type": "stream",
     "text": [
      "1\n",
      "2\n",
      "3\n",
      "4\n",
      "6\n",
      "7\n",
      "8\n",
      "9\n",
      "10\n"
     ]
    }
   ],
   "source": [
    "# continue in while loop\n",
    "n=10\n",
    "i=0\n",
    "\n",
    "while i<n:\n",
    "    \n",
    "    i+=1\n",
    "    if i==5:\n",
    "        continue\n",
    "    \n",
    "    print(i)"
   ]
  },
  {
   "cell_type": "code",
   "execution_count": 37,
   "id": "fb830099-b4ad-4144-b325-cb117db5413d",
   "metadata": {},
   "outputs": [],
   "source": [
    "# wap to create table from user input value."
   ]
  },
  {
   "cell_type": "code",
   "execution_count": 38,
   "id": "9158e46f-2863-443c-91fc-9cc4258afd6b",
   "metadata": {},
   "outputs": [],
   "source": [
    "#1 write a program to count the total number of digits in a number using a while  loop. [for, while]\n",
    "# for eample the number is 75869 = so output is 5.\n",
    "\n",
    "#2. write a progrm that keeps on accepting a number from the user until the user enters zero.\n",
    "# Display the sum and average of all the number.\n",
    "\n",
    "#3. wap to print the first 25 odd numbers? and find their sum and average  and it's total length of the value.\n",
    "\n",
    "\n",
    "#4. wap to print sum, average and length of positive or negative value given by the user input range.\n",
    "\n",
    "\n",
    "# 5. wap that takes a year as input and check if it is a leap year or not.\n",
    "\n",
    "#6. wap to check if a given number is even or not.\n",
    "\n",
    "# 7. given a list of names, print all the names starting wht the letter 'a'.\n",
    "# names=['Amruta','Amrit',\"Bablu\",\"Dablu\",'Motu',\"Patlu\",\"Tom\",\"Harry\",\"jack\",\"Jerry\",\"Anuroop\",'Ankita',\"Anpurna\"]\n",
    "\n",
    "#8. given a list of words, count the number of words more then five characters.\n",
    "# words=['Apple','Ball',\"Cat\",\"Dog\",\"Elephant\",\"Fish\",\"Gun\",]\n",
    "\n",
    "#9. write a progam to that calculates the factorial of a given number.\n",
    "\n",
    "# 10. wap to take words from user and check it is palendrome or not.\n"
   ]
  },
  {
   "cell_type": "code",
   "execution_count": null,
   "id": "8cce51c1-5e67-4418-a3d2-d27fed7db94f",
   "metadata": {},
   "outputs": [],
   "source": []
  },
  {
   "cell_type": "code",
   "execution_count": 41,
   "id": "e3c72f90-2c9f-407f-93e8-ac2fd4c602b7",
   "metadata": {},
   "outputs": [
    {
     "name": "stdin",
     "output_type": "stream",
     "text": [
      "Enter your range 6\n",
      "Enter your value here:1 10\n",
      "Enter your value here:2 -50\n",
      "Enter your value here:3 -500\n",
      "Enter your value here:4 400\n",
      "Enter your value here:5 100\n",
      "Enter your value here:6 -600\n"
     ]
    }
   ],
   "source": [
    "n=int(input('Enter your range'))\n",
    "\n",
    "for i in range(1,n+1):\n",
    "    value=int(input(f'Enter your value here:{i}'))"
   ]
  },
  {
   "cell_type": "code",
   "execution_count": null,
   "id": "a35b5869-ff9a-4096-bb2c-68844f4b502d",
   "metadata": {},
   "outputs": [],
   "source": []
  }
 ],
 "metadata": {
  "kernelspec": {
   "display_name": "Python 3 (ipykernel)",
   "language": "python",
   "name": "python3"
  },
  "language_info": {
   "codemirror_mode": {
    "name": "ipython",
    "version": 3
   },
   "file_extension": ".py",
   "mimetype": "text/x-python",
   "name": "python",
   "nbconvert_exporter": "python",
   "pygments_lexer": "ipython3",
   "version": "3.12.2"
  }
 },
 "nbformat": 4,
 "nbformat_minor": 5
}
