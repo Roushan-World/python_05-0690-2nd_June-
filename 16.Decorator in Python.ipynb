{
 "cells": [
  {
   "cell_type": "markdown",
   "id": "cb5509a9-b76a-4457-a601-e8873b26af8d",
   "metadata": {},
   "source": [
    "# 16. Decorators in Python\n",
    "\n",
    " * __Decorators provide a simple syntax for calling higher-order functions.__\n",
    " * __By definition, a decorator is a function that takes another function and extends their behaviour of the latter function without explicitly modifying it.__\n",
    " * __A decorator in Python is a function that takes another function as it's argumnet, and return yet another function.__\n",
    " * __Decorators can extremently useful as they allow the extension of an existing functions, without modification to the original function source code.__\n",
    " * __In fact, there are two types of decorators in Python including class decorators and function decorators.__\n",
    " * __In application, decorators are majorly used in creating middle layer in the backed, it performs task like token authentication, validation, image compression and many more.__"
   ]
  },
  {
   "cell_type": "code",
   "execution_count": 1,
   "id": "1106bad4-d63a-41ba-9d70-d2dddf7004f6",
   "metadata": {},
   "outputs": [],
   "source": [
    "import decorator"
   ]
  },
  {
   "cell_type": "code",
   "execution_count": 2,
   "id": "3f0e1c1e-494a-45f8-aceb-20946d224395",
   "metadata": {},
   "outputs": [],
   "source": [
    "from decorator import *"
   ]
  },
  {
   "cell_type": "code",
   "execution_count": 3,
   "id": "1d9de0d2-cae1-4aac-817b-46392bbc44c2",
   "metadata": {},
   "outputs": [
    {
     "name": "stdout",
     "output_type": "stream",
     "text": [
      "Hello World\n"
     ]
    }
   ],
   "source": [
    "def mytext(text):\n",
    "    print(text)\n",
    "\n",
    "x=mytext(\"Hello World\")\n",
    "x"
   ]
  },
  {
   "cell_type": "code",
   "execution_count": 4,
   "id": "b0a73232-1093-4ea3-91e8-0887d64dc37e",
   "metadata": {},
   "outputs": [
    {
     "name": "stdout",
     "output_type": "stream",
     "text": [
      "hello world\n"
     ]
    }
   ],
   "source": [
    "y=mytext\n",
    "y('hello world')"
   ]
  },
  {
   "cell_type": "code",
   "execution_count": 5,
   "id": "57013cb4-8415-496b-b29e-e0bc2fbd04eb",
   "metadata": {},
   "outputs": [
    {
     "data": {
      "text/plain": [
       "49"
      ]
     },
     "execution_count": 5,
     "metadata": {},
     "output_type": "execute_result"
    }
   ],
   "source": [
    "def multi(num):\n",
    "    return num*num\n",
    "\n",
    "multi(7)"
   ]
  },
  {
   "cell_type": "code",
   "execution_count": 11,
   "id": "a65e700e-de48-4bb9-b258-499943bb0519",
   "metadata": {},
   "outputs": [
    {
     "name": "stdout",
     "output_type": "stream",
     "text": [
      "Python is a programming language.\n",
      "Hello world\n",
      "Congratulations!\n"
     ]
    }
   ],
   "source": [
    "# Nested function\n",
    "\n",
    "def mytext():\n",
    "    print('Python is a programming language.')\n",
    "    def new_text():\n",
    "        print(\"Hello world\")\n",
    "    def message():\n",
    "        print(\"Congratulations!\")\n",
    "    new_text()\n",
    "    message()\n",
    "\n",
    "mytext()\n"
   ]
  },
  {
   "cell_type": "code",
   "execution_count": 14,
   "id": "3c56411c-aff1-4066-8ba6-fd5386dd3896",
   "metadata": {},
   "outputs": [
    {
     "data": {
      "text/plain": [
       "12.56"
      ]
     },
     "execution_count": 14,
     "metadata": {},
     "output_type": "execute_result"
    }
   ],
   "source": [
    "def multi(x):\n",
    "    return x*3.14\n",
    "def divide(x):\n",
    "    return x/3.14\n",
    "\n",
    "def add(x):\n",
    "    return x+5\n",
    "\n",
    "def operator(function,value):\n",
    "    number=function(value)\n",
    "    return number\n",
    "\n",
    "\n",
    "obj1=operator(multi,4)\n",
    "obj1"
   ]
  },
  {
   "cell_type": "code",
   "execution_count": 13,
   "id": "9f70d6cb-86ef-4eaa-8ad4-f29d68102ea3",
   "metadata": {},
   "outputs": [
    {
     "data": {
      "text/plain": [
       "3.184713375796178"
      ]
     },
     "execution_count": 13,
     "metadata": {},
     "output_type": "execute_result"
    }
   ],
   "source": [
    "obj2=operator(divide,10)\n",
    "obj2"
   ]
  },
  {
   "cell_type": "code",
   "execution_count": 15,
   "id": "7a552e7b-8e15-4f3f-b47e-b7383fc5ba79",
   "metadata": {},
   "outputs": [
    {
     "data": {
      "text/plain": [
       "15"
      ]
     },
     "execution_count": 15,
     "metadata": {},
     "output_type": "execute_result"
    }
   ],
   "source": [
    "obj3=operator(add,10)\n",
    "obj3"
   ]
  },
  {
   "cell_type": "code",
   "execution_count": 22,
   "id": "55198fda-6790-4ca7-be9a-61b1bf41b785",
   "metadata": {},
   "outputs": [
    {
     "name": "stdin",
     "output_type": "stream",
     "text": [
      "Enter your text here: hey\n"
     ]
    },
    {
     "data": {
      "text/plain": [
       "'HEY'"
      ]
     },
     "execution_count": 22,
     "metadata": {},
     "output_type": "execute_result"
    }
   ],
   "source": [
    "# now creating decorator\n",
    "\n",
    "def decorated_upper_case(func):\n",
    "    def charu():\n",
    "        function=func()\n",
    "        text_upper=function.upper()\n",
    "        return text_upper\n",
    "    return charu\n",
    "\n",
    "\n",
    "def text():\n",
    "    y=input('Enter your text here:')\n",
    "    return y\n",
    "\n",
    "obj=decorated_upper_case(text)\n",
    "obj()"
   ]
  },
  {
   "cell_type": "code",
   "execution_count": 23,
   "id": "80affea2-5004-4a6d-9744-f939a73a1d03",
   "metadata": {},
   "outputs": [
    {
     "name": "stdin",
     "output_type": "stream",
     "text": [
      "Enter your text here: hello\n"
     ]
    },
    {
     "data": {
      "text/plain": [
       "'HELLO'"
      ]
     },
     "execution_count": 23,
     "metadata": {},
     "output_type": "execute_result"
    }
   ],
   "source": [
    "obj=decorated_upper_case(text)\n",
    "obj()"
   ]
  },
  {
   "cell_type": "code",
   "execution_count": 28,
   "id": "70ecc790-e785-4119-be5f-2f3f6f6a34db",
   "metadata": {},
   "outputs": [
    {
     "data": {
      "text/plain": [
       "'HELLO HOW ARE YOUR?'"
      ]
     },
     "execution_count": 28,
     "metadata": {},
     "output_type": "execute_result"
    }
   ],
   "source": [
    "@decorated_upper_case\n",
    "def text1():\n",
    "    return \"Hello How are your?\"\n",
    "\n",
    "text1()"
   ]
  },
  {
   "cell_type": "code",
   "execution_count": 31,
   "id": "415d40b3-28f7-4da9-a420-db8fcb57a431",
   "metadata": {},
   "outputs": [
    {
     "data": {
      "text/plain": [
       "'THE QUICK BROWN FOX JUMP OVER THE LAZY DOG.'"
      ]
     },
     "execution_count": 31,
     "metadata": {},
     "output_type": "execute_result"
    }
   ],
   "source": [
    "@decorated_upper_case\n",
    "def text2():\n",
    "    return 'The quick brown fox jump over the lazy dog.'\n",
    "\n",
    "text2()"
   ]
  },
  {
   "cell_type": "code",
   "execution_count": null,
   "id": "ca673de3-2726-4b92-8570-22b56d405a65",
   "metadata": {},
   "outputs": [],
   "source": []
  }
 ],
 "metadata": {
  "kernelspec": {
   "display_name": "Python 3 (ipykernel)",
   "language": "python",
   "name": "python3"
  },
  "language_info": {
   "codemirror_mode": {
    "name": "ipython",
    "version": 3
   },
   "file_extension": ".py",
   "mimetype": "text/x-python",
   "name": "python",
   "nbconvert_exporter": "python",
   "pygments_lexer": "ipython3",
   "version": "3.12.2"
  }
 },
 "nbformat": 4,
 "nbformat_minor": 5
}
