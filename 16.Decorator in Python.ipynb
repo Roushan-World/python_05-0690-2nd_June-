{
 "cells": [
  {
   "cell_type": "markdown",
   "id": "cb5509a9-b76a-4457-a601-e8873b26af8d",
   "metadata": {},
   "source": [
    "# 16. Decorators in Python\n",
    "\n",
    " * __Decorators provide a simple syntax for calling higher-order functions.__\n",
    " * __By definition, a decorator is a function that takes another function and extends their behaviour of the latter function without explicitly modifying it.__\n",
    " * __A decorator in Python is a function that takes another function as it's argumnet, and return yet another function.__\n",
    " * __Decorators can extremently useful as they allow the extension of an existing functions, without modification to the original function source code.__\n",
    " * __In fact, there are two types of decorators in Python including class decorators and function decorators.__\n",
    " * __In application, decorators are majorly used in creating middle layer in the backed, it performs task like token authentication, validation, image compression and many more.__"
   ]
  },
  {
   "cell_type": "code",
   "execution_count": null,
   "id": "1106bad4-d63a-41ba-9d70-d2dddf7004f6",
   "metadata": {},
   "outputs": [],
   "source": []
  }
 ],
 "metadata": {
  "kernelspec": {
   "display_name": "Python 3 (ipykernel)",
   "language": "python",
   "name": "python3"
  },
  "language_info": {
   "codemirror_mode": {
    "name": "ipython",
    "version": 3
   },
   "file_extension": ".py",
   "mimetype": "text/x-python",
   "name": "python",
   "nbconvert_exporter": "python",
   "pygments_lexer": "ipython3",
   "version": "3.12.2"
  }
 },
 "nbformat": 4,
 "nbformat_minor": 5
}
